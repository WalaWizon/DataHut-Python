{
 "cells": [
  {
   "cell_type": "markdown",
   "id": "edfbc3f5",
   "metadata": {},
   "source": [
    "# Kaggle - 911 &nbsp;&nbsp;&nbsp;&nbsp;&nbsp;&nbsp;&nbsp;&nbsp;&nbsp;&nbsp;&nbsp;&nbsp;&nbsp;&nbsp;&nbsp;&nbsp;&nbsp;&nbsp;&nbsp;&nbsp;&nbsp;&nbsp;&nbsp;&nbsp;&nbsp;&nbsp;&nbsp;&nbsp;&nbsp;&nbsp;&nbsp;&nbsp;&nbsp;&nbsp;Idan Ron\n"
   ]
  },
  {
   "cell_type": "markdown",
   "id": "6efdf6f6",
   "metadata": {},
   "source": [
    "## Demonstration of skills - Python libraries"
   ]
  },
  {
   "cell_type": "markdown",
   "id": "595a5246",
   "metadata": {},
   "source": [
    "NOTE: The questions were taken from the \"Python for Data-Science\" Course by Jose Portilla. all of the code was written by me.\n"<br>,
    "NOTE2: Use the link in the README file for notebook viewer.\n",
    "\n",
    "      \n",
    "   \n",
    "      "
   ]
  },
  {
   "cell_type": "markdown",
   "id": "1aab4f59",
   "metadata": {},
   "source": [
    "### Importing relevant libraries"
   ]
  },
  {
   "cell_type": "code",
   "execution_count": 1,
   "id": "d9cecf42",
   "metadata": {},
   "outputs": [],
   "source": [
    "import numpy as np\n",
    "import pandas as pd\n",
    "import matplotlib.pyplot as plt\n",
    "import seaborn as sns\n",
    "\n",
    "%matplotlib inline"
   ]
  },
  {
   "cell_type": "markdown",
   "id": "641ac526",
   "metadata": {},
   "source": [
    "### Reading the csv file and exploring it"
   ]
  },
  {
   "cell_type": "code",
   "execution_count": 3,
   "id": "e8d87ec9",
   "metadata": {},
   "outputs": [
    {
     "name": "stdout",
     "output_type": "stream",
     "text": [
      "<class 'pandas.core.frame.DataFrame'>\n",
      "RangeIndex: 99492 entries, 0 to 99491\n",
      "Data columns (total 9 columns):\n",
      " #   Column     Non-Null Count  Dtype  \n",
      "---  ------     --------------  -----  \n",
      " 0   lat        99492 non-null  float64\n",
      " 1   lng        99492 non-null  float64\n",
      " 2   desc       99492 non-null  object \n",
      " 3   zip        86637 non-null  float64\n",
      " 4   title      99492 non-null  object \n",
      " 5   timeStamp  99492 non-null  object \n",
      " 6   twp        99449 non-null  object \n",
      " 7   addr       98973 non-null  object \n",
      " 8   e          99492 non-null  int64  \n",
      "dtypes: float64(3), int64(1), object(5)\n",
      "memory usage: 6.8+ MB\n"
     ]
    }
   ],
   "source": [
    "df = pd.read_csv('911.csv')\n",
    "df.info()"
   ]
  },
  {
   "cell_type": "code",
   "execution_count": 13,
   "id": "20e037f9",
   "metadata": {},
   "outputs": [
    {
     "data": {
      "text/html": [
       "<div>\n",
       "<style scoped>\n",
       "    .dataframe tbody tr th:only-of-type {\n",
       "        vertical-align: middle;\n",
       "    }\n",
       "\n",
       "    .dataframe tbody tr th {\n",
       "        vertical-align: top;\n",
       "    }\n",
       "\n",
       "    .dataframe thead th {\n",
       "        text-align: right;\n",
       "    }\n",
       "</style>\n",
       "<table border=\"1\" class=\"dataframe\">\n",
       "  <thead>\n",
       "    <tr style=\"text-align: right;\">\n",
       "      <th></th>\n",
       "      <th>lat</th>\n",
       "      <th>lng</th>\n",
       "      <th>desc</th>\n",
       "      <th>zip</th>\n",
       "      <th>title</th>\n",
       "      <th>timeStamp</th>\n",
       "      <th>twp</th>\n",
       "      <th>addr</th>\n",
       "      <th>e</th>\n",
       "    </tr>\n",
       "  </thead>\n",
       "  <tbody>\n",
       "    <tr>\n",
       "      <th>0</th>\n",
       "      <td>40.297876</td>\n",
       "      <td>-75.581294</td>\n",
       "      <td>REINDEER CT &amp; DEAD END;  NEW HANOVER; Station ...</td>\n",
       "      <td>19525.0</td>\n",
       "      <td>EMS: BACK PAINS/INJURY</td>\n",
       "      <td>2015-12-10 17:40:00</td>\n",
       "      <td>NEW HANOVER</td>\n",
       "      <td>REINDEER CT &amp; DEAD END</td>\n",
       "      <td>1</td>\n",
       "    </tr>\n",
       "    <tr>\n",
       "      <th>1</th>\n",
       "      <td>40.258061</td>\n",
       "      <td>-75.264680</td>\n",
       "      <td>BRIAR PATH &amp; WHITEMARSH LN;  HATFIELD TOWNSHIP...</td>\n",
       "      <td>19446.0</td>\n",
       "      <td>EMS: DIABETIC EMERGENCY</td>\n",
       "      <td>2015-12-10 17:40:00</td>\n",
       "      <td>HATFIELD TOWNSHIP</td>\n",
       "      <td>BRIAR PATH &amp; WHITEMARSH LN</td>\n",
       "      <td>1</td>\n",
       "    </tr>\n",
       "    <tr>\n",
       "      <th>2</th>\n",
       "      <td>40.121182</td>\n",
       "      <td>-75.351975</td>\n",
       "      <td>HAWS AVE; NORRISTOWN; 2015-12-10 @ 14:39:21-St...</td>\n",
       "      <td>19401.0</td>\n",
       "      <td>Fire: GAS-ODOR/LEAK</td>\n",
       "      <td>2015-12-10 17:40:00</td>\n",
       "      <td>NORRISTOWN</td>\n",
       "      <td>HAWS AVE</td>\n",
       "      <td>1</td>\n",
       "    </tr>\n",
       "    <tr>\n",
       "      <th>3</th>\n",
       "      <td>40.116153</td>\n",
       "      <td>-75.343513</td>\n",
       "      <td>AIRY ST &amp; SWEDE ST;  NORRISTOWN; Station 308A;...</td>\n",
       "      <td>19401.0</td>\n",
       "      <td>EMS: CARDIAC EMERGENCY</td>\n",
       "      <td>2015-12-10 17:40:01</td>\n",
       "      <td>NORRISTOWN</td>\n",
       "      <td>AIRY ST &amp; SWEDE ST</td>\n",
       "      <td>1</td>\n",
       "    </tr>\n",
       "    <tr>\n",
       "      <th>4</th>\n",
       "      <td>40.251492</td>\n",
       "      <td>-75.603350</td>\n",
       "      <td>CHERRYWOOD CT &amp; DEAD END;  LOWER POTTSGROVE; S...</td>\n",
       "      <td>NaN</td>\n",
       "      <td>EMS: DIZZINESS</td>\n",
       "      <td>2015-12-10 17:40:01</td>\n",
       "      <td>LOWER POTTSGROVE</td>\n",
       "      <td>CHERRYWOOD CT &amp; DEAD END</td>\n",
       "      <td>1</td>\n",
       "    </tr>\n",
       "  </tbody>\n",
       "</table>\n",
       "</div>"
      ],
      "text/plain": [
       "         lat        lng                                               desc  \\\n",
       "0  40.297876 -75.581294  REINDEER CT & DEAD END;  NEW HANOVER; Station ...   \n",
       "1  40.258061 -75.264680  BRIAR PATH & WHITEMARSH LN;  HATFIELD TOWNSHIP...   \n",
       "2  40.121182 -75.351975  HAWS AVE; NORRISTOWN; 2015-12-10 @ 14:39:21-St...   \n",
       "3  40.116153 -75.343513  AIRY ST & SWEDE ST;  NORRISTOWN; Station 308A;...   \n",
       "4  40.251492 -75.603350  CHERRYWOOD CT & DEAD END;  LOWER POTTSGROVE; S...   \n",
       "\n",
       "       zip                    title            timeStamp                twp  \\\n",
       "0  19525.0   EMS: BACK PAINS/INJURY  2015-12-10 17:40:00        NEW HANOVER   \n",
       "1  19446.0  EMS: DIABETIC EMERGENCY  2015-12-10 17:40:00  HATFIELD TOWNSHIP   \n",
       "2  19401.0      Fire: GAS-ODOR/LEAK  2015-12-10 17:40:00         NORRISTOWN   \n",
       "3  19401.0   EMS: CARDIAC EMERGENCY  2015-12-10 17:40:01         NORRISTOWN   \n",
       "4      NaN           EMS: DIZZINESS  2015-12-10 17:40:01   LOWER POTTSGROVE   \n",
       "\n",
       "                         addr  e  \n",
       "0      REINDEER CT & DEAD END  1  \n",
       "1  BRIAR PATH & WHITEMARSH LN  1  \n",
       "2                    HAWS AVE  1  \n",
       "3          AIRY ST & SWEDE ST  1  \n",
       "4    CHERRYWOOD CT & DEAD END  1  "
      ]
     },
     "execution_count": 13,
     "metadata": {},
     "output_type": "execute_result"
    }
   ],
   "source": [
    "df.head()"
   ]
  },
  {
   "cell_type": "markdown",
   "id": "074c4410",
   "metadata": {},
   "source": [
    "## Basic Questions"
   ]
  },
  {
   "cell_type": "markdown",
   "id": "e0e98fb3",
   "metadata": {},
   "source": [
    "What are the top 5 zipcodes for 911 calls?"
   ]
  },
  {
   "cell_type": "code",
   "execution_count": 4,
   "id": "9446992d",
   "metadata": {},
   "outputs": [
    {
     "data": {
      "text/plain": [
       "19401.0    6979\n",
       "19464.0    6643\n",
       "19403.0    4854\n",
       "19446.0    4748\n",
       "19406.0    3174\n",
       "Name: zip, dtype: int64"
      ]
     },
     "execution_count": 4,
     "metadata": {},
     "output_type": "execute_result"
    }
   ],
   "source": [
    "df['zip'].value_counts().head(5)"
   ]
  },
  {
   "cell_type": "markdown",
   "id": "0921fcb1",
   "metadata": {},
   "source": [
    "What are the top 5 townships (twp) for 911 calls?"
   ]
  },
  {
   "cell_type": "code",
   "execution_count": 5,
   "id": "9aaf9321",
   "metadata": {},
   "outputs": [
    {
     "data": {
      "text/plain": [
       "LOWER MERION    8443\n",
       "ABINGTON        5977\n",
       "NORRISTOWN      5890\n",
       "UPPER MERION    5227\n",
       "CHELTENHAM      4575\n",
       "Name: twp, dtype: int64"
      ]
     },
     "execution_count": 5,
     "metadata": {},
     "output_type": "execute_result"
    }
   ],
   "source": [
    "df['twp'].value_counts().head(5)"
   ]
  },
  {
   "cell_type": "markdown",
   "id": "04dd810a",
   "metadata": {},
   "source": [
    "How many unique title codes are in the 'title' column?"
   ]
  },
  {
   "cell_type": "code",
   "execution_count": 6,
   "id": "9060c558",
   "metadata": {},
   "outputs": [
    {
     "data": {
      "text/plain": [
       "110"
      ]
     },
     "execution_count": 6,
     "metadata": {},
     "output_type": "execute_result"
    }
   ],
   "source": [
    "df['title'].nunique()"
   ]
  },
  {
   "cell_type": "markdown",
   "id": "a7e2015d",
   "metadata": {},
   "source": [
    "## Creating new features"
   ]
  },
  {
   "cell_type": "markdown",
   "id": "30b8bb0c",
   "metadata": {},
   "source": [
    "In the titles column there are \"Reasons/Departments\" specified before the title code. These are EMS, Fire, and Traffic.\n",
    "\n",
    "Use .apply() with a custom lambda expression to create a new column called \"Reason\" that contains this string value."
   ]
  },
  {
   "cell_type": "code",
   "execution_count": 7,
   "id": "87911124",
   "metadata": {},
   "outputs": [
    {
     "data": {
      "text/html": [
       "<div>\n",
       "<style scoped>\n",
       "    .dataframe tbody tr th:only-of-type {\n",
       "        vertical-align: middle;\n",
       "    }\n",
       "\n",
       "    .dataframe tbody tr th {\n",
       "        vertical-align: top;\n",
       "    }\n",
       "\n",
       "    .dataframe thead th {\n",
       "        text-align: right;\n",
       "    }\n",
       "</style>\n",
       "<table border=\"1\" class=\"dataframe\">\n",
       "  <thead>\n",
       "    <tr style=\"text-align: right;\">\n",
       "      <th></th>\n",
       "      <th>lat</th>\n",
       "      <th>lng</th>\n",
       "      <th>desc</th>\n",
       "      <th>zip</th>\n",
       "      <th>title</th>\n",
       "      <th>timeStamp</th>\n",
       "      <th>twp</th>\n",
       "      <th>addr</th>\n",
       "      <th>e</th>\n",
       "      <th>Reason</th>\n",
       "    </tr>\n",
       "  </thead>\n",
       "  <tbody>\n",
       "    <tr>\n",
       "      <th>0</th>\n",
       "      <td>40.297876</td>\n",
       "      <td>-75.581294</td>\n",
       "      <td>REINDEER CT &amp; DEAD END;  NEW HANOVER; Station ...</td>\n",
       "      <td>19525.0</td>\n",
       "      <td>EMS: BACK PAINS/INJURY</td>\n",
       "      <td>2015-12-10 17:40:00</td>\n",
       "      <td>NEW HANOVER</td>\n",
       "      <td>REINDEER CT &amp; DEAD END</td>\n",
       "      <td>1</td>\n",
       "      <td>EMS</td>\n",
       "    </tr>\n",
       "    <tr>\n",
       "      <th>1</th>\n",
       "      <td>40.258061</td>\n",
       "      <td>-75.264680</td>\n",
       "      <td>BRIAR PATH &amp; WHITEMARSH LN;  HATFIELD TOWNSHIP...</td>\n",
       "      <td>19446.0</td>\n",
       "      <td>EMS: DIABETIC EMERGENCY</td>\n",
       "      <td>2015-12-10 17:40:00</td>\n",
       "      <td>HATFIELD TOWNSHIP</td>\n",
       "      <td>BRIAR PATH &amp; WHITEMARSH LN</td>\n",
       "      <td>1</td>\n",
       "      <td>EMS</td>\n",
       "    </tr>\n",
       "    <tr>\n",
       "      <th>2</th>\n",
       "      <td>40.121182</td>\n",
       "      <td>-75.351975</td>\n",
       "      <td>HAWS AVE; NORRISTOWN; 2015-12-10 @ 14:39:21-St...</td>\n",
       "      <td>19401.0</td>\n",
       "      <td>Fire: GAS-ODOR/LEAK</td>\n",
       "      <td>2015-12-10 17:40:00</td>\n",
       "      <td>NORRISTOWN</td>\n",
       "      <td>HAWS AVE</td>\n",
       "      <td>1</td>\n",
       "      <td>Fire</td>\n",
       "    </tr>\n",
       "    <tr>\n",
       "      <th>3</th>\n",
       "      <td>40.116153</td>\n",
       "      <td>-75.343513</td>\n",
       "      <td>AIRY ST &amp; SWEDE ST;  NORRISTOWN; Station 308A;...</td>\n",
       "      <td>19401.0</td>\n",
       "      <td>EMS: CARDIAC EMERGENCY</td>\n",
       "      <td>2015-12-10 17:40:01</td>\n",
       "      <td>NORRISTOWN</td>\n",
       "      <td>AIRY ST &amp; SWEDE ST</td>\n",
       "      <td>1</td>\n",
       "      <td>EMS</td>\n",
       "    </tr>\n",
       "    <tr>\n",
       "      <th>4</th>\n",
       "      <td>40.251492</td>\n",
       "      <td>-75.603350</td>\n",
       "      <td>CHERRYWOOD CT &amp; DEAD END;  LOWER POTTSGROVE; S...</td>\n",
       "      <td>NaN</td>\n",
       "      <td>EMS: DIZZINESS</td>\n",
       "      <td>2015-12-10 17:40:01</td>\n",
       "      <td>LOWER POTTSGROVE</td>\n",
       "      <td>CHERRYWOOD CT &amp; DEAD END</td>\n",
       "      <td>1</td>\n",
       "      <td>EMS</td>\n",
       "    </tr>\n",
       "  </tbody>\n",
       "</table>\n",
       "</div>"
      ],
      "text/plain": [
       "         lat        lng                                               desc  \\\n",
       "0  40.297876 -75.581294  REINDEER CT & DEAD END;  NEW HANOVER; Station ...   \n",
       "1  40.258061 -75.264680  BRIAR PATH & WHITEMARSH LN;  HATFIELD TOWNSHIP...   \n",
       "2  40.121182 -75.351975  HAWS AVE; NORRISTOWN; 2015-12-10 @ 14:39:21-St...   \n",
       "3  40.116153 -75.343513  AIRY ST & SWEDE ST;  NORRISTOWN; Station 308A;...   \n",
       "4  40.251492 -75.603350  CHERRYWOOD CT & DEAD END;  LOWER POTTSGROVE; S...   \n",
       "\n",
       "       zip                    title            timeStamp                twp  \\\n",
       "0  19525.0   EMS: BACK PAINS/INJURY  2015-12-10 17:40:00        NEW HANOVER   \n",
       "1  19446.0  EMS: DIABETIC EMERGENCY  2015-12-10 17:40:00  HATFIELD TOWNSHIP   \n",
       "2  19401.0      Fire: GAS-ODOR/LEAK  2015-12-10 17:40:00         NORRISTOWN   \n",
       "3  19401.0   EMS: CARDIAC EMERGENCY  2015-12-10 17:40:01         NORRISTOWN   \n",
       "4      NaN           EMS: DIZZINESS  2015-12-10 17:40:01   LOWER POTTSGROVE   \n",
       "\n",
       "                         addr  e Reason  \n",
       "0      REINDEER CT & DEAD END  1    EMS  \n",
       "1  BRIAR PATH & WHITEMARSH LN  1    EMS  \n",
       "2                    HAWS AVE  1   Fire  \n",
       "3          AIRY ST & SWEDE ST  1    EMS  \n",
       "4    CHERRYWOOD CT & DEAD END  1    EMS  "
      ]
     },
     "execution_count": 7,
     "metadata": {},
     "output_type": "execute_result"
    }
   ],
   "source": [
    "df['Reason'] = df['title'].apply(lambda title:title.split(':')[0])\n",
    "df.head()"
   ]
  },
  {
   "cell_type": "markdown",
   "id": "f32c7a49",
   "metadata": {},
   "source": [
    "What is the most common Reason for a 911 call based off of this new column?"
   ]
  },
  {
   "cell_type": "code",
   "execution_count": 8,
   "id": "5dd67d89",
   "metadata": {},
   "outputs": [
    {
     "data": {
      "text/plain": [
       "EMS        48877\n",
       "Traffic    35695\n",
       "Fire       14920\n",
       "Name: Reason, dtype: int64"
      ]
     },
     "execution_count": 8,
     "metadata": {},
     "output_type": "execute_result"
    }
   ],
   "source": [
    "df['Reason'].value_counts()"
   ]
  },
  {
   "cell_type": "markdown",
   "id": "237ed2eb",
   "metadata": {},
   "source": [
    "Now use seaborn to create a countplot of 911 calls by Reason."
   ]
  },
  {
   "cell_type": "code",
   "execution_count": 9,
   "id": "8014a4b0",
   "metadata": {},
   "outputs": [
    {
     "data": {
      "text/plain": [
       "<AxesSubplot:xlabel='Reason', ylabel='count'>"
      ]
     },
     "execution_count": 9,
     "metadata": {},
     "output_type": "execute_result"
    },
    {
     "data": {
      "image/png": "iVBORw0KGgoAAAANSUhEUgAAAZIAAAEGCAYAAABPdROvAAAAOXRFWHRTb2Z0d2FyZQBNYXRwbG90bGliIHZlcnNpb24zLjUuMSwgaHR0cHM6Ly9tYXRwbG90bGliLm9yZy/YYfK9AAAACXBIWXMAAAsTAAALEwEAmpwYAAAVAklEQVR4nO3df7DddX3n8eeLRJG2QvkRaEwYw0K6FljFJY2M7natcUra3RrqQk1nLek2blyG7dbd7rDQmR3d6bCV1pUttjDDSiVQK6RUS9YpKhuk/mLBSwUjKEPaWEhBEgURW6GT+N4/zufqyc3N9cLnnns55PmYOXO+3/f5fr75fOdM5nU/n+/3fL+pKiRJeq4OW+gOSJLGm0EiSepikEiSuhgkkqQuBokkqcvihe7AfDvuuONqxYoVC90NSRord99999erasl0nx1yQbJixQomJiYWuhuSNFaS/M3BPnNqS5LUZaRBkuSrSbYnuSfJRKsdk+TWJA+296OHtr8kyY4kDyQ5e6h+ZtvPjiRXJEmrH57kxla/M8mKUR6PJOlA8zEi+emqOqOqVrX1i4FtVbUS2NbWSXIqsB44DVgLXJlkUWtzFbAJWNlea1t9I/BEVZ0CXA5cNg/HI0kashBTW+uAzW15M3DOUP2GqnqmqnYCO4DVSZYCR1bVHTW4n8t1U9pM7usmYM3kaEWSND9GHSQFfCLJ3Uk2tdoJVfUoQHs/vtWXAQ8Ptd3Vasva8tT6fm2qai/wJHDs1E4k2ZRkIsnEnj175uTAJEkDo75q63VV9UiS44Fbk3xlhm2nG0nUDPWZ2uxfqLoauBpg1apV3qVSkubQSEckVfVIe98NfARYDTzWpqto77vb5ruAE4eaLwceafXl09T3a5NkMXAU8PgojkWSNL2RBUmSH07y0sll4GeALwFbgQ1tsw3AzW15K7C+XYl1EoOT6ne16a+nkpzVzn+cP6XN5L7OBW4r74svSfNqlFNbJwAfaee+FwN/XFUfS/J5YEuSjcBDwHkAVXVfki3A/cBe4MKq2tf2dQFwLXAEcEt7AVwDXJ9kB4ORyPoRHo8kaRo51P6AX7VqVc32l+3v//MnR9wbAbzt545a6C5I+gGS3D30M479+Mt2SVIXg0SS1MUgkSR1MUgkSV0MEklSF4NEktTFIJEkdTFIJEldDBJJUheDRJLUxSCRJHUxSCRJXQwSSVIXg0SS1MUgkSR1MUgkSV0MEklSF4NEktTFIJEkdTFIJEldDBJJUheDRJLUxSCRJHUxSCRJXQwSSVIXg0SS1MUgkSR1MUgkSV0MEklSF4NEktTFIJEkdTFIJEldDBJJUpeRB0mSRUm+kOSjbf2YJLcmebC9Hz207SVJdiR5IMnZQ/Uzk2xvn12RJK1+eJIbW/3OJCtGfTySpP3Nx4jk14EvD61fDGyrqpXAtrZOklOB9cBpwFrgyiSLWpurgE3AyvZa2+obgSeq6hTgcuCy0R6KJGmqkQZJkuXAvwTeP1ReB2xuy5uBc4bqN1TVM1W1E9gBrE6yFDiyqu6oqgKum9Jmcl83AWsmRyuSpPkx6hHJ/wIuAr47VDuhqh4FaO/Ht/oy4OGh7Xa12rK2PLW+X5uq2gs8CRw7tRNJNiWZSDKxZ8+ezkOSJA0bWZAk+VfA7qq6e7ZNpqnVDPWZ2uxfqLq6qlZV1aolS5bMsjuSpNlYPMJ9vw54U5KfA14CHJnkj4DHkiytqkfbtNXutv0u4MSh9suBR1p9+TT14Ta7kiwGjgIeH9UBSZIONLIRSVVdUlXLq2oFg5Pot1XVW4GtwIa22Qbg5ra8FVjfrsQ6icFJ9bva9NdTSc5q5z/On9Jmcl/ntn/jgBGJJGl0RjkiOZh3A1uSbAQeAs4DqKr7kmwB7gf2AhdW1b7W5gLgWuAI4Jb2ArgGuD7JDgYjkfXzdRCSpIF5CZKquh24vS1/A1hzkO0uBS6dpj4BnD5N/WlaEEmSFoa/bJckdTFIJEldDBJJUheDRJLUxSCRJHUxSCRJXQwSSVIXg0SS1MUgkSR1MUgkSV0MEklSF4NEktTFIJEkdVmI28hL0owe2fw7C92FQ8LLNlw0J/txRCJJ6mKQSJK6GCSSpC4GiSSpi0EiSepikEiSuhgkkqQuBokkqYtBIknqYpBIkroYJJKkLgaJJKmLQSJJ6mKQSJK6GCSSpC4GiSSpi0EiSepikEiSuhgkkqQuBokkqcvIgiTJS5LcleTeJPcl+e+tfkySW5M82N6PHmpzSZIdSR5IcvZQ/cwk29tnVyRJqx+e5MZWvzPJilEdjyRpeqMckTwDvKGqXgWcAaxNchZwMbCtqlYC29o6SU4F1gOnAWuBK5Msavu6CtgErGyvta2+EXiiqk4BLgcuG+HxSJKmMbIgqYFvt9UXtVcB64DNrb4ZOKctrwNuqKpnqmonsANYnWQpcGRV3VFVBVw3pc3kvm4C1kyOViRJ82Ok50iSLEpyD7AbuLWq7gROqKpHAdr78W3zZcDDQ813tdqytjy1vl+bqtoLPAkcO00/NiWZSDKxZ8+eOTo6SRKMOEiqal9VnQEsZzC6OH2GzacbSdQM9ZnaTO3H1VW1qqpWLVmy5Af0WpL0bMzLVVtV9U3gdgbnNh5r01W0991ts13AiUPNlgOPtPryaer7tUmyGDgKeHwUxyBJmt4or9pakuRH2/IRwBuBrwBbgQ1tsw3AzW15K7C+XYl1EoOT6ne16a+nkpzVzn+cP6XN5L7OBW5r51EkSfNk8Qj3vRTY3K68OgzYUlUfTXIHsCXJRuAh4DyAqrovyRbgfmAvcGFV7Wv7ugC4FjgCuKW9AK4Brk+yg8FIZP0Ij0eSNI2RBUlVfRF49TT1bwBrDtLmUuDSaeoTwAHnV6rqaVoQSZIWhr9slyR1mVWQJNk2m5ok6dAz49RWkpcAPwQc125lMnm57ZHAy0bcN0nSGPhB50jeDryDQWjczfeD5FvAH4yuW5KkcTFjkFTV7wG/l+TXqup989QnSdIYmdVVW1X1viSvBVYMt6mq60bUL0nSmJhVkCS5HjgZuAeY/G3H5A0UJUmHsNn+jmQVcKq/GpckTTXb35F8CfixUXZEkjSeZjsiOQ64P8ldDB5YBUBVvWkkvZIkjY3ZBsm7RtkJSdL4mu1VW38x6o5IksbTbK/aeorvPzDqxQwem/t3VXXkqDomSRoPsx2RvHR4Pck5wOpRdEiSNF6e091/q+rPgDfMbVckSeNotlNbbx5aPYzB70r8TYkkadZXbf380PJe4KvAujnvjSRp7Mz2HMm/HXVHJEnjabYPtlqe5CNJdid5LMmfJlk+6s5Jkp7/Znuy/QPAVgbPJVkG/J9WkyQd4mYbJEuq6gNVtbe9rgWWjLBfkqQxMdsg+XqStyZZ1F5vBb4xyo5JksbDbIPkV4FfBL4GPAqcC3gCXpI068t/fwvYUFVPACQ5BngPg4CRJB3CZjsieeVkiABU1ePAq0fTJUnSOJltkByW5OjJlTYime1oRpL0AjbbMPifwOeS3MTg1ii/CFw6sl5JksbGbH/Zfl2SCQY3agzw5qq6f6Q9kySNhVlPT7XgMDwkSft5TreRlyRpkkEiSepikEiSuhgkkqQuIwuSJCcm+WSSLye5L8mvt/oxSW5N8mB7H/59yiVJdiR5IMnZQ/Uzk2xvn12RJK1+eJIbW/3OJCtGdTySpOmNckSyF/iNqvoJ4CzgwiSnAhcD26pqJbCtrdM+Ww+cBqwFrkyyqO3rKmATsLK91rb6RuCJqjoFuBy4bITHI0maxsiCpKoeraq/bMtPAV9m8CyTdcDmttlm4Jy2vA64oaqeqaqdwA5gdZKlwJFVdUdVFXDdlDaT+7oJWDM5WpEkzY95OUfSppxeDdwJnFBVj8IgbIDj22bLgIeHmu1qtWVteWp9vzZVtRd4Ejh2mn9/U5KJJBN79uyZo6OSJME8BEmSHwH+FHhHVX1rpk2nqdUM9Zna7F+ourqqVlXVqiVLfB6XJM2lkQZJkhcxCJEPVtWHW/mxNl1Fe9/d6ruAE4eaLwceafXl09T3a5NkMXAU8PjcH4kk6WBGedVWgGuAL1fVe4c+2gpsaMsbgJuH6uvblVgnMTipfleb/noqyVltn+dPaTO5r3OB29p5FEnSPBnlreBfB/wysD3JPa32m8C7gS1JNgIPAecBVNV9SbYwuJ/XXuDCqtrX2l0AXAscAdzSXjAIquuT7GAwElk/wuORJE1jZEFSVZ9h+nMYAGsO0uZSprk9fVVNAKdPU3+aFkSSpIXhL9slSV0MEklSF4NEktTFIJEkdTFIJEldDBJJUheDRJLUxSCRJHUxSCRJXQwSSVIXg0SS1MUgkSR1MUgkSV0MEklSF4NEktTFIJEkdRnlExKlBfXXf/VXC92FF7x/dPLJC90FPQ84IpEkdTFIJEldDBJJUheDRJLUxSCRJHUxSCRJXQwSSVIXg0SS1MUgkSR1MUgkSV0MEklSF4NEktTFIJEkdTFIJEldDBJJUheDRJLUZWRBkuQPk+xO8qWh2jFJbk3yYHs/euizS5LsSPJAkrOH6mcm2d4+uyJJWv3wJDe2+p1JVozqWCRJBzfKEcm1wNoptYuBbVW1EtjW1klyKrAeOK21uTLJotbmKmATsLK9Jve5EXiiqk4BLgcuG9mRSJIOamRBUlWfAh6fUl4HbG7Lm4Fzhuo3VNUzVbUT2AGsTrIUOLKq7qiqAq6b0mZyXzcBayZHK5Kk+TPf50hOqKpHAdr78a2+DHh4aLtdrbasLU+t79emqvYCTwLHTvePJtmUZCLJxJ49e+boUCRJ8Pw52T7dSKJmqM/U5sBi1dVVtaqqVi1ZsuQ5dlGSNJ35DpLH2nQV7X13q+8CThzabjnwSKsvn6a+X5ski4GjOHAqTZI0YvMdJFuBDW15A3DzUH19uxLrJAYn1e9q019PJTmrnf84f0qbyX2dC9zWzqNIkubR4lHtOMmHgNcDxyXZBbwTeDewJclG4CHgPICqui/JFuB+YC9wYVXta7u6gMEVYEcAt7QXwDXA9Ul2MBiJrB/VsUiSDm5kQVJVv3SQj9YcZPtLgUunqU8Ap09Tf5oWRJKkhfN8OdkuSRpTBokkqYtBIknqYpBIkroYJJKkLgaJJKmLQSJJ6mKQSJK6GCSSpC4GiSSpi0EiSepikEiSuhgkkqQuBokkqYtBIknqYpBIkroYJJKkLgaJJKmLQSJJ6mKQSJK6GCSSpC4GiSSpi0EiSepikEiSuhgkkqQuBokkqYtBIknqYpBIkroYJJKkLgaJJKmLQSJJ6mKQSJK6GCSSpC4GiSSpy9gHSZK1SR5IsiPJxQvdH0k61Ix1kCRZBPwB8LPAqcAvJTl1YXslSYeWsQ4SYDWwo6r+uqr+AbgBWLfAfZKkQ8rihe5Ap2XAw0Pru4DXTN0oySZgU1v9dpIH5qFvC+U44OsL3Yln498tdAeeP8buu9N+xu/7+5X/+my2fvnBPhj3IMk0tTqgUHU1cPXou7PwkkxU1aqF7oeePb+78XYof3/jPrW1CzhxaH058MgC9UWSDknjHiSfB1YmOSnJi4H1wNYF7pMkHVLGemqrqvYm+Q/Ax4FFwB9W1X0L3K2FdkhM4b1A+d2Nt0P2+0vVAacUJEmatXGf2pIkLTCDRJLUxSAZE0n2Jbln6HVxq9+e5KEkGdr2z5J8uy0fluSKJF9Ksj3J55OctFDHcaib5ntckeRzC90vDSQ5dui7+VqSvx1af/Es2n8oyReT/Kckr2jtvpDk5Bfy9zzWJ9sPMd+pqjMO8tk3gdcBn0nyo8DSoc/eArwMeGVVfTfJcuDvRthPzWy67/G1UzdKsqiq9s1PlzSpqr4BnAGQ5F3At6vqPZOfJ1lcVXuna5vkx4DXVtXL2/rFwM1V9c62yQHf8wuFI5IXhhsYXPoM8Gbgw0OfLQUerarvAlTVrqp6Yp77pxkMjR5fn+STSf4Y2J5kUZLfbaPILyZ5+wJ39ZCU5Nok703ySeCyJKuTfK6NND6X5B+3TT8BHN9GIe8E3gG8rbX73vfcli9qMwT3Jnn3fB/TXHNEMj6OSHLP0PpvV9WNbXkb8L/bTSzXM7gdzH9rn21hMFL55227P6qqL8xTn3Wg4e9xZ1X9wpTPVwOnV9XOdmufJ6vqJ5McDnw2ySeqaud8dlgA/Djwxqral+RI4Kfazw/eCPwP4F8DbwI+OjnibNPN+41oWv1ngXOA11TV3yc5Zh6PYyQMkvEx09TWPuAzDKaxjqiqr06eMqmqXe0vpje017Yk51XVtnnosw400/cIcNdQUPwM8Mok57b1o4CVgEEy//5kaKrxKGBzkpUMbsn0ome5rzcCH6iqvweoqsfnrpsLwyB54bgB+AjwrqkfVNUzwC3ALUkeY/DXkEHy/DR8/irAr1XVxxeqM/qe4e/lt4BPVtUvJFkB3P4s9xWmuSfgOPMcyQvHp4HfBj40XEzyT5O8rC0fBrwS+Jv5756eg48DFyR5EUCSH0/ywwvcJw1GJH/bln/lObT/BPCrSX4IwKktzaep50g+VlXfeyJkDW5R8J4DWsHxDM6fHN7W7wJ+f2S91Fx6P7AC+Ms2376HwWhSC+t3GExt/WfgtmfbuKo+luQMYCLJPwB/Dvzm3HZxfnmLFElSF6e2JEldDBJJUheDRJLUxSCRJHUxSCRJXbz8V5oDSfYB2xn8n9oJ/HJVfXNBOyXNE0ck0tz4TlWdUVWnA48DFy50h6T5YpBIc+8OYBlAew7Fx5LcneTTSV7R6j+f5M52B9n/m+SEVv8XQ8+/+EKSl2bgd4eeKfOWtu3rM3gezU1JvpLkg8n3n0sjzRentqQ51O7AvAa4ppWuBv59VT2Y5DXAlQxunvkZ4KyqqiRvAy4CfgP4L8CFVfXZJD8CPM3g0QBnAK8CjgM+n+RTbf+vBk4DHgE+S3suzcgPVBpikEhzY/IWNiuAu4FbWxC8FviToYHC5K1qlgM3JlkKvJjv39H3s8B7k3wQ+HC7e/M/Az7U7j77WJK/AH4S+BaDuwXvAhj69w0SzSuntqS5MXl7+JczCIYLGfz/+mY7dzL5+om2/fuA36+qfwK8HXgJQFW9G3gbcATw/9pU2EzTVc8MLe/DPw61AAwSaQ5V1ZPAf2QwRfUdYGeS82DwoKMkr2qbDt9BdsNk+yQnV9X2qroMmABeAXwKeEt7YuIS4KcY3HxTel4wSKQ51p5AeS+Dp1X+G2BjknuB+4B1bbN3MZjy+jTw9aHm72gn1e9lEES3MHjOzBfbPm8DLqqqr83HsUiz4d1/JUldHJFIkroYJJKkLgaJJKmLQSJJ6mKQSJK6GCSSpC4GiSSpy/8HkJfScIMEqdYAAAAASUVORK5CYII=\n",
      "text/plain": [
       "<Figure size 432x288 with 1 Axes>"
      ]
     },
     "metadata": {
      "needs_background": "light"
     },
     "output_type": "display_data"
    }
   ],
   "source": [
    "sns.countplot(x = 'Reason' , data = df , palette= 'coolwarm')"
   ]
  },
  {
   "cell_type": "markdown",
   "id": "f9934e74",
   "metadata": {},
   "source": [
    "Now let us begin to focus on time information. What is the data type of the objects in the timeStamp column?"
   ]
  },
  {
   "cell_type": "code",
   "execution_count": 10,
   "id": "d8e136e1",
   "metadata": {},
   "outputs": [
    {
     "data": {
      "text/plain": [
       "str"
      ]
     },
     "execution_count": 10,
     "metadata": {},
     "output_type": "execute_result"
    }
   ],
   "source": [
    "type(df['timeStamp'][0])"
   ]
  },
  {
   "cell_type": "markdown",
   "id": "bc97a139",
   "metadata": {},
   "source": [
    "Use pd.to_datetime to convert the column from strings to DateTime objects."
   ]
  },
  {
   "cell_type": "code",
   "execution_count": 11,
   "id": "d372408a",
   "metadata": {},
   "outputs": [
    {
     "data": {
      "text/plain": [
       "Timestamp('2015-12-10 17:40:00')"
      ]
     },
     "execution_count": 11,
     "metadata": {},
     "output_type": "execute_result"
    }
   ],
   "source": [
    "df['timeStamp'] = pd.to_datetime(df['timeStamp'])\n",
    "df['timeStamp'][0]"
   ]
  },
  {
   "cell_type": "markdown",
   "id": "8ada311b",
   "metadata": {},
   "source": [
    "Now that the timestamp column are actually DateTime objects, use .apply() to create 3 new columns called Hour, Month, and Day of Week. "
   ]
  },
  {
   "cell_type": "code",
   "execution_count": 12,
   "id": "da4af8d6",
   "metadata": {},
   "outputs": [
    {
     "data": {
      "text/html": [
       "<div>\n",
       "<style scoped>\n",
       "    .dataframe tbody tr th:only-of-type {\n",
       "        vertical-align: middle;\n",
       "    }\n",
       "\n",
       "    .dataframe tbody tr th {\n",
       "        vertical-align: top;\n",
       "    }\n",
       "\n",
       "    .dataframe thead th {\n",
       "        text-align: right;\n",
       "    }\n",
       "</style>\n",
       "<table border=\"1\" class=\"dataframe\">\n",
       "  <thead>\n",
       "    <tr style=\"text-align: right;\">\n",
       "      <th></th>\n",
       "      <th>lat</th>\n",
       "      <th>lng</th>\n",
       "      <th>desc</th>\n",
       "      <th>zip</th>\n",
       "      <th>title</th>\n",
       "      <th>timeStamp</th>\n",
       "      <th>twp</th>\n",
       "      <th>addr</th>\n",
       "      <th>e</th>\n",
       "      <th>Reason</th>\n",
       "      <th>Hour</th>\n",
       "      <th>Day of Week</th>\n",
       "      <th>Month</th>\n",
       "    </tr>\n",
       "  </thead>\n",
       "  <tbody>\n",
       "    <tr>\n",
       "      <th>0</th>\n",
       "      <td>40.297876</td>\n",
       "      <td>-75.581294</td>\n",
       "      <td>REINDEER CT &amp; DEAD END;  NEW HANOVER; Station ...</td>\n",
       "      <td>19525.0</td>\n",
       "      <td>EMS: BACK PAINS/INJURY</td>\n",
       "      <td>2015-12-10 17:40:00</td>\n",
       "      <td>NEW HANOVER</td>\n",
       "      <td>REINDEER CT &amp; DEAD END</td>\n",
       "      <td>1</td>\n",
       "      <td>EMS</td>\n",
       "      <td>17</td>\n",
       "      <td>3</td>\n",
       "      <td>12</td>\n",
       "    </tr>\n",
       "    <tr>\n",
       "      <th>1</th>\n",
       "      <td>40.258061</td>\n",
       "      <td>-75.264680</td>\n",
       "      <td>BRIAR PATH &amp; WHITEMARSH LN;  HATFIELD TOWNSHIP...</td>\n",
       "      <td>19446.0</td>\n",
       "      <td>EMS: DIABETIC EMERGENCY</td>\n",
       "      <td>2015-12-10 17:40:00</td>\n",
       "      <td>HATFIELD TOWNSHIP</td>\n",
       "      <td>BRIAR PATH &amp; WHITEMARSH LN</td>\n",
       "      <td>1</td>\n",
       "      <td>EMS</td>\n",
       "      <td>17</td>\n",
       "      <td>3</td>\n",
       "      <td>12</td>\n",
       "    </tr>\n",
       "    <tr>\n",
       "      <th>2</th>\n",
       "      <td>40.121182</td>\n",
       "      <td>-75.351975</td>\n",
       "      <td>HAWS AVE; NORRISTOWN; 2015-12-10 @ 14:39:21-St...</td>\n",
       "      <td>19401.0</td>\n",
       "      <td>Fire: GAS-ODOR/LEAK</td>\n",
       "      <td>2015-12-10 17:40:00</td>\n",
       "      <td>NORRISTOWN</td>\n",
       "      <td>HAWS AVE</td>\n",
       "      <td>1</td>\n",
       "      <td>Fire</td>\n",
       "      <td>17</td>\n",
       "      <td>3</td>\n",
       "      <td>12</td>\n",
       "    </tr>\n",
       "  </tbody>\n",
       "</table>\n",
       "</div>"
      ],
      "text/plain": [
       "         lat        lng                                               desc  \\\n",
       "0  40.297876 -75.581294  REINDEER CT & DEAD END;  NEW HANOVER; Station ...   \n",
       "1  40.258061 -75.264680  BRIAR PATH & WHITEMARSH LN;  HATFIELD TOWNSHIP...   \n",
       "2  40.121182 -75.351975  HAWS AVE; NORRISTOWN; 2015-12-10 @ 14:39:21-St...   \n",
       "\n",
       "       zip                    title           timeStamp                twp  \\\n",
       "0  19525.0   EMS: BACK PAINS/INJURY 2015-12-10 17:40:00        NEW HANOVER   \n",
       "1  19446.0  EMS: DIABETIC EMERGENCY 2015-12-10 17:40:00  HATFIELD TOWNSHIP   \n",
       "2  19401.0      Fire: GAS-ODOR/LEAK 2015-12-10 17:40:00         NORRISTOWN   \n",
       "\n",
       "                         addr  e Reason  Hour  Day of Week  Month  \n",
       "0      REINDEER CT & DEAD END  1    EMS    17            3     12  \n",
       "1  BRIAR PATH & WHITEMARSH LN  1    EMS    17            3     12  \n",
       "2                    HAWS AVE  1   Fire    17            3     12  "
      ]
     },
     "execution_count": 12,
     "metadata": {},
     "output_type": "execute_result"
    }
   ],
   "source": [
    "# My solution:\n",
    "df['Hour'] = df['timeStamp'].apply(lambda time:time.hour)\n",
    "df['Day of Week'] = df['timeStamp'].apply(lambda time:time.dayofweek)\n",
    "df['Month'] = df['timeStamp'].apply(lambda time:time.month)\n",
    "df.head(3)\n",
    "# I thought to myself, this isn't very efficient, There must be a better way:\n",
    "# df = df.assign(Hour=df['timeStamp'].dt.hour, Day_of_Week=df['timeStamp'].dt.dayofweek, Month=df['timeStamp'].dt.month)\n",
    "# Honestly, it is a 1-liner but in my opinion it's abit hard to understand. I think the 3 rows are easier to read."
   ]
  },
  {
   "cell_type": "markdown",
   "id": "fb680b17",
   "metadata": {},
   "source": [
    "Notice how the Day of Week is an integer 0-6. Use the .map() with this dictionary to map the actual string names to the day of the week: \n",
    "\n",
    "dmap = {0:'Mon',1:'Tue',2:'Wed',3:'Thu',4:'Fri',5:'Sat',6:'Sun'}"
   ]
  },
  {
   "cell_type": "code",
   "execution_count": 13,
   "id": "01b3f803",
   "metadata": {},
   "outputs": [
    {
     "data": {
      "text/html": [
       "<div>\n",
       "<style scoped>\n",
       "    .dataframe tbody tr th:only-of-type {\n",
       "        vertical-align: middle;\n",
       "    }\n",
       "\n",
       "    .dataframe tbody tr th {\n",
       "        vertical-align: top;\n",
       "    }\n",
       "\n",
       "    .dataframe thead th {\n",
       "        text-align: right;\n",
       "    }\n",
       "</style>\n",
       "<table border=\"1\" class=\"dataframe\">\n",
       "  <thead>\n",
       "    <tr style=\"text-align: right;\">\n",
       "      <th></th>\n",
       "      <th>lat</th>\n",
       "      <th>lng</th>\n",
       "      <th>desc</th>\n",
       "      <th>zip</th>\n",
       "      <th>title</th>\n",
       "      <th>timeStamp</th>\n",
       "      <th>twp</th>\n",
       "      <th>addr</th>\n",
       "      <th>e</th>\n",
       "      <th>Reason</th>\n",
       "      <th>Hour</th>\n",
       "      <th>Day of Week</th>\n",
       "      <th>Month</th>\n",
       "    </tr>\n",
       "  </thead>\n",
       "  <tbody>\n",
       "    <tr>\n",
       "      <th>0</th>\n",
       "      <td>40.297876</td>\n",
       "      <td>-75.581294</td>\n",
       "      <td>REINDEER CT &amp; DEAD END;  NEW HANOVER; Station ...</td>\n",
       "      <td>19525.0</td>\n",
       "      <td>EMS: BACK PAINS/INJURY</td>\n",
       "      <td>2015-12-10 17:40:00</td>\n",
       "      <td>NEW HANOVER</td>\n",
       "      <td>REINDEER CT &amp; DEAD END</td>\n",
       "      <td>1</td>\n",
       "      <td>EMS</td>\n",
       "      <td>17</td>\n",
       "      <td>Thu</td>\n",
       "      <td>12</td>\n",
       "    </tr>\n",
       "  </tbody>\n",
       "</table>\n",
       "</div>"
      ],
      "text/plain": [
       "         lat        lng                                               desc  \\\n",
       "0  40.297876 -75.581294  REINDEER CT & DEAD END;  NEW HANOVER; Station ...   \n",
       "\n",
       "       zip                   title           timeStamp          twp  \\\n",
       "0  19525.0  EMS: BACK PAINS/INJURY 2015-12-10 17:40:00  NEW HANOVER   \n",
       "\n",
       "                     addr  e Reason  Hour Day of Week  Month  \n",
       "0  REINDEER CT & DEAD END  1    EMS    17         Thu     12  "
      ]
     },
     "execution_count": 13,
     "metadata": {},
     "output_type": "execute_result"
    }
   ],
   "source": [
    "dmap = {0:'Mon',1:'Tue',2:'Wed',3:'Thu',4:'Fri',5:'Sat',6:'Sun'}\n",
    "df['Day of Week'] = df['Day of Week'].map(dmap)\n",
    "df.head(1)"
   ]
  },
  {
   "cell_type": "markdown",
   "id": "d994b22b",
   "metadata": {},
   "source": [
    "Now use seaborn to create a countplot of the Day of Week column with the hue based off of the Reason column."
   ]
  },
  {
   "cell_type": "code",
   "execution_count": 14,
   "id": "d2db6d05",
   "metadata": {},
   "outputs": [
    {
     "data": {
      "text/plain": [
       "<AxesSubplot:xlabel='Day of Week', ylabel='count'>"
      ]
     },
     "execution_count": 14,
     "metadata": {},
     "output_type": "execute_result"
    },
    {
     "data": {
      "image/png": "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\n",
      "text/plain": [
       "<Figure size 432x288 with 1 Axes>"
      ]
     },
     "metadata": {
      "needs_background": "light"
     },
     "output_type": "display_data"
    }
   ],
   "source": [
    "sns.countplot(x = 'Day of Week' , data = df , hue = 'Reason' , palette = 'muted')"
   ]
  },
  {
   "cell_type": "markdown",
   "id": "8856da9f",
   "metadata": {},
   "source": [
    "Self-note : The legend is on the bins. Lets move it:"
   ]
  },
  {
   "cell_type": "code",
   "execution_count": 15,
   "id": "9c4ce68b",
   "metadata": {},
   "outputs": [
    {
     "data": {
      "text/plain": [
       "<matplotlib.legend.Legend at 0x239ec96b490>"
      ]
     },
     "execution_count": 15,
     "metadata": {},
     "output_type": "execute_result"
    },
    {
     "data": {
      "image/png": "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\n",
      "text/plain": [
       "<Figure size 432x288 with 1 Axes>"
      ]
     },
     "metadata": {
      "needs_background": "light"
     },
     "output_type": "display_data"
    }
   ],
   "source": [
    "sns.countplot(x = 'Day of Week' , data = df , hue = 'Reason' , palette = 'muted')\n",
    "plt.legend(bbox_to_anchor=(1.01, 1), loc='best')"
   ]
  },
  {
   "cell_type": "markdown",
   "id": "1b97c468",
   "metadata": {},
   "source": [
    "Now do the same for Month:"
   ]
  },
  {
   "cell_type": "code",
   "execution_count": 32,
   "id": "8d2a7f0b",
   "metadata": {},
   "outputs": [
    {
     "data": {
      "text/plain": [
       "<matplotlib.legend.Legend at 0x239f4a60e80>"
      ]
     },
     "execution_count": 32,
     "metadata": {},
     "output_type": "execute_result"
    },
    {
     "data": {
      "image/png": "iVBORw0KGgoAAAANSUhEUgAAAdYAAAEGCAYAAADYJLR1AAAAOXRFWHRTb2Z0d2FyZQBNYXRwbG90bGliIHZlcnNpb24zLjUuMSwgaHR0cHM6Ly9tYXRwbG90bGliLm9yZy/YYfK9AAAACXBIWXMAAAsTAAALEwEAmpwYAAAc/0lEQVR4nO3df7TVdZ3v8ef7nIMCCSnjEQ0szIUQMooDQ97pzgyjFFT+WmQOqUkTDq7GScuZq9id1cx4l65WmY5No1djCizNyKnE0gyZuK38xYA64g9MSEaRX4cwoSzwwPv+sb9n3MEGN/jd7H3g+Vhrr72/7/397P0+KOfF9/P9FZmJJEkqR1uzG5AkaX9isEqSVCKDVZKkEhmskiSVyGCVJKlEHc1uoFEOP/zwHDZsWLPbkKReZcmSJRsys7PZffRm+22wDhs2jMWLFze7DUnqVSLiv5rdQ2/nVLAkSSUyWCVJKpHBKklSifbbfaySpPItWbLkiI6OjlnAaA7MjbPtwJPd3d0Xjh07dn2tFQxWSVLdOjo6Zh155JHv6uzsfLmtre2Au9j89u3bo6ura9TatWtnAWfUWudA/NeGJGnvje7s7Nx0IIYqQFtbW3Z2dr5CZYu99jr7sB9JUu/XdqCGao/i599lfhqskiSVqKH7WCPiUKBnJ3cCHweeBb4FDANWAudk5svF+lcC04FtwCWZeV9RHwvMBvoB9wCXpjeSlaSmO/ezC8eW+Xm3XzVhyRut097ePnb48OG/6VmeMmXKxmuuuWbt+PHjR7z44osHvfTSS0vb2irbjRMnTjz2wQcfHPjqq68+tm3bNqZPn370Aw88MDAi8qCDDso777xzxciRI7eW+TM0+uClG4AfZubZEXEQ0B/4DLAgMz8XETOBmcAVETEKmAocD7wNuD8ijsvMbcBNwAzgYSrBOhm4t94mzv3swrrWu/2qCfV+pCSpSQ4++ODty5Yte7rWewMGDNg2f/78QyZNmvSrDRs2tK9fv75Pz3uzZs0atHbt2j7Lli17qr29nRUrVvQZOHDg9rL7a1iwRsRA4E+AjwFk5lZga0ScCUwoVpsDLASuAM4E7sjMLcDzEbEcGB8RK4GBmflQ8bm3AmexB8EqqXn8h632pSlTpmy87bbbBk2aNOlX3/jGNw49/fTTf3n99df3A1izZk2fwYMHv9be3g7Ascce+1ojemjkPtZ3Al3A1yLisYiYFRFvAQZn5hqA4vmIYv0hwItV41cVtSHF6x3rO4mIGRGxOCIWd3V1lfvTSJJawpYtW9pGjhw5qufxla985bCe9973vvdtfvjhhw/p7u7m29/+9qALLrhgY897H/3oRzfef//9h44cOXLUX/7lXw594IEH+jWiv0ZOBXcAfwB8MjMfiYgbqEz77krUqOVu6jsXM28BbgEYN26c+2AlaT+0u6ngjo6OHD9+/K9mzZo16Le//W3biBEj/nv/6bHHHvva8uXLn7z77rsHLFiwYOAHPvCBEbfeeuuKM888c3OZ/TVyi3UVsCozHymW76QStOsi4iiA4nl91fpHV40fCqwu6kNr1CVJ2sl55523cebMmW+fMmXKyzu+169fvzznnHM23XzzzasuvfTSNd/5zncOLfv7GxasmbkWeDEiRhSlU4GngXnAtKI2DbireD0PmBoRB0fEMcBwYFExXbw5Ik6OiAAuqBojSdLvmDRp0q8uueSSNR//+Mc3Vtd/+tOf9l+5cmUfgG3btrF06dJ+73jHO0o9Ihgaf1TwJ4HbiiOCfw78BZUwnxsR04EXgA8DZOZTETGXSvh2AxcXRwQDfILXT7e5Fw9ckqSWUM/pMWXr2cfas3zKKae8cuONN77Us9zW1sZVV121bsdxa9eu7bjooovesXXr1jaAMWPG/HrmzJk1r/f7ZjQ0WDPzcWBcjbdO3cX6VwNX16gvZjeXj5IkHTi2bdtWM8wXLVr0bK36q6+++hjA2Wefvenss8/e1MjewIvwaweeGiFJb46XNJQkqUQGqyRJJXIqWNoLrThl3oo9SQcit1glSSqRW6xqeW6JSepNDFZJ0l772bUfK/W2ccf97ew9vm3cXXfdtXzq1KnvfOyxx5aV2cveMlglSb1KrWsF1wrV7u5uOjr2fcy5j1WS1Ov179//JIDvf//7A9797ncfd/rppx8zYsSI47u7u7nooouGjh49+l3HHXfcqC984QuHN7oXt1glSb1K9SUNjz766C3z589fUf3+E0888ZbHHnvsqZEjR2699tprD3/rW9+67cknn3zmN7/5TfzhH/7hyNNPP33TyJEjS79GcA+DVZLUq+zutnEAJ5xwwq97gvP+++8fuGzZsv7z5s07DGDz5s3tTz/9dF+DVZKkOvXv3397z+vMjC9+8YsvfOhDH2r4NYJ7uI9VkrTfeu973/vKTTfd1Llly5YAeOKJJw7etGlTQ7PPLVZJ0l6r5/SYZvr0pz+9YeXKlQf//u///rsyMwYNGvTaPffcs+KNR+49g7WJvPCBJO25ntvA1aqddtppm0877bTNPfX29na+/OUvvwS8tOOYRnEqWJKkEhmskiSVyGCVJKlEBqskSSUyWCVJKpFHBe+FyxdeVtd6n59wXYM7kSS1GoNVkrTXLl94Wam3jfv8hOt2e17s2rVr2ydMmDACYMOGDX3a2tpy0KBB3QCPP/74M3379s3djT/99NOPefbZZ/udd955G84444xNH/nIR94ZEdx5550rzj///GPKuPWcwSpJ6jWOPPLIbT3XCb7sssvedsghh2y76qqr1vW8/9prr9GnT5+aY1944YWOJUuWHLJ69eqlAJ/5zGeOfP/73//L66+/fjXUvvXc3jBYJUm92oc+9KFhhx12WPfSpUv7n3DCCa+ee+65Gy+77LK3//a3v23r27fv9tmzZz9/4oknbpk4ceJxGzdu7DNy5MhRH/zgB1+eM2fOEW1tbfnggw8e8sgjj/ysf//+J/VcaOLv/u7vBs+dO/f3IoJTTz31lRtvvLHuC0wYrJKkXm/FihV9H3jggZ91dHSwcePGtkWLFi3r06cP3/ve9wZcfvnlQ++7774Vd9999/LTTjtteM8Wb2bGjlu8AHPnzh34gx/84LAlS5YsGzBgwPZ169a170kvDQ3WiFgJbAa2Ad2ZOS4iBgHfAoYBK4FzMvPlYv0rgenF+pdk5n1FfSwwG+gH3ANcmpm7nUeXJB04pkyZ8nJHRyXSNm7c2P7nf/7nx6xcubJvRORrr70We/JZ8+fPH3j++edvGDBgwHaAwYMHb9uT8fvidJs/y8wxmTmuWJ4JLMjM4cCCYpmIGAVMBY4HJgM3RkTPvxJuAmYAw4vH5H3QtySplzjkkEP++1ZxV1xxxZA//dM/3fzcc889dffddy/funXrHmVdZhKxR1n8O5pxHuuZwJzi9RzgrKr6HZm5JTOfB5YD4yPiKGBgZj5UbKXeWjVGkqTfsWnTpvahQ4duBbj55psP39PxkydP3vT1r3/98M2bN7cBtNRUMJDAjyIigZsz8xZgcGauAcjMNRFxRLHuEODhqrGritprxesd6zuJiBlUtmx5+9vfXubPIUmq4Y1Oj2mGK664Yu2FF154zJe+9KUj//iP/3iPb3B+9tlnb3r00Uf7jxkz5l19+vTJiRMnvlLcIacujQ7W92Tm6iI850fE7g5lrrXdnbup71ysBPctAOPGjXMfrCTtx6677rrVteoTJ0789cqVK5/sWb7hhhtWA4wYMWLrc88999Suxlffju6aa65Ze80116zdm74aOhWcmauL5/XAd4HxwLpiepfieX2x+irg6KrhQ4HVRX1ojbokSS2nYcEaEW+JiAE9r4H3AU8C84BpxWrTgLuK1/OAqRFxcEQcQ+UgpUXFtPHmiDg5KnuTL6gaI0lSS2nkVPBg4LvFkVUdwO2Z+cOI+A9gbkRMB14APgyQmU9FxFzgaaAbuDgzew5x/gSvn25zb/GQJO1727dv3x5tbW0H7O627du3B7B9V+83LFgz8+fAiTXqvwBO3cWYq4Gra9QXA6PL7lGStMee7OrqGtXZ2fnKgRiu27dvj66urrdSmYGtySsvSZLq1t3dfeHatWtnrV27djQH5q1HtwNPdnd3X7irFQxWSVLdxo4dux44o9l9tLID8V8bkiQ1jMEqSVKJDFZJkkpksEqSVCKDVZKkEhmskiSVyGCVJKlEBqskSSUyWCVJKpFXXpJ0wDn3swvrWu/2qyY0tA/tn9xilSSpRAarJEklMlglSSqRwSpJUokMVkmSSmSwSpJUIoNVkqQSeR6rpJouX3hZXet9fsJ1De5E6l3cYpUkqURusUrqNdyKVm9gsO4n/IUjSa3BqWBJkkrkFqvUApxxkPYfDd9ijYj2iHgsIr5fLA+KiPkR8VzxfFjVuldGxPKIeDYiJlXVx0bE0uK9L0VENLpvSZL2xr6YCr4UeKZqeSawIDOHAwuKZSJiFDAVOB6YDNwYEe3FmJuAGcDw4jF5H/QtSdIea2iwRsRQ4IPArKrymcCc4vUc4Kyq+h2ZuSUznweWA+Mj4ihgYGY+lJkJ3Fo1RpKkltLoLdZ/Ai4HtlfVBmfmGoDi+YiiPgR4sWq9VUVtSPF6x/pOImJGRCyOiMVdXV2l/ACSJO2JhgVrRJwGrM/MJfUOqVHL3dR3LmbekpnjMnNcZ2dnnV8rSVJ5GnlU8HuAMyLiA0BfYGBEfANYFxFHZeaaYpp3fbH+KuDoqvFDgdVFfWiNuiRJLadhwZqZVwJXAkTEBOBvM/P8iPgCMA34XPF8VzFkHnB7RFwHvI3KQUqLMnNbRGyOiJOBR4ALgH9uVN/a/3lqi6RGasZ5rJ8D5kbEdOAF4MMAmflURMwFnga6gYszc1sx5hPAbKAfcG/xkKT9xrmfXVjXerdfNaGhfejN2yfBmpkLgYXF618Ap+5ivauBq2vUFwOjG9ehJEnl8JKGkiSVyGCVJKlEBqskSSUyWCVJKpHBKklSibxtnBrKc0YlHWjcYpUkqUQGqyRJJTJYJUkqkcEqSVKJDFZJkkpUV7BGxIJ6apIkHeh2e7pNRPQF+gOHR8RhvH7T8YFUbu0mSZKqvNF5rBcBn6ISokt4PVg3Af/SuLYkSeqddhusmXkDcENEfDIzvbm4JElvoK4rL2XmP0fEHwHDqsdk5q0N6kuSpF6prmCNiK8DxwKPA9uKcgIGqyRJVeq9VvA4YFRmZiObkSSpt6v3PNYngSMb2YgkSfuDerdYDweejohFwJaeYmae0ZCuJEnqpeoN1n9oZBOSJO0v6j0q+P81uhFJkvYH9R4VvJnKUcAABwF9gF9n5sBGNSZJUm9U7xbrgOrliDgLGN+IhiRJ6s326u42mfk94JRyW5Ekqferdyp4StViG5XzWnd7TmtxAf+fAAcX33NnZv59RAwCvkXlKk4rgXMy8+VizJXAdCoXobgkM+8r6mOB2UA/4B7gUs+pldQqLl94WV3rfX7CdQ3uRK2g3i3W06sek4DNwJlvMGYLcEpmngiMASZHxMnATGBBZg4HFhTLRMQoYCpwPDAZuDEi2ovPugmYAQwvHpPr7FuSpH2q3n2sf7GnH1xsUf6qWOxTPJJKIE8o6nOAhcAVRf2OzNwCPB8Ry4HxEbESGJiZDwFExK3AWcC9e9qTJEmNVu+NzodGxHcjYn1ErIuIf4uIoXWMa4+Ix4H1wPzMfAQYnJlrAIrnI4rVhwAvVg1fVdSGFK93rNf6vhkRsTgiFnd1ddXzo0mSVKp6LxDxNeB24MPF8vlF7b27G5SZ24AxEXEo8N2IGL2b1aNGLXdTr/V9twC3AIwbN859sJIOWO73bZ5697F2ZubXMrO7eMwGOuv9ksz8JZUp38nAuog4CqB4Xl+stgo4umrYUGB1UR9aoy5JUsupN1g3RMT5xdRue0ScD/xidwMiorPYUiUi+gETgWXAPGBasdo04K7i9TxgakQcHBHHUDlIaVExXbw5Ik6OiAAuqBojSVJLqXcq+OPAl4HrqUzDPgi80QFNRwFziiN724C5mfn9iHgImBsR04EXKKaXM/OpiJgLPA10AxcXU8kAn+D1023uxQOXJEktqt5g/T/AtKrzTQcB11IJ3Joy8wngpBr1XwCn7mLM1cDVNeqLgd3tn5UkqSXUOxV8Qk+oAmTmRmqEpiRJB7p6g7UtIg7rWSi2WOvd2pUk6YBRbzh+EXgwIu6kso/1HGpM2UqSdKCr98pLt0bEYioX3g9gSmY+3dDOJEnqheqezi2C1DCVJGk39uq2cZIkqTaDVZKkEhmskiSVyGCVJKlEBqskSSUyWCVJKpHBKklSiQxWSZJKZLBKklQig1WSpBIZrJIklchglSSpRAarJEklMlglSSqRwSpJUokMVkmSSmSwSpJUIoNVkqQSGaySJJXIYJUkqUQNC9aIODoifhwRz0TEUxFxaVEfFBHzI+K54vmwqjFXRsTyiHg2IiZV1cdGxNLivS9FRDSqb0mS3oxGbrF2A3+Tme8CTgYujohRwExgQWYOBxYUyxTvTQWOByYDN0ZEe/FZNwEzgOHFY3ID+5Ykaa81LFgzc01mPlq83gw8AwwBzgTmFKvNAc4qXp8J3JGZWzLzeWA5MD4ijgIGZuZDmZnArVVjJElqKftkH2tEDANOAh4BBmfmGqiEL3BEsdoQ4MWqYauK2pDi9Y71Wt8zIyIWR8Tirq6uUn8GSZLq0fBgjYhDgH8DPpWZm3a3ao1a7qa+czHzlswcl5njOjs797xZSZLepIYGa0T0oRKqt2Xmd4ryumJ6l+J5fVFfBRxdNXwosLqoD61RlySp5TTyqOAA/hV4JjOvq3prHjCteD0NuKuqPjUiDo6IY6gcpLSomC7eHBEnF595QdUYSZJaSkcDP/s9wEeBpRHxeFH7DPA5YG5ETAdeAD4MkJlPRcRc4GkqRxRfnJnbinGfAGYD/YB7i0fpfnbtx+pbcdygRny9dECr6++ff/fUCzQsWDPzp9TePwpw6i7GXA1cXaO+GBhdXne9i79wJKn38MpLkiSVqJFTwZJakLs8pMZyi1WSpBIZrJIklcipYO03nOKU1ArcYpUkqUQGqyRJJTJYJUkqkftYtVfcnylJtRmsUgP5DxDpwONUsCRJJTJYJUkqkVPBkrQLTuVrb7jFKklSiQxWSZJKZLBKklQig1WSpBIZrJIklchglSSpRAarJEklMlglSSqRwSpJUokMVkmSSmSwSpJUIoNVkqQSNewi/BHxVeA0YH1mji5qg4BvAcOAlcA5mfly8d6VwHRgG3BJZt5X1McCs4F+wD3ApZmZjepbklqZNwZofY3cYp0NTN6hNhNYkJnDgQXFMhExCpgKHF+MuTEi2osxNwEzgOHFY8fPlCSpZTQsWDPzJ8DGHcpnAnOK13OAs6rqd2Tmlsx8HlgOjI+Io4CBmflQsZV6a9UYSZJazr7exzo4M9cAFM9HFPUhwItV660qakOK1zvWJUlqSa1y8FLUqOVu6rU/JGJGRCyOiMVdXV2lNSdJUr32dbCuK6Z3KZ7XF/VVwNFV6w0FVhf1oTXqNWXmLZk5LjPHdXZ2ltq4JEn12NfBOg+YVryeBtxVVZ8aEQdHxDFUDlJaVEwXb46IkyMigAuqxkiS1HIaebrNN4EJwOERsQr4e+BzwNyImA68AHwYIDOfioi5wNNAN3BxZm4rPuoTvH66zb3FQ5KkltSwYM3Mj+zirVN3sf7VwNU16ouB0SW2JklSw7TKwUuSJO0XDFZJkkpksEqSVCKDVZKkEhmskiSVyGCVJKlEBqskSSUyWCVJKpHBKklSiQxWSZJKZLBKklQig1WSpBIZrJIklchglSSpRAarJEklMlglSSqRwSpJUokMVkmSSmSwSpJUIoNVkqQSGaySJJXIYJUkqUQGqyRJJTJYJUkqkcEqSVKJDFZJkkrUa4I1IiZHxLMRsTwiZja7H0mSaukVwRoR7cC/AO8HRgEfiYhRze1KkqSd9YpgBcYDyzPz55m5FbgDOLPJPUmStJPIzGb38IYi4mxgcmZeWCx/FHh3Zv71DuvNAGYUiyOAZ0v4+sOBDSV8TtlasS97qo891a8V+9rfe3pHZnaW9FkHpI5mN1CnqFHb6V8EmXkLcEupXxyxODPHlfmZZWjFvuypPvZUv1bsy570RnrLVPAq4Oiq5aHA6ib1IknSLvWWYP0PYHhEHBMRBwFTgXlN7kmSpJ30iqngzOyOiL8G7gPaga9m5lP76OtLnVouUSv2ZU/1saf6tWJf9qTd6hUHL0mS1Fv0lqlgSZJ6BYNVkqQSGay7EBFfjYj1EfFks3vpERFHR8SPI+KZiHgqIi5tgZ76RsSiiPjPoqd/bHZPPSKiPSIei4jvN7uXHhGxMiKWRsTjEbG42f0ARMShEXFnRCwr/t/6H03uZ0Tx59Pz2BQRn2pmT0Vfny7+H38yIr4ZEX2b1MdOv5si4gvFf78nIuK7EXFoM3pThcG6a7OByc1uYgfdwN9k5ruAk4GLW+DSjluAUzLzRGAMMDkiTm5uS//tUuCZZjdRw59l5pgWOu/wBuCHmTkSOJEm/5ll5rPFn88YYCzwKvDdZvYUEUOAS4BxmTmaykGUU5vUzmx2/t00HxidmScAPwOu3NdN6XUG6y5k5k+Ajc3uo1pmrsnMR4vXm6n8AhzS5J4yM39VLPYpHk0/Ii4ihgIfBGY1u5dWFhEDgT8B/hUgM7dm5i+b2tTvOhVYkZn/1exGqJxF0S8iOoD+NOlc+lq/mzLzR5nZXSw+TOVcfzWJwdpLRcQw4CTgkSa30jPl+jiwHpifmU3vCfgn4HJge5P72FECP4qIJcUlOJvtnUAX8LVi2nxWRLyl2U1VmQp8s9lNZOZLwLXAC8Aa4JXM/FFzu9qljwP3NruJA5nB2gtFxCHAvwGfysxNze4nM7cV03ZDgfERMbqZ/UTEacD6zFzSzD524T2Z+QdU7tR0cUT8SZP76QD+ALgpM08Cfg20xG0Zi4vBnAF8uwV6OYzKjT+OAd4GvCUizm9uVzuLiP9NZZfRbc3u5UBmsPYyEdGHSqjelpnfaXY/1YopxIU0f9/0e4AzImIllTshnRIR32huSxWZubp4Xk9lv+H45nbEKmBV1SzDnVSCthW8H3g0M9c1uxFgIvB8ZnZl5mvAd4A/anJPvyMipgGnAeelFyhoKoO1F4mIoLIv7JnMvK7Z/QBERGfPEYgR0Y/KL6BlzewpM6/MzKGZOYzKVOK/Z2bTty4i4i0RMaDnNfA+oKlHnWfmWuDFiBhRlE4Fnm5iS9U+QgtMAxdeAE6OiP7F38NTaaED4yJiMnAFcEZmvtrsfg50BusuRMQ3gYeAERGxKiKmN7snKltiH6WyBdZzKsIHmtzTUcCPI+IJKtd0np+ZLXN6S4sZDPw0Iv4TWAT8IDN/2OSeAD4J3Fb8NxwDXNPcdiAi+gPvpbJl2HTFFv2dwKPAUiq/O5tyGcFd/G76MjAAmF/8Xvi/zehNFV7SUJKkErnFKklSiQxWSZJKZLBKklQig1WSpBIZrJIklchglfZCRGREfL1quSMiuvb2TjrFHWb+qmp5QivdlUdS/QxWae/8GhhdXBQDKudcvvQmPu9Q4K/eaCVJrc9glfbevVTuoAM7XCUoIgZFxPeK+2M+HBEnFPV/KO6nuTAifh4RlxRDPgccW5zc/4WidkjVfVJvK674I6nFGazS3rsDmFrc8PoEfvdOQ/8IPFbcH/MzwK1V740EJlG5TvDfF9d/nknl9mhjMvN/FeudBHwKGEXlLjTvaeDPIqkkBqu0lzLzCWAYla3Ve3Z4+38CXy/W+3fg9yLircV7P8jMLZm5gcqt9gbv4isWZeaqzNwOPF58l6QW19HsBqRebh6V+3ROAH6vql5r2rbn+qFbqmrb2PXfw3rXk9RC3GKV3pyvAldl5tId6j8BzoPKEb7Ahje4d+5mKhdRl9TL+S9g6U3IzFXADTXe+gfga8UdY14Fpr3B5/wiIh6IiCepHBT1g7J7lbRveHcbSZJK5FSwJEklMlglSSqRwSpJUokMVkmSSmSwSpJUIoNVkqQSGaySJJXo/wNErunUDc2duAAAAABJRU5ErkJggg==\n",
      "text/plain": [
       "<Figure size 432x288 with 1 Axes>"
      ]
     },
     "metadata": {
      "needs_background": "light"
     },
     "output_type": "display_data"
    }
   ],
   "source": [
    "sns.countplot(x = 'Month' , data = df, hue = 'Reason' , palette = 'muted')\n",
    "plt.legend(bbox_to_anchor=(1.01 , 1) , loc = 2)"
   ]
  },
  {
   "cell_type": "markdown",
   "id": "474ba440",
   "metadata": {},
   "source": [
    "* Noticing that few months are missing (9-11) "
   ]
  },
  {
   "cell_type": "markdown",
   "id": "989be7eb",
   "metadata": {},
   "source": [
    "Now create a gropuby object called byMonth, where you group the DataFrame by the month column and use the count() method for aggregation. Use the head() method on this returned DataFrame."
   ]
  },
  {
   "cell_type": "code",
   "execution_count": 36,
   "id": "86bc2323",
   "metadata": {},
   "outputs": [
    {
     "data": {
      "text/html": [
       "<div>\n",
       "<style scoped>\n",
       "    .dataframe tbody tr th:only-of-type {\n",
       "        vertical-align: middle;\n",
       "    }\n",
       "\n",
       "    .dataframe tbody tr th {\n",
       "        vertical-align: top;\n",
       "    }\n",
       "\n",
       "    .dataframe thead th {\n",
       "        text-align: right;\n",
       "    }\n",
       "</style>\n",
       "<table border=\"1\" class=\"dataframe\">\n",
       "  <thead>\n",
       "    <tr style=\"text-align: right;\">\n",
       "      <th></th>\n",
       "      <th>lat</th>\n",
       "      <th>lng</th>\n",
       "      <th>desc</th>\n",
       "      <th>zip</th>\n",
       "      <th>title</th>\n",
       "      <th>timeStamp</th>\n",
       "      <th>twp</th>\n",
       "      <th>addr</th>\n",
       "      <th>e</th>\n",
       "      <th>Reason</th>\n",
       "      <th>Hour</th>\n",
       "      <th>Day of Week</th>\n",
       "    </tr>\n",
       "    <tr>\n",
       "      <th>Month</th>\n",
       "      <th></th>\n",
       "      <th></th>\n",
       "      <th></th>\n",
       "      <th></th>\n",
       "      <th></th>\n",
       "      <th></th>\n",
       "      <th></th>\n",
       "      <th></th>\n",
       "      <th></th>\n",
       "      <th></th>\n",
       "      <th></th>\n",
       "      <th></th>\n",
       "    </tr>\n",
       "  </thead>\n",
       "  <tbody>\n",
       "    <tr>\n",
       "      <th>1</th>\n",
       "      <td>13205</td>\n",
       "      <td>13205</td>\n",
       "      <td>13205</td>\n",
       "      <td>11527</td>\n",
       "      <td>13205</td>\n",
       "      <td>13205</td>\n",
       "      <td>13203</td>\n",
       "      <td>13096</td>\n",
       "      <td>13205</td>\n",
       "      <td>13205</td>\n",
       "      <td>13205</td>\n",
       "      <td>13205</td>\n",
       "    </tr>\n",
       "    <tr>\n",
       "      <th>2</th>\n",
       "      <td>11467</td>\n",
       "      <td>11467</td>\n",
       "      <td>11467</td>\n",
       "      <td>9930</td>\n",
       "      <td>11467</td>\n",
       "      <td>11467</td>\n",
       "      <td>11465</td>\n",
       "      <td>11396</td>\n",
       "      <td>11467</td>\n",
       "      <td>11467</td>\n",
       "      <td>11467</td>\n",
       "      <td>11467</td>\n",
       "    </tr>\n",
       "    <tr>\n",
       "      <th>3</th>\n",
       "      <td>11101</td>\n",
       "      <td>11101</td>\n",
       "      <td>11101</td>\n",
       "      <td>9755</td>\n",
       "      <td>11101</td>\n",
       "      <td>11101</td>\n",
       "      <td>11092</td>\n",
       "      <td>11059</td>\n",
       "      <td>11101</td>\n",
       "      <td>11101</td>\n",
       "      <td>11101</td>\n",
       "      <td>11101</td>\n",
       "    </tr>\n",
       "    <tr>\n",
       "      <th>4</th>\n",
       "      <td>11326</td>\n",
       "      <td>11326</td>\n",
       "      <td>11326</td>\n",
       "      <td>9895</td>\n",
       "      <td>11326</td>\n",
       "      <td>11326</td>\n",
       "      <td>11323</td>\n",
       "      <td>11283</td>\n",
       "      <td>11326</td>\n",
       "      <td>11326</td>\n",
       "      <td>11326</td>\n",
       "      <td>11326</td>\n",
       "    </tr>\n",
       "    <tr>\n",
       "      <th>5</th>\n",
       "      <td>11423</td>\n",
       "      <td>11423</td>\n",
       "      <td>11423</td>\n",
       "      <td>9946</td>\n",
       "      <td>11423</td>\n",
       "      <td>11423</td>\n",
       "      <td>11420</td>\n",
       "      <td>11378</td>\n",
       "      <td>11423</td>\n",
       "      <td>11423</td>\n",
       "      <td>11423</td>\n",
       "      <td>11423</td>\n",
       "    </tr>\n",
       "    <tr>\n",
       "      <th>6</th>\n",
       "      <td>11786</td>\n",
       "      <td>11786</td>\n",
       "      <td>11786</td>\n",
       "      <td>10212</td>\n",
       "      <td>11786</td>\n",
       "      <td>11786</td>\n",
       "      <td>11777</td>\n",
       "      <td>11732</td>\n",
       "      <td>11786</td>\n",
       "      <td>11786</td>\n",
       "      <td>11786</td>\n",
       "      <td>11786</td>\n",
       "    </tr>\n",
       "    <tr>\n",
       "      <th>7</th>\n",
       "      <td>12137</td>\n",
       "      <td>12137</td>\n",
       "      <td>12137</td>\n",
       "      <td>10633</td>\n",
       "      <td>12137</td>\n",
       "      <td>12137</td>\n",
       "      <td>12133</td>\n",
       "      <td>12088</td>\n",
       "      <td>12137</td>\n",
       "      <td>12137</td>\n",
       "      <td>12137</td>\n",
       "      <td>12137</td>\n",
       "    </tr>\n",
       "    <tr>\n",
       "      <th>8</th>\n",
       "      <td>9078</td>\n",
       "      <td>9078</td>\n",
       "      <td>9078</td>\n",
       "      <td>7832</td>\n",
       "      <td>9078</td>\n",
       "      <td>9078</td>\n",
       "      <td>9073</td>\n",
       "      <td>9025</td>\n",
       "      <td>9078</td>\n",
       "      <td>9078</td>\n",
       "      <td>9078</td>\n",
       "      <td>9078</td>\n",
       "    </tr>\n",
       "    <tr>\n",
       "      <th>12</th>\n",
       "      <td>7969</td>\n",
       "      <td>7969</td>\n",
       "      <td>7969</td>\n",
       "      <td>6907</td>\n",
       "      <td>7969</td>\n",
       "      <td>7969</td>\n",
       "      <td>7963</td>\n",
       "      <td>7916</td>\n",
       "      <td>7969</td>\n",
       "      <td>7969</td>\n",
       "      <td>7969</td>\n",
       "      <td>7969</td>\n",
       "    </tr>\n",
       "  </tbody>\n",
       "</table>\n",
       "</div>"
      ],
      "text/plain": [
       "         lat    lng   desc    zip  title  timeStamp    twp   addr      e  \\\n",
       "Month                                                                      \n",
       "1      13205  13205  13205  11527  13205      13205  13203  13096  13205   \n",
       "2      11467  11467  11467   9930  11467      11467  11465  11396  11467   \n",
       "3      11101  11101  11101   9755  11101      11101  11092  11059  11101   \n",
       "4      11326  11326  11326   9895  11326      11326  11323  11283  11326   \n",
       "5      11423  11423  11423   9946  11423      11423  11420  11378  11423   \n",
       "6      11786  11786  11786  10212  11786      11786  11777  11732  11786   \n",
       "7      12137  12137  12137  10633  12137      12137  12133  12088  12137   \n",
       "8       9078   9078   9078   7832   9078       9078   9073   9025   9078   \n",
       "12      7969   7969   7969   6907   7969       7969   7963   7916   7969   \n",
       "\n",
       "       Reason   Hour  Day of Week  \n",
       "Month                              \n",
       "1       13205  13205        13205  \n",
       "2       11467  11467        11467  \n",
       "3       11101  11101        11101  \n",
       "4       11326  11326        11326  \n",
       "5       11423  11423        11423  \n",
       "6       11786  11786        11786  \n",
       "7       12137  12137        12137  \n",
       "8        9078   9078         9078  \n",
       "12       7969   7969         7969  "
      ]
     },
     "execution_count": 36,
     "metadata": {},
     "output_type": "execute_result"
    }
   ],
   "source": [
    "df_byMonth = df.groupby('Month').count()\n",
    "df_byMonth.head(12)"
   ]
  },
  {
   "cell_type": "markdown",
   "id": "19d91319",
   "metadata": {},
   "source": [
    "Now create a simple plot off of the dataframe indicating the count of calls per month."
   ]
  },
  {
   "cell_type": "code",
   "execution_count": 42,
   "id": "3fb43e4d",
   "metadata": {},
   "outputs": [
    {
     "data": {
      "text/plain": [
       "<AxesSubplot:xlabel='Month'>"
      ]
     },
     "execution_count": 42,
     "metadata": {},
     "output_type": "execute_result"
    },
    {
     "data": {
      "image/png": "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\n",
      "text/plain": [
       "<Figure size 432x288 with 1 Axes>"
      ]
     },
     "metadata": {
      "needs_background": "light"
     },
     "output_type": "display_data"
    }
   ],
   "source": [
    "# Column doesn't matter\n",
    "df_byMonth['lat'].plot()"
   ]
  },
  {
   "cell_type": "markdown",
   "id": "6d0b1f92",
   "metadata": {},
   "source": [
    "Now see if you can use seaborn's lmplot() to create a linear fit on the number of calls per month. Keep in mind you may need to reset the index to a column"
   ]
  },
  {
   "cell_type": "code",
   "execution_count": 44,
   "id": "4a8cd4d4",
   "metadata": {},
   "outputs": [
    {
     "data": {
      "text/html": [
       "<div>\n",
       "<style scoped>\n",
       "    .dataframe tbody tr th:only-of-type {\n",
       "        vertical-align: middle;\n",
       "    }\n",
       "\n",
       "    .dataframe tbody tr th {\n",
       "        vertical-align: top;\n",
       "    }\n",
       "\n",
       "    .dataframe thead th {\n",
       "        text-align: right;\n",
       "    }\n",
       "</style>\n",
       "<table border=\"1\" class=\"dataframe\">\n",
       "  <thead>\n",
       "    <tr style=\"text-align: right;\">\n",
       "      <th></th>\n",
       "      <th>Month</th>\n",
       "      <th>lat</th>\n",
       "      <th>lng</th>\n",
       "      <th>desc</th>\n",
       "      <th>zip</th>\n",
       "      <th>title</th>\n",
       "      <th>timeStamp</th>\n",
       "      <th>twp</th>\n",
       "      <th>addr</th>\n",
       "      <th>e</th>\n",
       "      <th>Reason</th>\n",
       "      <th>Hour</th>\n",
       "      <th>Day of Week</th>\n",
       "    </tr>\n",
       "  </thead>\n",
       "  <tbody>\n",
       "    <tr>\n",
       "      <th>0</th>\n",
       "      <td>1</td>\n",
       "      <td>13205</td>\n",
       "      <td>13205</td>\n",
       "      <td>13205</td>\n",
       "      <td>11527</td>\n",
       "      <td>13205</td>\n",
       "      <td>13205</td>\n",
       "      <td>13203</td>\n",
       "      <td>13096</td>\n",
       "      <td>13205</td>\n",
       "      <td>13205</td>\n",
       "      <td>13205</td>\n",
       "      <td>13205</td>\n",
       "    </tr>\n",
       "    <tr>\n",
       "      <th>1</th>\n",
       "      <td>2</td>\n",
       "      <td>11467</td>\n",
       "      <td>11467</td>\n",
       "      <td>11467</td>\n",
       "      <td>9930</td>\n",
       "      <td>11467</td>\n",
       "      <td>11467</td>\n",
       "      <td>11465</td>\n",
       "      <td>11396</td>\n",
       "      <td>11467</td>\n",
       "      <td>11467</td>\n",
       "      <td>11467</td>\n",
       "      <td>11467</td>\n",
       "    </tr>\n",
       "    <tr>\n",
       "      <th>2</th>\n",
       "      <td>3</td>\n",
       "      <td>11101</td>\n",
       "      <td>11101</td>\n",
       "      <td>11101</td>\n",
       "      <td>9755</td>\n",
       "      <td>11101</td>\n",
       "      <td>11101</td>\n",
       "      <td>11092</td>\n",
       "      <td>11059</td>\n",
       "      <td>11101</td>\n",
       "      <td>11101</td>\n",
       "      <td>11101</td>\n",
       "      <td>11101</td>\n",
       "    </tr>\n",
       "    <tr>\n",
       "      <th>3</th>\n",
       "      <td>4</td>\n",
       "      <td>11326</td>\n",
       "      <td>11326</td>\n",
       "      <td>11326</td>\n",
       "      <td>9895</td>\n",
       "      <td>11326</td>\n",
       "      <td>11326</td>\n",
       "      <td>11323</td>\n",
       "      <td>11283</td>\n",
       "      <td>11326</td>\n",
       "      <td>11326</td>\n",
       "      <td>11326</td>\n",
       "      <td>11326</td>\n",
       "    </tr>\n",
       "    <tr>\n",
       "      <th>4</th>\n",
       "      <td>5</td>\n",
       "      <td>11423</td>\n",
       "      <td>11423</td>\n",
       "      <td>11423</td>\n",
       "      <td>9946</td>\n",
       "      <td>11423</td>\n",
       "      <td>11423</td>\n",
       "      <td>11420</td>\n",
       "      <td>11378</td>\n",
       "      <td>11423</td>\n",
       "      <td>11423</td>\n",
       "      <td>11423</td>\n",
       "      <td>11423</td>\n",
       "    </tr>\n",
       "    <tr>\n",
       "      <th>5</th>\n",
       "      <td>6</td>\n",
       "      <td>11786</td>\n",
       "      <td>11786</td>\n",
       "      <td>11786</td>\n",
       "      <td>10212</td>\n",
       "      <td>11786</td>\n",
       "      <td>11786</td>\n",
       "      <td>11777</td>\n",
       "      <td>11732</td>\n",
       "      <td>11786</td>\n",
       "      <td>11786</td>\n",
       "      <td>11786</td>\n",
       "      <td>11786</td>\n",
       "    </tr>\n",
       "    <tr>\n",
       "      <th>6</th>\n",
       "      <td>7</td>\n",
       "      <td>12137</td>\n",
       "      <td>12137</td>\n",
       "      <td>12137</td>\n",
       "      <td>10633</td>\n",
       "      <td>12137</td>\n",
       "      <td>12137</td>\n",
       "      <td>12133</td>\n",
       "      <td>12088</td>\n",
       "      <td>12137</td>\n",
       "      <td>12137</td>\n",
       "      <td>12137</td>\n",
       "      <td>12137</td>\n",
       "    </tr>\n",
       "    <tr>\n",
       "      <th>7</th>\n",
       "      <td>8</td>\n",
       "      <td>9078</td>\n",
       "      <td>9078</td>\n",
       "      <td>9078</td>\n",
       "      <td>7832</td>\n",
       "      <td>9078</td>\n",
       "      <td>9078</td>\n",
       "      <td>9073</td>\n",
       "      <td>9025</td>\n",
       "      <td>9078</td>\n",
       "      <td>9078</td>\n",
       "      <td>9078</td>\n",
       "      <td>9078</td>\n",
       "    </tr>\n",
       "    <tr>\n",
       "      <th>8</th>\n",
       "      <td>12</td>\n",
       "      <td>7969</td>\n",
       "      <td>7969</td>\n",
       "      <td>7969</td>\n",
       "      <td>6907</td>\n",
       "      <td>7969</td>\n",
       "      <td>7969</td>\n",
       "      <td>7963</td>\n",
       "      <td>7916</td>\n",
       "      <td>7969</td>\n",
       "      <td>7969</td>\n",
       "      <td>7969</td>\n",
       "      <td>7969</td>\n",
       "    </tr>\n",
       "  </tbody>\n",
       "</table>\n",
       "</div>"
      ],
      "text/plain": [
       "   Month    lat    lng   desc    zip  title  timeStamp    twp   addr      e  \\\n",
       "0      1  13205  13205  13205  11527  13205      13205  13203  13096  13205   \n",
       "1      2  11467  11467  11467   9930  11467      11467  11465  11396  11467   \n",
       "2      3  11101  11101  11101   9755  11101      11101  11092  11059  11101   \n",
       "3      4  11326  11326  11326   9895  11326      11326  11323  11283  11326   \n",
       "4      5  11423  11423  11423   9946  11423      11423  11420  11378  11423   \n",
       "5      6  11786  11786  11786  10212  11786      11786  11777  11732  11786   \n",
       "6      7  12137  12137  12137  10633  12137      12137  12133  12088  12137   \n",
       "7      8   9078   9078   9078   7832   9078       9078   9073   9025   9078   \n",
       "8     12   7969   7969   7969   6907   7969       7969   7963   7916   7969   \n",
       "\n",
       "   Reason   Hour  Day of Week  \n",
       "0   13205  13205        13205  \n",
       "1   11467  11467        11467  \n",
       "2   11101  11101        11101  \n",
       "3   11326  11326        11326  \n",
       "4   11423  11423        11423  \n",
       "5   11786  11786        11786  \n",
       "6   12137  12137        12137  \n",
       "7    9078   9078         9078  \n",
       "8    7969   7969         7969  "
      ]
     },
     "execution_count": 44,
     "metadata": {},
     "output_type": "execute_result"
    }
   ],
   "source": [
    "df_byMonth.reset_index()"
   ]
  },
  {
   "cell_type": "code",
   "execution_count": 45,
   "id": "711ce8cb",
   "metadata": {},
   "outputs": [
    {
     "data": {
      "text/plain": [
       "<seaborn.axisgrid.FacetGrid at 0x239fadbec10>"
      ]
     },
     "execution_count": 45,
     "metadata": {},
     "output_type": "execute_result"
    },
    {
     "data": {
      "image/png": "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\n",
      "text/plain": [
       "<Figure size 360x360 with 1 Axes>"
      ]
     },
     "metadata": {
      "needs_background": "light"
     },
     "output_type": "display_data"
    }
   ],
   "source": [
    "sns.lmplot(x = 'Month' , y = 'lat' , data=df_byMonth.reset_index())"
   ]
  },
  {
   "cell_type": "markdown",
   "id": "d9a928a7",
   "metadata": {},
   "source": [
    "Create a new column called 'Date' that contains the date from the timeStamp column. You'll need to use apply along with the .date() method."
   ]
  },
  {
   "cell_type": "code",
   "execution_count": 54,
   "id": "a6c43782",
   "metadata": {},
   "outputs": [
    {
     "data": {
      "text/plain": [
       "datetime.date(2015, 12, 10)"
      ]
     },
     "execution_count": 54,
     "metadata": {},
     "output_type": "execute_result"
    }
   ],
   "source": [
    "# Looking at what the output looks like.\n",
    "df['timeStamp'][0].date()"
   ]
  },
  {
   "cell_type": "code",
   "execution_count": 56,
   "id": "601b997f",
   "metadata": {},
   "outputs": [
    {
     "data": {
      "text/html": [
       "<div>\n",
       "<style scoped>\n",
       "    .dataframe tbody tr th:only-of-type {\n",
       "        vertical-align: middle;\n",
       "    }\n",
       "\n",
       "    .dataframe tbody tr th {\n",
       "        vertical-align: top;\n",
       "    }\n",
       "\n",
       "    .dataframe thead th {\n",
       "        text-align: right;\n",
       "    }\n",
       "</style>\n",
       "<table border=\"1\" class=\"dataframe\">\n",
       "  <thead>\n",
       "    <tr style=\"text-align: right;\">\n",
       "      <th></th>\n",
       "      <th>lat</th>\n",
       "      <th>lng</th>\n",
       "      <th>desc</th>\n",
       "      <th>zip</th>\n",
       "      <th>title</th>\n",
       "      <th>timeStamp</th>\n",
       "      <th>twp</th>\n",
       "      <th>addr</th>\n",
       "      <th>e</th>\n",
       "      <th>Reason</th>\n",
       "      <th>Hour</th>\n",
       "      <th>Day of Week</th>\n",
       "      <th>Month</th>\n",
       "      <th>Date</th>\n",
       "    </tr>\n",
       "  </thead>\n",
       "  <tbody>\n",
       "    <tr>\n",
       "      <th>0</th>\n",
       "      <td>40.297876</td>\n",
       "      <td>-75.581294</td>\n",
       "      <td>REINDEER CT &amp; DEAD END;  NEW HANOVER; Station ...</td>\n",
       "      <td>19525.0</td>\n",
       "      <td>EMS: BACK PAINS/INJURY</td>\n",
       "      <td>2015-12-10 17:40:00</td>\n",
       "      <td>NEW HANOVER</td>\n",
       "      <td>REINDEER CT &amp; DEAD END</td>\n",
       "      <td>1</td>\n",
       "      <td>EMS</td>\n",
       "      <td>17</td>\n",
       "      <td>Thu</td>\n",
       "      <td>12</td>\n",
       "      <td>2015-12-10</td>\n",
       "    </tr>\n",
       "    <tr>\n",
       "      <th>1</th>\n",
       "      <td>40.258061</td>\n",
       "      <td>-75.264680</td>\n",
       "      <td>BRIAR PATH &amp; WHITEMARSH LN;  HATFIELD TOWNSHIP...</td>\n",
       "      <td>19446.0</td>\n",
       "      <td>EMS: DIABETIC EMERGENCY</td>\n",
       "      <td>2015-12-10 17:40:00</td>\n",
       "      <td>HATFIELD TOWNSHIP</td>\n",
       "      <td>BRIAR PATH &amp; WHITEMARSH LN</td>\n",
       "      <td>1</td>\n",
       "      <td>EMS</td>\n",
       "      <td>17</td>\n",
       "      <td>Thu</td>\n",
       "      <td>12</td>\n",
       "      <td>2015-12-10</td>\n",
       "    </tr>\n",
       "    <tr>\n",
       "      <th>2</th>\n",
       "      <td>40.121182</td>\n",
       "      <td>-75.351975</td>\n",
       "      <td>HAWS AVE; NORRISTOWN; 2015-12-10 @ 14:39:21-St...</td>\n",
       "      <td>19401.0</td>\n",
       "      <td>Fire: GAS-ODOR/LEAK</td>\n",
       "      <td>2015-12-10 17:40:00</td>\n",
       "      <td>NORRISTOWN</td>\n",
       "      <td>HAWS AVE</td>\n",
       "      <td>1</td>\n",
       "      <td>Fire</td>\n",
       "      <td>17</td>\n",
       "      <td>Thu</td>\n",
       "      <td>12</td>\n",
       "      <td>2015-12-10</td>\n",
       "    </tr>\n",
       "    <tr>\n",
       "      <th>3</th>\n",
       "      <td>40.116153</td>\n",
       "      <td>-75.343513</td>\n",
       "      <td>AIRY ST &amp; SWEDE ST;  NORRISTOWN; Station 308A;...</td>\n",
       "      <td>19401.0</td>\n",
       "      <td>EMS: CARDIAC EMERGENCY</td>\n",
       "      <td>2015-12-10 17:40:01</td>\n",
       "      <td>NORRISTOWN</td>\n",
       "      <td>AIRY ST &amp; SWEDE ST</td>\n",
       "      <td>1</td>\n",
       "      <td>EMS</td>\n",
       "      <td>17</td>\n",
       "      <td>Thu</td>\n",
       "      <td>12</td>\n",
       "      <td>2015-12-10</td>\n",
       "    </tr>\n",
       "    <tr>\n",
       "      <th>4</th>\n",
       "      <td>40.251492</td>\n",
       "      <td>-75.603350</td>\n",
       "      <td>CHERRYWOOD CT &amp; DEAD END;  LOWER POTTSGROVE; S...</td>\n",
       "      <td>NaN</td>\n",
       "      <td>EMS: DIZZINESS</td>\n",
       "      <td>2015-12-10 17:40:01</td>\n",
       "      <td>LOWER POTTSGROVE</td>\n",
       "      <td>CHERRYWOOD CT &amp; DEAD END</td>\n",
       "      <td>1</td>\n",
       "      <td>EMS</td>\n",
       "      <td>17</td>\n",
       "      <td>Thu</td>\n",
       "      <td>12</td>\n",
       "      <td>2015-12-10</td>\n",
       "    </tr>\n",
       "  </tbody>\n",
       "</table>\n",
       "</div>"
      ],
      "text/plain": [
       "         lat        lng                                               desc  \\\n",
       "0  40.297876 -75.581294  REINDEER CT & DEAD END;  NEW HANOVER; Station ...   \n",
       "1  40.258061 -75.264680  BRIAR PATH & WHITEMARSH LN;  HATFIELD TOWNSHIP...   \n",
       "2  40.121182 -75.351975  HAWS AVE; NORRISTOWN; 2015-12-10 @ 14:39:21-St...   \n",
       "3  40.116153 -75.343513  AIRY ST & SWEDE ST;  NORRISTOWN; Station 308A;...   \n",
       "4  40.251492 -75.603350  CHERRYWOOD CT & DEAD END;  LOWER POTTSGROVE; S...   \n",
       "\n",
       "       zip                    title           timeStamp                twp  \\\n",
       "0  19525.0   EMS: BACK PAINS/INJURY 2015-12-10 17:40:00        NEW HANOVER   \n",
       "1  19446.0  EMS: DIABETIC EMERGENCY 2015-12-10 17:40:00  HATFIELD TOWNSHIP   \n",
       "2  19401.0      Fire: GAS-ODOR/LEAK 2015-12-10 17:40:00         NORRISTOWN   \n",
       "3  19401.0   EMS: CARDIAC EMERGENCY 2015-12-10 17:40:01         NORRISTOWN   \n",
       "4      NaN           EMS: DIZZINESS 2015-12-10 17:40:01   LOWER POTTSGROVE   \n",
       "\n",
       "                         addr  e Reason  Hour Day of Week  Month        Date  \n",
       "0      REINDEER CT & DEAD END  1    EMS    17         Thu     12  2015-12-10  \n",
       "1  BRIAR PATH & WHITEMARSH LN  1    EMS    17         Thu     12  2015-12-10  \n",
       "2                    HAWS AVE  1   Fire    17         Thu     12  2015-12-10  \n",
       "3          AIRY ST & SWEDE ST  1    EMS    17         Thu     12  2015-12-10  \n",
       "4    CHERRYWOOD CT & DEAD END  1    EMS    17         Thu     12  2015-12-10  "
      ]
     },
     "execution_count": 56,
     "metadata": {},
     "output_type": "execute_result"
    }
   ],
   "source": [
    "df['Date'] = df['timeStamp'].apply(lambda x:x.date())\n",
    "df.head()"
   ]
  },
  {
   "cell_type": "markdown",
   "id": "9eca7b13",
   "metadata": {},
   "source": [
    "Now groupby this Date column with the count() aggregate and create a plot of counts of 911 calls."
   ]
  },
  {
   "cell_type": "code",
   "execution_count": 61,
   "id": "d016bac3",
   "metadata": {},
   "outputs": [
    {
     "data": {
      "text/html": [
       "<div>\n",
       "<style scoped>\n",
       "    .dataframe tbody tr th:only-of-type {\n",
       "        vertical-align: middle;\n",
       "    }\n",
       "\n",
       "    .dataframe tbody tr th {\n",
       "        vertical-align: top;\n",
       "    }\n",
       "\n",
       "    .dataframe thead th {\n",
       "        text-align: right;\n",
       "    }\n",
       "</style>\n",
       "<table border=\"1\" class=\"dataframe\">\n",
       "  <thead>\n",
       "    <tr style=\"text-align: right;\">\n",
       "      <th></th>\n",
       "      <th>lat</th>\n",
       "      <th>lng</th>\n",
       "      <th>desc</th>\n",
       "      <th>zip</th>\n",
       "      <th>title</th>\n",
       "      <th>timeStamp</th>\n",
       "      <th>twp</th>\n",
       "      <th>addr</th>\n",
       "      <th>e</th>\n",
       "      <th>Reason</th>\n",
       "      <th>Hour</th>\n",
       "      <th>Day of Week</th>\n",
       "      <th>Month</th>\n",
       "    </tr>\n",
       "    <tr>\n",
       "      <th>Date</th>\n",
       "      <th></th>\n",
       "      <th></th>\n",
       "      <th></th>\n",
       "      <th></th>\n",
       "      <th></th>\n",
       "      <th></th>\n",
       "      <th></th>\n",
       "      <th></th>\n",
       "      <th></th>\n",
       "      <th></th>\n",
       "      <th></th>\n",
       "      <th></th>\n",
       "      <th></th>\n",
       "    </tr>\n",
       "  </thead>\n",
       "  <tbody>\n",
       "    <tr>\n",
       "      <th>2015-12-10</th>\n",
       "      <td>115</td>\n",
       "      <td>115</td>\n",
       "      <td>115</td>\n",
       "      <td>100</td>\n",
       "      <td>115</td>\n",
       "      <td>115</td>\n",
       "      <td>115</td>\n",
       "      <td>113</td>\n",
       "      <td>115</td>\n",
       "      <td>115</td>\n",
       "      <td>115</td>\n",
       "      <td>115</td>\n",
       "      <td>115</td>\n",
       "    </tr>\n",
       "    <tr>\n",
       "      <th>2015-12-11</th>\n",
       "      <td>396</td>\n",
       "      <td>396</td>\n",
       "      <td>396</td>\n",
       "      <td>333</td>\n",
       "      <td>396</td>\n",
       "      <td>396</td>\n",
       "      <td>395</td>\n",
       "      <td>391</td>\n",
       "      <td>396</td>\n",
       "      <td>396</td>\n",
       "      <td>396</td>\n",
       "      <td>396</td>\n",
       "      <td>396</td>\n",
       "    </tr>\n",
       "    <tr>\n",
       "      <th>2015-12-12</th>\n",
       "      <td>403</td>\n",
       "      <td>403</td>\n",
       "      <td>403</td>\n",
       "      <td>333</td>\n",
       "      <td>403</td>\n",
       "      <td>403</td>\n",
       "      <td>403</td>\n",
       "      <td>401</td>\n",
       "      <td>403</td>\n",
       "      <td>403</td>\n",
       "      <td>403</td>\n",
       "      <td>403</td>\n",
       "      <td>403</td>\n",
       "    </tr>\n",
       "    <tr>\n",
       "      <th>2015-12-13</th>\n",
       "      <td>319</td>\n",
       "      <td>319</td>\n",
       "      <td>319</td>\n",
       "      <td>280</td>\n",
       "      <td>319</td>\n",
       "      <td>319</td>\n",
       "      <td>319</td>\n",
       "      <td>317</td>\n",
       "      <td>319</td>\n",
       "      <td>319</td>\n",
       "      <td>319</td>\n",
       "      <td>319</td>\n",
       "      <td>319</td>\n",
       "    </tr>\n",
       "    <tr>\n",
       "      <th>2015-12-14</th>\n",
       "      <td>447</td>\n",
       "      <td>447</td>\n",
       "      <td>447</td>\n",
       "      <td>387</td>\n",
       "      <td>447</td>\n",
       "      <td>447</td>\n",
       "      <td>446</td>\n",
       "      <td>445</td>\n",
       "      <td>447</td>\n",
       "      <td>447</td>\n",
       "      <td>447</td>\n",
       "      <td>447</td>\n",
       "      <td>447</td>\n",
       "    </tr>\n",
       "    <tr>\n",
       "      <th>...</th>\n",
       "      <td>...</td>\n",
       "      <td>...</td>\n",
       "      <td>...</td>\n",
       "      <td>...</td>\n",
       "      <td>...</td>\n",
       "      <td>...</td>\n",
       "      <td>...</td>\n",
       "      <td>...</td>\n",
       "      <td>...</td>\n",
       "      <td>...</td>\n",
       "      <td>...</td>\n",
       "      <td>...</td>\n",
       "      <td>...</td>\n",
       "    </tr>\n",
       "    <tr>\n",
       "      <th>2016-08-20</th>\n",
       "      <td>328</td>\n",
       "      <td>328</td>\n",
       "      <td>328</td>\n",
       "      <td>279</td>\n",
       "      <td>328</td>\n",
       "      <td>328</td>\n",
       "      <td>328</td>\n",
       "      <td>327</td>\n",
       "      <td>328</td>\n",
       "      <td>328</td>\n",
       "      <td>328</td>\n",
       "      <td>328</td>\n",
       "      <td>328</td>\n",
       "    </tr>\n",
       "    <tr>\n",
       "      <th>2016-08-21</th>\n",
       "      <td>357</td>\n",
       "      <td>357</td>\n",
       "      <td>357</td>\n",
       "      <td>299</td>\n",
       "      <td>357</td>\n",
       "      <td>357</td>\n",
       "      <td>357</td>\n",
       "      <td>352</td>\n",
       "      <td>357</td>\n",
       "      <td>357</td>\n",
       "      <td>357</td>\n",
       "      <td>357</td>\n",
       "      <td>357</td>\n",
       "    </tr>\n",
       "    <tr>\n",
       "      <th>2016-08-22</th>\n",
       "      <td>389</td>\n",
       "      <td>389</td>\n",
       "      <td>389</td>\n",
       "      <td>336</td>\n",
       "      <td>389</td>\n",
       "      <td>389</td>\n",
       "      <td>388</td>\n",
       "      <td>384</td>\n",
       "      <td>389</td>\n",
       "      <td>389</td>\n",
       "      <td>389</td>\n",
       "      <td>389</td>\n",
       "      <td>389</td>\n",
       "    </tr>\n",
       "    <tr>\n",
       "      <th>2016-08-23</th>\n",
       "      <td>439</td>\n",
       "      <td>439</td>\n",
       "      <td>439</td>\n",
       "      <td>390</td>\n",
       "      <td>439</td>\n",
       "      <td>439</td>\n",
       "      <td>439</td>\n",
       "      <td>437</td>\n",
       "      <td>439</td>\n",
       "      <td>439</td>\n",
       "      <td>439</td>\n",
       "      <td>439</td>\n",
       "      <td>439</td>\n",
       "    </tr>\n",
       "    <tr>\n",
       "      <th>2016-08-24</th>\n",
       "      <td>132</td>\n",
       "      <td>132</td>\n",
       "      <td>132</td>\n",
       "      <td>106</td>\n",
       "      <td>132</td>\n",
       "      <td>132</td>\n",
       "      <td>132</td>\n",
       "      <td>132</td>\n",
       "      <td>132</td>\n",
       "      <td>132</td>\n",
       "      <td>132</td>\n",
       "      <td>132</td>\n",
       "      <td>132</td>\n",
       "    </tr>\n",
       "  </tbody>\n",
       "</table>\n",
       "<p>259 rows × 13 columns</p>\n",
       "</div>"
      ],
      "text/plain": [
       "            lat  lng  desc  zip  title  timeStamp  twp  addr    e  Reason  \\\n",
       "Date                                                                        \n",
       "2015-12-10  115  115   115  100    115        115  115   113  115     115   \n",
       "2015-12-11  396  396   396  333    396        396  395   391  396     396   \n",
       "2015-12-12  403  403   403  333    403        403  403   401  403     403   \n",
       "2015-12-13  319  319   319  280    319        319  319   317  319     319   \n",
       "2015-12-14  447  447   447  387    447        447  446   445  447     447   \n",
       "...         ...  ...   ...  ...    ...        ...  ...   ...  ...     ...   \n",
       "2016-08-20  328  328   328  279    328        328  328   327  328     328   \n",
       "2016-08-21  357  357   357  299    357        357  357   352  357     357   \n",
       "2016-08-22  389  389   389  336    389        389  388   384  389     389   \n",
       "2016-08-23  439  439   439  390    439        439  439   437  439     439   \n",
       "2016-08-24  132  132   132  106    132        132  132   132  132     132   \n",
       "\n",
       "            Hour  Day of Week  Month  \n",
       "Date                                  \n",
       "2015-12-10   115          115    115  \n",
       "2015-12-11   396          396    396  \n",
       "2015-12-12   403          403    403  \n",
       "2015-12-13   319          319    319  \n",
       "2015-12-14   447          447    447  \n",
       "...          ...          ...    ...  \n",
       "2016-08-20   328          328    328  \n",
       "2016-08-21   357          357    357  \n",
       "2016-08-22   389          389    389  \n",
       "2016-08-23   439          439    439  \n",
       "2016-08-24   132          132    132  \n",
       "\n",
       "[259 rows x 13 columns]"
      ]
     },
     "execution_count": 61,
     "metadata": {},
     "output_type": "execute_result"
    }
   ],
   "source": [
    "df.groupby('Date').count()"
   ]
  },
  {
   "cell_type": "code",
   "execution_count": 62,
   "id": "afa462ad",
   "metadata": {},
   "outputs": [
    {
     "data": {
      "text/plain": [
       "<AxesSubplot:xlabel='Date'>"
      ]
     },
     "execution_count": 62,
     "metadata": {},
     "output_type": "execute_result"
    },
    {
     "data": {
      "image/png": "iVBORw0KGgoAAAANSUhEUgAAAYYAAAEGCAYAAABhMDI9AAAAOXRFWHRTb2Z0d2FyZQBNYXRwbG90bGliIHZlcnNpb24zLjUuMSwgaHR0cHM6Ly9tYXRwbG90bGliLm9yZy/YYfK9AAAACXBIWXMAAAsTAAALEwEAmpwYAABbZ0lEQVR4nO29d5hk1Xmg/36VQ+c4PXkGhjBD1oBEEAooIKEVyApGK1vIxmbtRcG21jY4/CTLZi1rba/llbHFWjasZIMRCiBZCY0CAgRoCAMMMzDD5NhppkN1d8Xz++Pec+tW1a3u6jR1q+e8zzNP1dy+VfXVrXPPd754RCmFwWAwGAyaQL0FMBgMBoO/MIrBYDAYDCUYxWAwGAyGEoxiMBgMBkMJRjEYDAaDoYRQvQUA6OrqUmvXrq23GAaDwdBQPP3004NKqe6Ffl9fKIa1a9eydevWeothMBgMDYWI7F+M9zWuJIPBYDCUYBSDwWAwGEowisFgMBgMJRjFYDAYDIYSjGIwGAwGQwlGMRgMBoOhBKMYDAaDwVCCUQw+IpMrcP/Wg5hW6AaDoZ7UpBhE5BMi8qKIbBeR37GPdYjIwyKyy35sd51/u4jsFpGXReTtiyT7kuPR3QP8wQPPs/3IaL1FMRgMpzEzKgYROQ/4TeAy4ELgXSKyAbgN2KKU2gBssf+PiGwEbgQ2AdcCd4pIcHHEX1pkcgUA0vajwWAw1INaLIZzgSeUUhNKqRzwU+A9wPXAPfY59wA32M+vB+5TSqWVUnuB3VhKxTADBduDlMsbxWAwGOpHLYrhReBqEekUkQTwTmAV0KuUOgpgP/bY568ADrpef8g+VoKI3CIiW0Vk68DAwHy+w5Ihb2uGXMHEGAwGQ/2YUTEopXYAfwU8DHwP2AbkpnmJeL2Nx/vepZTarJTa3N294M0BG5KCHXTOGovBYDDUkZqCz0qpLymlLlFKXQ0MA7uA4yLSB2A/9tunH8KyKDQrgSMLJ/LSxbEY8sZiMBgM9aPWrKQe+3E18EvAvcBDwE32KTcBD9rPHwJuFJGoiKwDNgBPLaTQSxXjSjIYDH6g1v0YviYinUAWuFUpdUJEPgvcLyI3AweA9wMopbaLyP3AS1gup1uVUvlFkH3JoV1JuYJxJRkMhvpRk2JQSr3e49gQcE2V8+8A7pifaKcfOrRgXEkGg6GemMpnH2GCzwaDwQ8YxeAjiq4kYzEYDIb6YRSDjyhmJRmLwWAw1A+jGHyEVgxZE2MwGAx1xCgGH6FdSXnjSjIYDHXEKAYfoT1IWZOuajAY6ohRDD7CCT4bV5LBYKgjRjH4iIIJPhsMBh9gFIOPyOs6BhNjMBgMdcQoBh9hLAaDweAHjGLwEY7FYGIMBoOhjhjF4CO0oWDSVQ0GQz0xisFHmO6qBoPBDxjF4CNM5bPBYPADRjH4iGIdg7EYDAZD/TCKwUforCSTrmowGOpJrVt7/q6IbBeRF0XkXhGJiUiHiDwsIrvsx3bX+beLyG4ReVlE3r544i8t8sZiMBgMPmBGxSAiK4CPA5uVUucBQeBG4DZgi1JqA7DF/j8istH++ybgWuBOEQkujvhLC7ODm8Fg8AO1upJCQFxEQkACOAJcD9xj//0e4Ab7+fXAfUqptFJqL7AbuGzBJF7COAVuxpVkMBjqyIyKQSl1GPhr4ABwFBhRSv0A6FVKHbXPOQr02C9ZARx0vcUh+1gJInKLiGwVka0DAwPz+xZLhLxJVzUYDD6gFldSO5YVsA5YDiRF5Feme4nHsYolsFLqLqXUZqXU5u7u7lrlXdIUTOWzwWDwAbW4kt4C7FVKDSilssDXgSuA4yLSB2A/9tvnHwJWuV6/Esv1ZJgB0yvJYDD4gVoUwwHgdSKSEBEBrgF2AA8BN9nn3AQ8aD9/CLhRRKIisg7YADy1sGIvTbShYGIMBoOhnoRmOkEp9aSIPAA8A+SAZ4G7gCbgfhG5GUt5vN8+f7uI3A+8ZJ9/q1Iqv0jyLykKpvLZYDD4gBkVA4BS6lPAp8oOp7GsB6/z7wDumJ9opx9540oyGAw+wFQ++widlWS6qxoMhnpiFIOPKLbEMBaDwWCoH0Yx+IhiEz1jMRgMhvphFIOP0PrABJ8NBkM9MYrBRxRbYhhXksFgqB9GMfiIYlaSsRgMBkP9MIrBR+SdlhjGYjAYDPXDKAYfoV1JJl3VYDDUE6MYfESxu6pCKaMcDAZDfTCKwUe4DQXTL8lgMNQLoxh8RMGlDEwA2mAw1AujGHyEO7Zgqp8NBkO9MIrBRxSUsRgMBkP9MYrBR+RLXEnGYjAYDPXBKAYfkXdbDCb4bDAY6oRRDD7CBJ8NBoMfmFExiMjZIvKc69+oiPyOiHSIyMMisst+bHe95nYR2S0iL4vI2xf3KywdCgoCYj03wWeDwVAvZlQMSqmXlVIXKaUuAl4DTADfAG4DtiilNgBb7P8jIhuBG4FNwLXAnSISXBzxlxb5giIasi6VsRgMBkO9mK0r6RrgVaXUfuB64B77+D3ADfbz64H7lFJppdReYDdw2QLIuuQpKEU0bP0kpl+SwWCoF7NVDDcC99rPe5VSRwHsxx77+ArgoOs1h+xjJYjILSKyVUS2DgwMzFKMpYllMVg/iQk+GwyGelGzYhCRCPBu4KsznepxrGKWU0rdpZTarJTa3N3dXasYS5qCUkS0YjAWg8FgqBOzsRjeATyjlDpu//+4iPQB2I/99vFDwCrX61YCR+Yr6OlASYzBWAwGg6FOzEYxfJCiGwngIeAm+/lNwIOu4zeKSFRE1gEbgKfmK+jpQL6giAS1xWAUg8FgqA81KQYRSQBvBb7uOvxZ4K0issv+22cBlFLbgfuBl4DvAbcqpfILKfRSRSmKwWcfpavuH0rx/e3H6i2GwWA4RYRqOUkpNQF0lh0bwspS8jr/DuCOeUt3mpFXruCzjyyGrzyxn3ufOsjb/2xZvUUxGAynAFP57CNK6xj8YzFk84p0zhh9BsPpglEMPqLgshiyPgo+5woFsnmzq5zBcLpgFIOPyBf8ma6aN3tRGwynFUYx+ASlFAUFsbDlSsrk/KcYsj6KexgMhsXDKAafoBfjLbEwAKmMf3z6uqbCT5lSBoNh8TCKwSfo3duaY1ai2PhUrp7ilKDbgfspU8pgMCweRjH4BO2uiYQCxMNBxtPZOktUJOcoBmMxGAynA0Yx+ARtMQQDQlMsxHjaPxaDVloZoxgMhtMCoxh8gp58gyI0R0OM+ciVlDeuJIPhtMIoBp+g47qBgNDsU4shZ4LPBsNpgVEMPiGvXUmC5Uryk8WgTLqqwXA6YRSDT3BcSQGhKepPi8HsKmcwnB4YxeATdLsJEaEpGvZVjEHHFozFYDCcHhjF4BPyrqwk38UYlElXNRhOJ4xi8AnurCTtSvJL07pi8Nkf8hgMhsXFKAaf4M5KaoqFyBcUU1l/rNBzpo7BYDitqHUHtzYReUBEdorIDhG5XEQ6RORhEdllP7a7zr9dRHaLyMsi8vbFE3/pUHQlQVPUaosx5pPqZ9MSw2A4vajVYvg88D2l1DnAhcAO4DZgi1JqA7DF/j8ishG4EdgEXAvcKSLBhRZ8qaHdNQER3/VLMi0xDIbTixkVg4i0AFcDXwJQSmWUUieB64F77NPuAW6wn18P3KeUSiul9gK7gcsWVuylR0lLDNti8EsAuuB0VzUWg8FwOlCLxbAeGAD+VUSeFZF/FpEk0KuUOgpgP/bY568ADrpef8g+VoKI3CIiW0Vk68DAwLy+xFJAK4aAuBSDbywGy1LI+miPCIPBsHjUohhCwCXAPyqlLgZS2G6jKojHsYqlplLqLqXUZqXU5u7u7pqEXcq4XUlNMR1j8IdiMC0xDIbTi1oUwyHgkFLqSfv/D2ApiuMi0gdgP/a7zl/lev1K4MjCiNs47BtMceVnf8SxkamaztdzbjAgNEetzXr8UuTWqC0xDp+c5Mc7+2c+0WAwlDCjYlBKHQMOisjZ9qFrgJeAh4Cb7GM3AQ/azx8CbhSRqIisAzYATy2o1A3A7v5xDp+cZN9QqqbzS7KSnOCzP7KS8vnGDD7/v5/v46P//ky9xTAYGo5Qjed9DPg3EYkAe4Bfw1Iq94vIzcAB4P0ASqntInI/lvLIAbcqpfyzT+UpIm3742vdu9ntSkpGrSQuvwSfG9ViSGcLTGTzKKUQ8fJwGk43Dp+c5JfufIz/uOVy1nYl6y2Ob6lJMSilngM2e/zpmirn3wHcMXexGp9M3tKF6RoVgzsrKRoKEgkF/ONKatA9nzP5AkpZ6bbhoFEMBtg/lOL4aJo9g+NGMUyDqXxeJLSlkM7VZiy5W2IAtMTCjPpEMeQatMAtM0urzbD00WPYL10F/IpRDIuEoxhqHIAFV3dVgLZEmJHJzOIIN0vyDVrgptuEm3bhBo0ey1PZ0867PSuMYlgknBhDjZOSOysJoD0R5kRq8YPPtTTqK+753FgWg1YIxmIwaPSYMBbD9BjFsEhohZCucWXizkoCaI1HODm5uIohmy+w7vbv8E8/fXV62RrUYsjkLLlrjfMYlj7aLTppLIZpMYphkSjGGGq1GIpZSWC7kiYW15X04uERAP79yQPTnteobbcdi6HBFJph8ShaDEYxTIdRDIvEbAOf7q09Adri4UW3GH6+ZwiAi1e3TXterkG39jSuJEM5OvhcqyV/umIUwyKRnqXFkFeVFsNEJl9zVtNceGLPMIDTzdWLgstKMIrB0Ojoti5TZkxMi1EMi8Rs01UL5RZDIgLAyCJZDdl8ga37LMUw3cTpdh81XLpq3mwwZCglmzdZSbVgFMMiMesYgz3nui0GgJMTi6MY9g2mmMhYN8d0Fc15t8XQaDEGU8dgKMOkq9aGUQyLRGaWbozyrKS2uGUxLJZicKfrTSdj3pXO2mhtt2f7GxiWPiZdtTaMYlgkFiIrCeDkImUmud0r08mYd1kTjdZ222QlGcrJGYuhJk5rxZDO5RctNz8915YYdoyhNW4rhkWMMXg9r5DLbTE0WIzBuJIM5ej73QSfp+e0Vgy//MUn+F8/eHlR3nuuriRtMbQn7eDzIrmS3Mpg+uBzwfN5I+AEn80kYLAxwefaqLXt9pJkz8A4Pc3RRXlvnSc9W1eSthiSkSChgHBikVxJWjE0RUPTulpKgs+5BrMYjCvJUIZe3Jg6huk5bS2GQkExls4xukib4RRbYsw2+GwpBhGhLbF4RW66XUQyGpw++FySldRYE6ypYzCUY7qr1kZNikFE9onICyLynIhstY91iMjDIrLLfmx3nX+7iOwWkZdF5O2LJfx8GM/kUGrxts+cdR2DPf+695NpjYcXzZWkFVcyGpo+xtDAdQxGMRjKMb2SamM2FsOblFIXKaX0hj23AVuUUhuALfb/EZGNwI3AJuBa4E4RCS6gzAvCqL0SXzSLYY5ZSUGXZmhLRDi5SK23dWC2KRqq3WJoIJeMUsrxJxtXkkGTM72SamI+rqTrgXvs5/cAN7iO36eUSiul9gK7gcvm8TmLwuikZSksmsUw2+BzWYwBrNbbi1XHoCf5ZCQ0fbpqgyoGdwaV6a5q0GRNumpN1KoYFPADEXlaRG6xj/UqpY4C2I899vEVwEHXaw/Zx3yFthTGpnI17UkwW2Zf+WxnJbkUQ2s8sviKYQZXkja9I6FAQ3VXzdSYdWU4vTDpqrVRa1bSlUqpIyLSAzwsIjunOddrc92KGcVWMLcArF69ukYxFg7tSsoXFBOZPMnowiZozXdrT7CK3BavwM36vKZosKaspHg42FAxBneVdiNZOobFJedKYS4UVMlCzFCkJotBKXXEfuwHvoHlGjouIn0A9mO/ffohYJXr5SuBIx7veZdSarNSanN3d/fcv8Ecce+nvBjupNlaDOVZSWC13k5l8ouy4tXvmawxxhALBxpqgq21TsNweuHu92VcjNWZUTGISFJEmvVz4G3Ai8BDwE32aTcBD9rPHwJuFJGoiKwDNgBPLbTg82XUlQa6GAHo2bbdLm+JAcW2GIvRYbVWV5JWWNFQsKEUg3ElGbzIu1KuTZyhOrVYDL3AoyKyDWuC/0+l1PeAzwJvFZFdwFvt/6OU2g7cD7wEfA+4VSnlu1/ArQzGFlgxKKVKgs+1xDC0ayfkjjE4rbcX3p2UzRcQsVxE2bwq2XfBTcO6klyymqykpcfoVJaHtlU4ImbEPS6mFnGvk0ZnRse6UmoPcKHH8SHgmiqvuQO4Y97SLSI6K6n8+UKgJ6JEJMhEJk8mXyAamj5jdyqbJxYOlPg8222L4cQiBKAz+QLhYIBIKOD8PxaolFErg1g40FAFbsaVtLT5z+ePcvvXX+CilW2s7kzU/Dp3bzRT5Fad07by2W0xLLQrSU9Eeme0WtxJk5k88XDpxLyYrbezOUU0GCASLCoGLwouV1IjWQxuZWB8yUsP7V49OjI5q9e5M+uMK6k6p69imMzSYTeqW+jgc1ExWCv+WtpiTGY9FMMMrbcffO4w7/j8z6q6gaYjmy8QDhUthmp7LegbKRq20lUXI7V3MSixGIwracmRSlv37PGx9Kxel82bGEMtnL6KYSrLira483wh0RNR0WKYeQBOZvPEIqWKoXWG4PP2I6PsODrK4Pjsbg6wlFc4KCWuJC8KTlaSJVujtN52WwyZBvQlHxye4BP3Pbuoe35X4y+/s4Pf+vLTp/xzZ8O4VgwjU7N6XS6v0N5a40qqzumrGCZz9DRHCQVk0S2GWnzcUx6upOZoiGBAqrqS9M1x8MTszGmwLQa3K2kGi0ErhkZpva0VWDQUaMgYw6O7B3nwuSPsG5yoy2f/+OX+RdurZCEYt+/Z46OzUwzZgqLJrlkyFkN1Tl/FMJWlNR6mJR4uSV1dCOYUY/BwJYkIbfFw1dbb2pw+dGL2k0cmXyASDBDWrqQqk4BO74s55/nfYjg4PMFQyrKimqKhhpC5HD0mU5nZL1ryBcXv3f8cT+0dnvVrlVLsHUyRzhXYN5Sa9etPFfq6HJulYsgXCs6CzSiG6py2+zGMTmZpiYdpjoUW3GLQiqA5OjvF0ORRfd06TevtomKYm8UQCRUthmoyan0RDU+vQPzEr3zpSSdQPlMBn1/R7sPJzOwnr6f2DvP1Zw6TjIS4bF3HrF57fDTNhP2ZLx0d48ye5ll//qlgPG3J2D86OzdqLq+cBZtJV63OkrQYZgqQ6r0YWmIhWmLhOcUYxqay7O4f9/xbutxiqGFlMpnJO+4aN23TtN4en5diUISDAaKhmVxJ1nFtzTRCZlL/aJojdrZKIjJ9yw+/ohXDxBwUw7eft/L7d/WPzfq1ewaLY3rH0dFZv/5UoRdFs7UYsvmC0/5mIWIM+YLiiz99lROpxWldUy+WnGL4p5++yrrbvzPtKrF/LI1S1vaZc7UYvvjTPbzr//zMMzBcEWOoYWKa8nAlwfStt1P2qmlOriQ7+BwOTu8iypfFGPy++s7lC0xm8+i1wUxtxf2KbtkyMUtXUi5f4HsvHgOounCZjr2DlvuoPRFmpw8Ug1KKbQdPVhx3xxhmkymXc8UYJjN5lFIlHYRny0tHRvnL7+7kPXc+Nu15f/DANj55/7Y5f86pZskphi//fD9QuvIp5+d7BgG4dG0HTdGQM8hmw/7hCaayBR5+6XjF3yqykrIFjo5McuRk9ZW9V4wBLIthaDzjOfj1qulwDRZDoSzVtKLAraoryXpNV5O1BepibTW6UKTKVtjJ6PRtxReDrzyxf9b59eXM1WLYeWyMoVSGC1e2MjieYdhjJfu1pw/x8jFva2LvQIpYOMDVZ3Wz4+jsLY6F5vFXh7j+Hx6rkFdby+lcoWJx9uyBE5zzp9/1vN9yeUVnMkIiEuTA8AR/+LXn+dA/PzFn+bTi3jc0wdP7q8d0dh4bY3eZBefn1O8lpxjWdSWB6c3gR3cN0Z4Is7GvhXgkOCdfo06T02a7m4o6hlyBP3jgef7wa89Xfb+pbIF4pFIxXLiqjaMjU3zu+y9X/M1xJZ2cnLGW4YY7H+N/P/yK838nxuCkq3pfA60YeltiAAzMMm/8VKOVpcayGE6dL3lkMsuffPNFvvHs4Xm/D1R+n5nQGWxXbegCKq2GVDrH7z+wjS89uqfitROZHC8fH2NtZ5KzlzVzbHTKGWP14ph9n5XX8qQyOacO6XhZnGHbwZNMZQu8dKRyDtDj/pxlzbx0ZJSfvDzAE3uGefHwyJzkcyvuH2yvXCRqxtO5knPTuTzrbv8Of79l15w+d7FZcopheZs1gVVb7SileGz3IFec2UUgIMTDwTkF+I6PWQP20V2DFTGA8qykTD7P3sEUQ+Olg/vFwyPOjT+Z9Y4xfPjyNdx46Sr+8SevVqyaUukc8bC1Z/N0tQwjk1mePzTCDtfrszorKSglMpejm+j1tdqKYQ41E6eS8ok0OUNb8cX6/LlYoW7G5hh81vGyS1ZbO+2WxxmePzRCQcH+oQkKhaIbJZsvcMVnf8TPdg1yRk8Tq9qtNhMHh099uqwbrSDdv6FSilQ6xxnd1iKwPM6gY24HPVysuYIiFBQ2LW/l2YMn6LcXOvf94sCc5HNnjfVPs2gan8qVbCeqF1j3PjW3z11slpxi0MHRahbDnsEUx0anuPIMa0UVCwdnvf+rUopjI1Os60qSK6iKtD69+taKIZXOc2xkquRzMrkCv3Tn49z9+D7yBUUmV/B0JYkIn3zb2QQEvuVqGlYoKFKZPGf0eN8cbrRCGXJN6tlcWfB5hhhDo1gMYxUWQ/iUxhj0qnC+K23HlTTLsakbQp69rJlkJMiu46UWw3O2v/7A8AT/50e7ue7vf2bJO5Xj5ESW/3Lhcm679hxWddSmGGptEjlXdEaeu3tAOlcgm1ec0d0EVNYyOIph2MuVVCAUCLBpeYsTVzurt4kHnzsyp+8xYcf5elui9I9VvwfH07mS9Fi9SGy3G2X6jSWnGPTkW81i0INIu5zikeCs85lHJ3OkcwXOX9EKVK4U9CDua40TEHjh0Ai5gioJJI6nc2TyBV4dGHc+Px7x/jm6m6NcfkYn336+OHj1hKGrt6frp6SV5JDL3+y0xAhOH1R2N9FrS4R9rxgqXUlBCopTVqylf+P5pEArpYqKYZYKRn9uSzzMms4k+8sWLc8eOAFYC4kf7TzOnoEUSinnvrnyjE5WdSRY1W6Nq+mKJycyOS77nz/kP184OisZZ8Ooh8Wgf+P1tsVQXv186KSlzKpZDOGgsHF5C2DtTHjd+csZm8rNKUtJ/95rO5NVU2f1ZmBu60/fR51NRjGcEvQkOzie9pzE9ASo8/J12+nZ5OdrN5JWDOWfowdxUzTEyvYEj+62gt3ugeHUIAxPOjell8WgedcFy9k3NOEoPP36FW3Wyq5arQO4FIPLlZUub4lRRTEUXBsIdTdFG04xJOwMlFNV5KYthvkoholM3qk4ny74/NTe4YpFzehkFhFoioTsVWzx91JK8dzBk8TDQZSCbYdGyOQLTGULzvtod2aHHaB1WwyZXKGkRce+wQlOTmTZO+BdCDeVzc+pj5cbrSDdn6uz8doTEdoTYed+1BQthqLsDz53mNu//gK5vCIUDHBWbzPBgLBpeYszOXu1339s9yBXf+7HvPVvf+qZUKCTHdZ2JissF201anfTRDbvLOy0S9ZYDKcIt7tGp9650Rkq2oWiJ+PZWA06ILZpRQsiVJiQbuWzvjvJYTs7wi2bvuEPnphwFIZXjEFz4co2AGcFqAfdCntlNzJNtpBWDG5ztjzGUE0x6gkqFAjQ3Rxd9BjDt7Yd4QP/9PM5u3904RNApIaWH7VycHiiqnvym88e5pfufIyvPX3IWUGOp6evjcnlC1XHnLuupppiOD46xQe++HMeeq40+WF0KkdTNEQgIPS2xEoUw8B4mv6xNG/Z2FvxeZNlikFEWNWecFKhv7/9GJf/5RZ++yvPOK87YE+8bvfdruNjfOCffs7oVJY3/K8fc/fj+ypkH5vK1uy2cWIM9u/3w5eO883nrMB+cyxEb0uMYyPF7zg2leXkRJZgQDh0YtL5nB/u6Ofb246QLRQIBYRYOMh/vWw1N166ynH5etUzfePZwxwYnmBX/zjPH6oMUE9kcgQDwqqOOKNTxfvr2QMnOO9T3+cz33rJsXqUKs4/2rrQrfX9xhJUDAWW24FSL797uWLQjetmE2fQK4OVbQk6EpEKV9LPXx2iMxkhGQk5flCgxDIZdxXo6MHvlZWkKW+oV7QYrO9abc+GfEHx8vExZ/Brd1JFVtIM6aqBgOXSWkyLYeexUT5277M8tW/YaWkxW8ZdN7fbIkpXybqqlT/71nY++H+f8AwGP7JrgGcOnOSTX93GgSFrspwpxvA3D7/Ce//xcc+/udMvq9Ux6Al7qCwddXQqS4udDdfTEmNwPO240fS+Ixevait9zWTWcaPEwsUpYVVHnIPD1uT6u//xHJPZPD/a2e/ErPSK3G0d/WLfCZ7aN8yTe4Y5PprmGdt1pXnl+Bib/+KHziY7+YKadlFWrhju/Mlu/tbOrktGQ7byK97nehF2wcpWxtM5x8U6NJ5mPJNDKWuRA/DnN5zHL1+6mpa4vrcqr/UTe4Z4zRorkO/VlymVzpMIB+mxY3B6wtdxx395bC9f3XrIOV9/14Fx671E/LnndM2KQUSCIvKsiHzb/n+HiDwsIrvsx3bXubeLyG4ReVlE3r4Yglcjnc2z1o4fHPMw/ZzVvL1xjmMxZGbhSrIHSE9LlO7maIlvcd9gih+93M+HXruaYEAcP6hGrwD1Da8UvDowXiKLF2324NUuIz3xtMYjNEVDVWMMh09MMpUt8Np1nUAxAK0rn2fqrpp3Wwy2K8m92isU1Ixbj1ZrG17O3Y/tc57PpeIXSusYwjUovlp58fAoJyeyzmrVjTswesS2JmfKSnrl2BgvHxvzdLW4s9yqXYcjJ+3PKbNMxqZyziKgtyWKUjBouxD1pLSiPU7StQgZncoW41yuMbiyPcHBExOMTlqplr9+5Tpi4QB3P74XKFoMbiWo61xeOHQSKLXalVL8fw++SDpX4NkDJ9l+ZITzP/193va/H6n4fj/bNcD9Ww86Y0cv6NyfZSmGqGPBg+WaBbh8vTXedZxhOJVxih5DwdLJWCvSclfSweEJDp2Y5Lrz+wgFpORzNJOZPIlo0EnO0EpqOFV8L3cqrF6A6jljPsV1i8lsLIZPADtc/78N2KKU2gBssf+PiGwEbgQ2AdcCd4rI9NuXLQBjU1kyOavqtaspSjIS5KjHD6l9lZEyV9LsLIY0bYkwMXulMOBasdz71AGCIvzK69YAsL6rqeS1esWZcrk8dObIdIohEQkSCojLYrBe3xQN0RoPV62O3muvXDavtfS2jjPoArdwYPpeSdqVFBDLYpjM5ksm33976gAX/tkPnGyXcl45PsYlf/4wW3Yc52P3Pss//6wyf17jXpHNJYUYSieOcDBAwp4A56poAE6kMo71+Q8/3s2/Pbm/ZEJ3r+r15DGTxTA4niZXUBUr/t394zxpN7/raopUlVt/TnksY3SyaDH0NluTlb6uevJPRIKs7kw628iOTGYrYgwAqzoSTGTyTsrrmT1NvPvC5Tz43BHSuXxRMbgmVF1Qt812u+wdTDkLiWcPnuSJPcMExEqj/dNvvshExnqfctfS5773Mp/73k5nFa/Hp/u+aYqGWFZmFWlL6go761ArpkFXfC1coRi0K6l4LV88PMKXHrUU4BVndtLTHPX0QKQyOZKRED3NVgGo9h4Mp9IEA0IyEizJWtS/p3bJ5hpZMYjISuA64J9dh68H7rGf3wPc4Dp+n1IqrZTaC+wGLlsQaaswMpHl/E//gNu+/rzTWmJZa8zT9NOrOyfGYGcCzdaVpAdCT3NpgO+lo6NsXN7imJY6nVSjP8c9mbxy3LrxyvdjcCMitCXCjmWgXUnJaJC2hNVP6ea7f1FRcLfPvjE22+bw4Li14s/kCkSCQiAghINCNl8gX1AVq/tCQREMCCJCt/2d3e4kvTL871952jN49/T+ExQU/PE3XuRb245MW/g1OJ5xbtpaJ/J/e3I/H7/3Wef/qXTOaV4YCQaqrgZng44t/Ler15PJFfjjb7zoTN5gWSk6lqEnj9EZLAY9UZWP0T/+xguOq2RZa6yqK0n3giq3TMamcrTEtcVQqhjcSQ5/9M5z+NS7N1myThZz7N3uzJV2/EpP8h3JCNeet4yJTJ4n9ww7riRPi8FeJU9k8s79oRclZ/U2s+PoGC8eLsZs3AuTwfE0LxweYXA847xfxsNiaIqG6GmJUXBZRf1jaUIB4bXrO+htifLA04coFBTDLtekdiVptCvJPUY++u/PcPfj++hqinJWTzO9rTFPi2GizGLQ13o4laE9EaGrOVqS2aUXPPoeyvu0jX2tFsPfAX8AuL9Fr1LqKID92GMfXwEcdJ13yD5WgojcIiJbRWTrwMDAbOUu4dPf2g7AI68MWltkRizF4GUxaJeJdiXpFdJsVqgnJ4q7v2m/u15BHjk5yfLWuHNud1OUrqaIk1aqb3R39syu/pktBoBWV4twfYM0RUO0JcLsH55gy85+Hts9VPKavYMpkpEg5/RZ6XlDqYyzStF9kiJBa8+Crz1ziKv+6sclQbicrRig2BbDXUynF3pHRqZ45sDJCpn1pKonzJ3HxqpOdoPjaSd/vtYeQU/tHeahbUecG3J8KkdLPEwyEiQcFJf/2PpOv9g3XNGaYCZesr/Db7x+PQ//7hsA2LqvqBgmM3l6W61ro+Uoz+Bxo5RyVoxuxaCUcj4LYFlLvERBTmXzzvdwLAZ7HHzz2cP8xj1bGZ3KOhX3vS22TPYk5E5yeP2Gbt5x3jJAu5J0e/XiGNRFjduPWJN8Z1OEK87oIhYO8PBLx53sH7fVopvJuVtx7LGzlrTyuWBlK8OpDJl8gdett7q/ur/no7sGnefa1ZK26yVSZa6kZWUT8uiU1TU5HAzwq69bw892DbLVXpxoKi0G63rpGMzx0Sn2DU3wkSvWct8tryMQEJa1xDwtholMjkQ4RHsiTDgoLoshQ2cyQmcyUuLGnLIzk/R5DWsxiMi7gH6lVK1bOnlFUyq+vVLqLqXUZqXU5u7u7hrfupJ0Lu+sQtd1JZjKFYiGAyxriXtqeG0xlLuSZpOVVBLga46SKyhOTFj9jI6OTLG8ragYRIQHfusKbn/nOYDLlZQpFsZoc7cWxaBdRkWLIURbIuLEKcqDw/uGUqzpTJKMBImFAwyNp50AuL4GYXszm1cHxhlP53jBlX1RUIqgHSBb22lZP4+8UlTkJyYydNnpfvs8ssB2HB3l7N5mOpMR3nR2N/mCKnl/jVKKofEMq23FUKui1r+blmk8bfnY2xIRwsFA0U0wmeMH249x411P8Jlv76j6fmD5lv/sW9udG3rH0TG6mqx4UmsizNm9zfxifzGomsrknAnKPebcbg83Y+mc897udg6HTkyWTLLLWqMlE+Y1f/NTrvqrHwE4ix5tMTy5d4gf7jjOwFja+c6dTVECAv1lFoNeDOkxPDLhykpy1dIssxWDbi3R1RQlFg5y1ZldfPPZw2TyBURKV/HDrviI3ilNj+8p+7voNG8ounzcFvtPX6lcKGZyBTL5QslEmowUV+qOpTaZc77/By9bTTgo3PXIqyXvFSyzGGLhAKGAOAsivY/Fey5ewZk9liu4tyXmuVucthhErHTuEoshGabTXkxpJrN5RqeKv38jxxiuBN4tIvuA+4A3i8hXgOMi0gdgP/bb5x8CVrlevxKobCi0QLjz00cms04FcV+rlar301cGSppppXN5QgFxVsHxOWQlWQE+rRiKrSJGJrNMZPJOWw7N2q6kM3E4wed0DhE4117Ju2WpRlsiUuJKErH8xW3xsLNyL2+NsW8wxbquJCJCZzLK0HiGbK7SYsjmC46pv812D4FV4KZ90as7E1x3QR9fenSvo4BOTGQ5q9eqsi1PD1ZKsfPoGJet62Drn7yFv37/hQCe8YjRSavgb7VjMdT2e0zail5PJqlMjmQ05KwatcVwYiLD7/7Hc+QLyrOHjpv/fOEo//rYPh5/1Vq5vnx8lHP7ivsSvGZtO8/uP+Hc1JOZvDNBuV0i1QLQgy7l7V6Fauvq49ds4EOvXU1TNOwoyF/sG+bwSUtxWAsQ25VkT8radZXOFTeiCQYs9195jEGPs0goQDwctCwGj5TprqS1w6G2aHXO/fs3r2LctujO7m0uUWZuV+SZPU1EQwH22g0t9T12vp16vawl5iSKTLosxBcOj3DpWieXxf5e+RJFGwsHCAUDjqXW77IYWu3fvLMpypk9zTyxp7S5XXnwWcSyLLUr6Rf7hklEgmxaXrw3l7XGSGXyFS7JVNqKMYDlPdD30FAqQ2cy6iyaNBOZfElMsmEtBqXU7UqplUqptVhB5R8ppX4FeAi4yT7tJuBB+/lDwI0iEhWRdcAG4KkFl9wm71IM2s8YCwfpbY2RLyhu+penuOuRYsAzkys48QVwBZ9n4UqyNvmxBkNPix6YaSdVzm0xOJ9TFgQdT+cr0lmnq2MAy2IYcVxJ1ut17EHjthiy+QIHT0yytsuabLuaIgzaJjzg7N4WsS0GnbH0/MHiij5fKBB03UiffOtZTGTyPPC0lYJ3YsLypa7pTFa0Bjl0YpKxdI5z+1osxdQUZXVHgmddLqdvbTvCruNjjmvFsRhqVNR6svvZrkHyBWVdl6hl2sfCxRjD/qEJUpk8azsTVYsfH3zuMF9/5pBj+fxop7XWGRzLOIod4NK17Yylc07aZiqdo6sp6iw2NGNVahncgdD+EsUwhogVy7jjPec7e0lk8wW+8KPdznlDqYzjitATlXty1mMT7JXuaKkryW2ZtsRDjE7mPLOSdC1EvqBoiYUcC/Ptm5bxxO3X8LXfvoI3n9PDeDrnBI/dLqRlrXHWdibZZ6fw6t90Q08TsXCAi1a1OZ/nXgik0jnWdCadWBFY9622kq87v4+bLl8LQGfSuu5awY7YG3BpNvQ0VSQClLuSwKqJGJ3MkS8ontgzxCWr2wkFi/OEdquVx4QmMnknwaE9GXFiIidSGTqSEcflrJnK5kv2T8n7dH+T+ezg9lngfhG5GTgAvB9AKbVdRO4HXgJywK1KqUVrb5m1gzcixUEZDwfpc93I7h8inSs4A1yfC6UT0Y939nNuX4tjSrvJ25v86FWZbja2dzDlmIeeiqHMZTWRyZGIBEsUQy2upBGXxZCMWue3xYuDTweXRawCn3xBOS6gTtvUdVxJ9g0SCQVI5wtOhszzLosh73IlAazvbqI5FnJSgU9OZGlLhFnXlXR80Rq9Anavts9f2eq8//6hFB+zA8fvvWQlgBNjqFVRp7N5gna21rZDJxmfyrKyLc5vXr3eqdWIh4PssSf7qzZ0sW/oADuOjtLdbLm2/vzbL/HrV67jE/c9B8Br7V3Ptuzo58/erRhz+e0BNq+x/v70/mE2Lm9hMmtNDk3RUEnqbrXqZ23VRUOBCothTUfC2UjGnVHlbu/wwuERlLIsPT3puTOD3LL2tsR45fgYSimmcqWbLgHORlWT2QjBQHF/Ds2y1hiHT0468SX3+/a2xHhq77Bdi1AgFLT2T2+KhhhP5+htjlIoKOf7uhXT3994Meu6ko6CK1cMTdEQqzoSTswlky843/VdF/TxjvP7AMsq6mmOOspvdDJbEuM7q7c0KxAqg8/6OgyMpXnfPz3OK8fH+dBr11R8X4BjI+mSXe3ciqEjEWF3/7iVxDGZpT0ZcdLMNZOZvDNPaTe0H5lVgZtS6idKqXfZz4eUUtcopTbYj8Ou8+5QSp2hlDpbKfXdhRbajTbn3aXlsXCgZFJ3l7Knc3kn8AzFTCA9YRcKil+7+xe86a9/4vl5enC2uHLF2xNhdhwddTJFyl1JAAnb3JxwxRiaoqGSOgevlYyb1niYsXSOXL7AuO0ygWLxm/X9Ck5AUmeGnNVrDeTOZISh8YyjwNyupHS2wOBYGhErkFzMmlAVK+GupihDqQwFO4upPRFhbVeCgycmSyqo9aSnJ3uAdZ1JDp+YJJMrlBTlPWjXB2hFW6sraSpbYPOadgJixRlS6TzJaJCLVrVx6VprAm+JhxwrQDdP1ErryMlJ7n58Hz99pd95z53HxkhEghw+OcmOo2OkMnmnNgCsbJ3elii/2HeCjN3QzXJfWefoibeqK8meKM9Z1lwSY9hxbLTEtajHzGQmz1Qmz5pO69rojWvWdycd5VNiMbgUw9s29rJ/aILvvXjMmZjdFnOLbYVOZb2bOOr7qFpPnyb7uoyls46b8+xl1njrbYnR2RRx3CtWB+EAgYDwtk3L2NDbXHTl2rIppZzJVluPsbA1Pt1xNTc9LTFX8DlXYjF5bU3qdZ+1xEP8Yt8wzx44yZ++ayMfvrxUMSxzxTL+8rs7+KNvvADYCzxbnvZkhBOpjB1vtO43fd205TCZzbNnIEVzLERPS9RpOeM3Gr7yWWtctzslFg6yobeJGy5azuvWd5RkJ2Xs4LSm3JWkA1CT2bxnmwidFaTNVRHh3L4Wdhwd5fDJSSLBAF3JaMXriq4ku29KOkciGixRDDNVQervODqVc1ZVUFSKOhagfdiPvDJAazzMeXawr7MpylAq7biStOXU2xLj6Mgkg6kMG+2JSQez84VijEHTkYwwnMowNpWjoCy51nYmyRdUiXXmzpzSrOlMUFDY/nLrWq63u9SC5ZqLhAJMZGvLSprK5VnWGuPCVW389JUB25IqnThaYmEnv/2Mnib6WmOOYtB9bNwW48hkljefYyXZ6XiL2z0hImxe08HT+0+UrIKbo6XZQNVqGbQCPrevxXElDY2n2T80wYWuqmS9Ek1lrHTSNbblp4Oj5/a1kM4VyOQKJYrBrcR+6ZKVnNnTxN88/AqT2TzRkDUxa1rjYaclhpcrU1venR5jGor7mo9P5Rw3irYQe1uidlyraDGUK59EWYxPB5iT0RCrbUXY3RwtsRjKf99lLcU4SoUrybYY3PODl8XQHA07Y/BdF/RV3IvLXK6kx3YP8v0XjxUXBdpiSEZIZfJOAkJ7MuJYWt3240TGasG/vitJKBBYGhaDH9GFLaUWQ5BoKMjf3XgxV53ZxXAq41gE6VzByTkHa9UcCogzMN2r2Cf2lKZ+QlFxtLhuvnP7Wnj5+BiHTkzS1xYrufE0ibKV0Xg6RyIScgZMLbS6Ui/dQS896HXHSF2d/MgrA7x+Q5cr3TRCNq+cFZy2GNZ2Jth1fJxMruBkYWgFmCuoiu/TYVseeiJoT0ScbrVf+NFuJwidSlt9ZNwrVB1s3D+UctIDrzjTqlINiPVeiUhxj4zHXx10lJQXU9k8sVCQqzd089zBk5abr2ziaI2HnXTFjmSEc/ta2OnEB7RrL19iGV1kT9A6V9892YJVMHj45CS7B6z3SUaDzjm6hqW8BbhmYDxDRyLC8rY4Q6kM6VzeSfXV7RegdMxMZvOssVfQW/efIBwUJziaSudKgqJuWYMB4X2vWcnu/nEGx9MVCQ4ttm89ba/my5nRYtCKIZ1zUlVfu66TFW1xLlrVTmeTNVlOZfOeuxQmwqWWtG5jnYgE+S8XLOcjV6yluylaEnxuKvt9dRxlKpsnkyuUWExrOhKEg1bGkL6e5cFnKMZlWmLFYjU3sXCQ1niYYyNTHBtJM5TKOO69eKR0gabHa6crxtCRjCBijde9dkJIKCANX8fgW3KOK6k4GNyDr8/2N2qrIV1mMejzi4qhGDy796kDFS0LnLbGrsF3zrJmprIFnnh1yAlSlRO2G9ZNZIsTUTISnFWvFK0ATk5knCArFM3U1zhFbBl2HhujfyzN1WcVU4H1zX1s1FrVawW5pjPpWBF6gtdZLl4WQ1dThKGUSzEkw5y1rJmupihfe+YQ//qYVTGaSld+R+0O2T804UxmV53ZZX8PK5CYCAedieL3v/o8//Cj3Ty1d5hPP7S9okJ2KlsgFg7wjvOXOZlZ0bLJp2jdWTfvstaY486ZcFkM7gn14tVtQLHtdEu5YrDjDI+8YmUuxSMhV6aabTFM40rqaoo6Y+XYyBRP25O9O5VTu5Ks5ocF2pMRWmLWHtbru5posyeikcksKXs8ub+vRvu5+0fTFRNzi8timNaVlJzeleS2GNZ3J3nstjdz/spWJytnKJWxrJIyxaTTY3VWkrbgkpEQ569s5dPv3kQ0FCwJPuvYmqa3JcbIZNZxf7q/fygY4IzuJrqbo879Ui3GAJYbrNo9uazFirfoPl7P2cq8aDFY76F3zetwuZKaYyHi4SAnJjIcPjnJuq4mggFx2tr7jYZXDHnHlVRqMWj6bH//UTtjyMpKKh+cxT0Z9Krn6rO6+c4Lxyq24yx3JUEx5XQoleGac0o7V5Z8jmu3uJQrRvDLm1dxmR3wnI7WuGsiSOdosm+Q9V1J/u6XL+Lmq9YBMDA25RRgXWlPulB0B+hulI7F0FWMAazvLrUY8lUshhMTxf2E2xIRWmJhtv7JW1jXlXSsrnEPt45eue0bSjlK9rJ1nYSD4kwi8UjpdRpKZfj9B7Zx9+P7nJW+Zsp2gZyzrIUv33wZXU1Rx3Wm0ZN6e8IKsLbFrQpyd8HUpL2q1Zy9rIVoKOC0fXAHdMFyl8TCAX5uW5XJSNBZdXYkI4QCUtLHaCKT4+P3Psu+wRT9Y2m6miOuzXAmeWb/CTYtby0Zuwn799UpoPFwMW//zN4mZ+WsFz3v37yKD1622vHNO99fK4axqUrFELOKJicyVVxJjsVQxZXkaieh+wO5M3E67DE3NJ5mytOVVGYx2I8J1+QfDVtZc16uSSgGhnUHgXIl/tn3XsAfX3eu8zovi0H/vjoe50Vva4znD404C5BnD56wZS21GNyKocM+1hS1FMNOu23+uu4koaD4to5hPllJvkDHAdzRf/fg0xkKRxyLIV/iStLn64lIT2p/fv0mPr9lF9954Sife98FzipCT2bu1eUG+ya9/IxOZ3L2wu0icbuC/up9F9T0XStcSfaAFBFuuHiF075icDzjuAzcKz3HYrCD5DoIt7qjGOdYa6/otcvMy2LoTEbJFxT77TREtxuvJR52JjIvf7+I2BvITNAcDSFi/XaXrG53JpREJFRcyWfynJywCt90EBWsNMSAiG0BWt/19Ru62fonb6m4bnpi1O/flrD8yalM0T2RSueZyhbobo5ydm+zU1F+qIorKRQMsKwl5gS145Ggs+pMRkM0xUIlfv9HXhnkoW1HWN4WZ8fRUW66fI2jGPYOjrPt0Emnv5ZGuz50ems8HKCnJcqu/nE29DQ5Muk6nY19LXzg0lWUo+XqH0uXZOxA0c02lEo7bh03Z/Y0c0Z30rGgytFxlfF0rsS1qNFjbmg842mVlGcFOlZBpChLJBggnasefF7mKAZrQi63mLRbUFsa1YLPML1iWNYS5ZFXiskCuh7HHWMA2H5klFBArAVCMMDqjgTL2+LEI0G22zU067uSBAMBcoVFS9icF0vGYmhPui2GyupNbTHM5Eo66bhHIpy7rMUqanH5iosxhuLgi4aCPPx7V3Pnhy7xjC9oEpFQ0ZWUzpesimqh6ErKMu4KPmsCAaEzGWFgLO30iXf793UgTCtJHXxe1RFHW889zTGaoyHH/2+1xCi9Xvpm3z2gC5+K18LdtiOVyVfcxGApn31DqZK9A+768GY+ZyvIeMRyJRUKirSdvRSwBfz8ll284/M/4+GXjjvFZF6+cTet5YrBtrxOTmQcBaR/95uvWsdXfuO1znk6hbfcYgArKKrTLZORkDNRJ8JBOy++aDE8Zm/W9O9P7ieTK3Dp2g6WtcQIBYQtO/tJ5wolgWf9nlDsMRSPBJ3GeBt6mp3P09lf5cpLo4+fnMhWxBh0RtvRk1MV9wVY127LJ9/IBSvbKv4GbldSluOjUzRHQxVFcmC5zyaz+YrP12N0stxiiLgtBsuVNJ7JEQkFKlJqdbBfN/trjVf+VlC8np7B5xosBnctS0ss5PR60t9Jz0EHhidY15V05PzmrVfy0TefWTLPFGMM/rQYGl4xVMtKcj/vTEacybC8wA0sV5KuoB1OZQgFhOZoyFEq7jYHesIsvwn7WuMVA7YcyzKxioFSmcqJfSb0gLcClgXPSberKcrgeNpK+QuX+vf1Sk5/Hy1vNBR0VpIdyYjjdwbdRK/0M/QE+2r/OAEpVZLuIjy3u8vN6s4EB4cnrAwS+7Wt8bBzcyYi1g00lSvGfU6UNffbNzThWZTlhf4M7apqdSlY3ZpkyFUD43wX15jymnTduf2JSDH4nIiG6Goq3dToMbuKWsduLl3bQTAgLG+LO0rDXWkLxZWxjofobr5QtFKhaDF4KS8oXUGXK1EdDxlKZWa8jl7oVfh4OmcFVcvazOtFxHAqw2QVd1UiUowpeVkFbovB657pte9T3aW4pcp10L+Plyvp6g1dfPjyNVUtI7AK9jRXbSi6aJ0kENd1diuYjmSEWDjoKJAVbXGS0ZAVYzCKYXHQwZvyrCQ3fW0xp5bBKnArN2cDTkuAE3bBlog4/lV3S42xqazVAnsGJeCFvgHSuQIFVfSv1ko4GCAZCTryeCmGlrjlwtDNBN1EQgFa42HHJx0pyRZKONWterW7Z8DKZKmwGOxV4KsD47TGw2Xpj6ESxZD0+I4r2uJk84p9QynPCVe73PQqcmwqx+BYmuvO7+MfP3QJ8XCQ46NTjuKYqWLc7fuH4g08Mpl19lTWisd9zdw3upec3a7slUQ0VHQlRYJW1127RuHIyUn2DKS40s6+2tDT5KwuV3VY1yIRCbKus3RS1ZOuDnbGw0Fet76DS1a3sbYz6azW9e85k8Wg36Pad5jpOnoRDQWJhAKMpXPsGUg5yQuahO7RZWcGeimfuCvZwMtiiIS0YshXBJ7BSpmNh4PFGEPc+zro+8VrAdfTEuMz15837TVYZrffCAeFT77t7JLvCJZ7US/evCwP/d46hdZkJS0iOfvCus3H8gmxMxl1gsppO5fbTUlWkt0uF6DPrmAusRhcDfRmS9xeCY9Xya6ohdZ4mMN2pozXajwZsapOU66KTDedTRFnBeoOEr713F5ny0dtMfzX//sk2w6NEAt5u5IGxzNOryhNWzzCqN3Px8vdBcX+Urv7xz2vZTwcYiKTdyp1AY6OTtHbEuMd5/exst1qkOi165gX+jO0QnNn8+itQIfHKy0GbYVGQoGKhAWgJNXYch9Z58cjQXqai9tq6krv//7GMwkGpCTRQBf0ndvXUuGGjIasDrGDY0Wl9caze/j6f7/SUuC2f79oMcysGMonPvfvNxeLASy3ysBYmiMjkxWKQffo0q4krzFp3RdlWUmucRMNBcjkrPvGa6EhIqxsjzuuxWr3p37P8oLNWtFB7p7mGGd0N/HdT7yeD1++xknBhuI9dfayyoprPe9ssFPC/WwxNHzwWfvooiFrNZ3K5CsmsrZE2Onjk8lXupLi7qykiaJi6GmOIlJckb1waISh8UzVFclMxMNBy//v5GrP/n1aExGnwtrLYkhGrcDtZCbn+f5dySh7BlJcsLK1xBXykSuLQfOWWJg9A+McG53inecv42Nv3lDyHm7r7O2bSrOwWuNhu2dRzjP4DMW4j3u3MTfxSIDJbL6kLYZSxVjGstYYR0enipvLeEza5TJBUaG5YzU6xqDjSKWKIWJfD+/fqdRiKLqS9MYtegMcrcCWt8X58s2XObUiUKwKL3cjOe8bCZW4ktzEwgGCAZnRlRQNWat2r+rmzqSVqZUvqBkVbDXWdzXxw5eOoxQVigFwqp+ru5JCxRhD2iPGEJrelQRw7XnL2GX3k6q26tevDXvEGGpBxxh0f7Rz+1r4zPXnlZzTngizF9jgYTHoWNEGuxrbxBgWEe1KCgaEpliIcFAq3Dw6PRGsttuR8hhDSfA560wc4aC1neXRkUlGJrP8ly88ypad/VVvwJnQrqRirvbsV2ht8TBH7W0dqymG8XS+pIeLGz056speL1riIUeRXnNOb0mbBih1Qb3H7nGk0ZPwyYmsbfp7+IRbihNqeQYJFLOSyluha/dLX2uMYyOTnruOeaFTLfXq2JFxMlOyGx2UWpv6vGq/t1YMwYAQCQY4p6+Z81a0cO7yFmfyGBgrVpqHg8IVZ3SVrNL1ZjjVFENTtKgYyid1EbEK1Dwy5cpxWzNuAoFimvB0G0VNxxvO7nZkcPf+0nTalfJT2YJnB+G4O8Zg3xvuRU0kFCCTL1RdaIDVInsmnODzDK1nqtGRjBCxs9GmPScUcIoR3ejq+zN7tcUQMHUMi4U2xUKBAM2xsOck0ZqIMDqVJW9nuZS7BeLhosUwPJEpcbH0tcU5OjLllPXDzD2NqhGPWC4Snf/fXqVoaDpa42FnovFaPTVFg6TS1h69XjehVgzT1Vu0xIqVwn0efZ/clK8QW1wB8ky+4Kn8upuiThaUp8UQDjLl6o2j0b/LstY4/WNpJ9XUK5vGzVm9TfzrRy7lLedaytCqjA8wMlGMMWhiHq6kahOuVgwJu4ivpznGtz/2ela0xUvasRebFlbKeenaDs5f0cpVG7z3JElGg86k6zW2dc1GOCgVlrAbbfV4vYeWdSbLqxpvcBVRrvW0GKxtMTN5735MOtkAsOspAiXunmgogFLWfufVLIb1HgqpnKZpgs+1ICK868I+3nR29UXVG87q5r2XrPCMQerfUVuMfrYYloArybrpQkGxult6DLz2hLVfwehk1tuVZNcxKGU1hXMXy/W1xHh1YLyka+bTrk1aZkNTNMiYndYHeJbez4Q7+8rL35qMhpw4htfK5qozuzh6corzVnivUKF0Fd9Xlveu+c7HX+85YepV9tFpAuShYMDK2hlLVw0+Q2l7Eih+977WGEoVN6OfyWIQEd5UZiHpbVJTZTvFlWQl2d+lms9au+K8LDOtNPpH02TLmha6Wd4W51sfu6qq7O7r56Xorzyzi5/tGiSbV9NW0WuLwVsxRKu+fy1s7GuhqylCQMRz4l7WEnOqkmcKPnslLGgLdTiVmTYu97M/eNO0e21fe94yUuncrNrQlPO3H7ho2r//qt0O3Iu/ef+FfPXpg854CgZNjGHR0Bv1hALilJ2XoycUHQwsdyU1x8JMZPMMpTJk86okL39Za4xHdw86iqG7Ocrvv/1s5kJvS4x0ruAU4vRMY5JWwx1k97YYiimOF5RVAANce14f157XN+1nuH3q1czmjVVcH1o+vTdFtRWeniy83DR6onX39ge3xWDJpN1dc1nptsUjnJzMVHRxLc1KKrYz8EJbX14KuuhKmnLGaHiaFX013O/tNbavclW2T4dW9l7voWUtj83VSiAg/NqV60rqNtz0utrEeLmr3JXuekc0N9rScm+Q5cUqD/eNmxVtcT5+zYZpz1lM3vualbz3NUXXq5+zkhpeMWhTLBgQzuhuwquLrb7B9Uq93GI4s8d63S/srpXu4Gpfa4zxdM6Z6O79zdd6tvKtBb1Pw7aDJ0na/ftnizu33qtATq8wvYqZakVPIu2J8KzfQyvhw9NYDGDFGV447L0a103J3Bu4A057AZ1GvNdVdTxbWm2LoXyF6ZWVVE0xRENB2qpco86kva3mWNpZpc/FBeleIXtN6hv7qlt+brSyj3u43bptV9JcxwvArW86s+rf3IuLmV1JlRaDu/eVOz7V6JispEXEvbH9n1x3buXm0hQnU0cxlA1O3T9e7x19Rk/RT6pdAnpDc69gaa3oCe35QyfnZC3AzBaD263h5eKoBT1ZL6viRpoOLV+x1sJbBv39p3MlDZVZDNrF19diyaUVw1yyadriYQ4MTzhZMBovV9J0q9TupqinxRAMWDvW9Y+mnTjNXLJhytM2ywkEhI++6cwKK7icasFnKLqS5lLHUAszK4ZiCxSvpAl3bGYuY9KvNHSMQURiwCNA1D7/AaXUp0SkA/gPYC2wD/iAUuqE/ZrbgZuBPPBxpdT3F0V6im23g4HKbCSNtgC0Kyladt7azgSRUIAtO/uJBAMlTdh0RotupVut3L4WtMWQyuTnFF+AovVT3u5C41YWc0mHhWKBULVOsdORiAQJBYQjdubUdK4kqBJ81jEGWzF0JiMlO++1xC2X4QG7V9OcXEmJMM8fsmIM7joW3e1Tn1NNRs31Fy33rHEAa8LtH5uiq9lqqjddu5RqaKWjN7jx4n/U4NrUv+l0MYbFUgx6X2awUpHLidnJBtd/4VH2DqYq2m+4kwvmMib9SrDB92NIA29WSl0IXARcKyKvA24DtiilNgBb7P8jIhux9obeBFwL3CkiizPicGclVb/pdAVr0WIo/dqhYICzepvIFxTnr2wtudF1E7o9AyliYe9Cp1rpaoo6cs7VYtCTVbWW3ckSxTA/i2EuN6GI0BoPT1udDUWXgGeMIVxqMfS1xWhPlm6U09cac7Kz5jKhtSWsDrETmTxdzdZvHJDS1WlzLMxnrt/kbDvqxUffvIHfvHq959+6m6MMjltxq5napVRDX7+5Fp9pWqYJPp+9rJlIMOC0RF9oupLFcV+tJQbAtkMjjE7lprcY5njf+BE/WwwzjlZlMW7/N2z/U8D1wD328XuAG+zn1wP3KaXSSqm9wG7gsoUU2o2+sNO1qHDaDo8W99ot5+xey1fr3igFiq6kQycm5mUtgLXK19WTvXO0GLQM1VbiTQugGPRnzHV11hoPO5O6l5sF4Iozunj9hi7PPXm1y0gXFl6wss35fTTuNNrp0jSr0ZYIk84VyBeUUxEdD1cq2w9fvnbGoGY1tO88kyvMOcVZV7fPXzFUVzBrOpPs+PNrOWdZbfGK2RKw92Wu9vnlV6Z8MeF2k/UssRhDvqAq9hjxAzXdUSISFJHngH7gYaXUk0CvUuoogP2o8wFXAAddLz9kHyt/z1tEZKuIbB0YGJjzF8i6XEnVCAasQiDdhdLLH3uOHWe4ZHWpYtBuqIKanxtJo/eDnusA1zJUW4knF8CVtKw1xts29vLGafK1p8MdIK8WY1jVkeDLN7/W02LQ1sGRk5PEw0HuuOE8/u+HX1Mqox1niISqu1imwx20de8DsZDoDWay+cqiylpJRKq7gGaDk5VU5TvOtU1ErejMpGoFbgBn2A34ymVxW+nzsdj9hrai/Gg11DRalVJ5pdRFwErgMhE5b5rTvUZYxTdXSt2llNqslNrc3e1d3FML+RpcSWCtQvudrKTKwfWWjb288exuZ5tJjW48BwujGHRdQO9cg8+JmRTD/IPP4WCAuz68uWLDm1p57briNawm53ToOIou0hORipW8tmbmmmJ5sWsBoOsRFloxRIIBRzHM1ZWkLcD5KoYze5pIRIJOpfWpRruAvCyGGy9dzUMfvZLb33EuALvsZniauSpVvxO0rUg/xhlmdcWVUieBn2DFDo6LSB+A/dhvn3YIcO8WshI4Ml9Bq+HEGGYw1dsT4WLw2WOgretKcvevXeaZPqnz1RdEMdgWQ/ccXUnNdrveaq6kkrz3BZ7oauVXLy9uODMXN4/VIM6eEKu8XtcyzHXCdP+WjmJY4OCr1RU0vzAxhnn+lpuWt/LSZ66tWrC42OiFkNf3iIQCXLCyjUvt5oJn9JS6F+cyhhqBhrYYRKRbRNrs53HgLcBO4CHgJvu0m4AH7ecPATeKSFRE1gEbgKcWWG6HnFPgNsNmLYmIo0RmuwLRm43MJ1VVs6JtfhaD7o9TzUVjtWfQz+uTjbyiLe4UCc5mT2s3ul1Itf49fdO4JmpFuw914dxCKwarK2hhXjGG5ALFGOrNuq4kkVBg2tqd1niYH/7e1fzFDaUOCa0Y3FX/SwHdzt6PFkMtM0cfcI+dWRQA7ldKfVtEfg7cLyI3AweA9wMopbaLyP3AS0AOuFUptWj71+nKwZlcpO7e+rP1U+qslYWwGK6/cAUiwnqPnjK1cuGqNjb2ebt5RMRpvT1XV9JC8MgfvMnZknIutCfCHBiuPiE6FsM8fM6vW9/JzmNjzqS90OmauvlbZh6upOQCuZLqzY2XreLKMztnXKx4FY/qebPDVXi6FPCzxTCjYlBKPQ9c7HF8CLimymvuAO6Yt3Q1kCsowsFKH3Q57lS82ZqmOmtlIRRDayLMr5bt7Ttb7v616ZO8ktFg3RVDcyw85y60ULQYqikG7RKZa6togNvecQ5rOhO88/w+/vTB7QsfYwgFyOZVSQ3GbNGuwXq5BReKaCg4544BOrX5Y9dUr65uRHSQPefDthgN77yz9iSe2Uz/ddd+A7O9SRcyxnAq0KvMermSFgK9Oqw2IbYnwtYGOvNYScfCQX7tynVO182FdyVZ75dK5+YdfPZqZXG60JaIsO+z1/Gei6vXkzQifrYYGn605fKqplYD7ckIf3LdubQlwiW9kGpBVz/Pdee2U42eTLx6KTUKupahmgtFF7kthIslEgwQkMUJPgOMT+XmHGNILJEYg6ESx2Lw4Z4MjbuktMkXCk7a10z8xuvXc/NV62YdEO1KNpbFoF1IiQaeTDqS1St1Nb9+5boFCUiKCIlIaM4b1VRDuyzH07k516046aoN7koyVKIzKf1oMTS8YsgW1Iw1DG7mkiWzaXkrfa0xp9me32mKhogEA9NWg/udYoyh+ne46Yq1C/Z5v/n69Wxe2z7zibNAWwypTM5zk55aiIYCXLiylU3L51ZTYvAvjZ6V5GvyeTVjqup8Wd2Z4Oe3e8bZfUkyGmr4YKV2950qF8on3rLwffqjJa6kuY1REeHBj1bfyMfQuPg5xtDwiqHW4PPpxCWr2yv2S240tGJoZBeKVgy5gprTJj2GpU1A/JuVtAQUQ2HOe7guVW66Yu2Culnqge6X1MhBV3f221yDz4ali58thoZfxuRmGWMwNAYdM2QlNQKRYND1vOFvNcMCs2R6JfmRUxFjMJx6upuj/NYbzuCtG3vrLcqcce/7MdcYg2Hp4meLYUm4kkyMYekhItz2jnPqLca8cFsJRjEYyvFzHUPDj1bdEsNg8BslMYaQGaOGUrSno9CoG/X4mbzJSjL4FHdPLhNjMJRT7JVkFMOCk80XTIzB4EtKs5LMGDWUUowx+C9dteFHa76gTLqqwZcYxWCYDhNjWERMgZvBr7j3/TBxMEM5fu6V1PiKIW/qGAz+pCTGYCqfDWWEGjnGICKrROTHIrJDRLaLyCfs4x0i8rCI7LIf212vuV1EdovIyyLy9sX8ArmCauhmcYali0lXNUyHbqLXqBZDDvikUupc4HXArSKyEbgN2KKU2gBssf+P/bcbgU3AtcCd9ragi0K+UDAWg8GXBALiuJCMYjCU09AWg1LqqFLqGfv5GLADWAFcD9xjn3YPcIP9/HrgPqVUWim1F9gNTL8X5TzI5U2MweBftNVgYgyGcoJLJStJRNZi7f/8JNCrlDoKlvIAeuzTVgAHXS87ZB8rf69bRGSriGwdGBiYg+gWVoGbWY0Z/ImOLZg6BkM5DW0xaESkCfga8DtKqdHpTvU4VvHNlVJ3KaU2K6U2d3d31ypGBabAzeBndGaSWbwYygn6uFdSTaNVRMJYSuHflFJftw8fF5E+++99QL99/BCwyvXylcCRhRG3EqvAzSgGgz/RFoPZj8FQji7Mbcg6BrH2wvwSsEMp9beuPz0E3GQ/vwl40HX8RhGJisg6YAPw1MKJXIopcDP4GZ2yamIMhnKCPq5jqKW76pXArwIviMhz9rE/Aj4L3C8iNwMHgPcDKKW2i8j9wEtYGU23KqUWbTsxaz8Gsxoz+BMTYzBUw88xhhkVg1LqUbzjBgCeGyErpe4A7piHXDWTy5u22wb/4riSjGIwlLFkspL8SM64kgw+JmoUg6EKQfGvxdDwozVvtvY0+JiInZUUMfsxGMoIBISA+DPG0NCKQSllN9Fr6K9hWMIUC9zMGDVUEgoEjMWw0GhNGzYWg8Gn6H2fjWIweBEMiLEYFhqtaYMmxmDwKVFjMRimIRSQxqxj8DNaMZgYg8GvmHRVw3QEg2KykhaafF4rhob+GoYljJOVZILPBg9CATExhoUmZ2tak65q8CumjsEwHSbGsAg4MQbjSjL4lEQkRDgoxt1p8MSvWUm1tMTwLTknK6mh9ZthCfOh163mNWvaETGKwVCJXy2GhlYMOsZgLAaDX+lpjtHTHKu3GAaf4tcYQ0MrhqyJMRgMhgbmv71hPZ3JaL3FqKChFUO+YLKSDAZD4/LLl66utwieNPSMmjOuJIPBYFhwGlsxaFeSUQwGg8GwYNSyg9u/iEi/iLzoOtYhIg+LyC77sd31t9tFZLeIvCwib18swQFaYmGuO7+PZa0muGcwGAwLRS0Ww93AtWXHbgO2KKU2AFvs/yMiG4EbgU32a+4UkeCCSVvG2q4k//ChSzhvRetifYTBYDCcdsyoGJRSjwDDZYevB+6xn98D3OA6fp9SKq2U2gvsBi5bGFENBoPBcCqYa4yhVyl1FMB+7LGPrwAOus47ZB8zGAwGQ4Ow0MFnryiwZ/WGiNwiIltFZOvAwMACi2EwGAyGuTJXxXBcRPoA7Md++/ghYJXrvJXAEa83UErdpZTarJTa3N3dPUcxDAaDwbDQzFUxPATcZD+/CXjQdfxGEYmKyDpgA/DU/EQ0GAwGw6lkxspnEbkXeCPQJSKHgE8BnwXuF5GbgQPA+wGUUttF5H7gJSAH3KqUyi+S7AaDwWBYBGZUDEqpD1b50zVVzr8DuGM+QhkMBoOhfjR05bPBYDAYFh5Rqv4tX0VkANhfdrgLGKyDONXwmzzgH5n8IocbP8nkJ1k0fpLJT7Jo/CZTNXnWKKUWPHvHF4rBCxHZqpTaXG85NH6TB/wjk1/kcOMnmfwki8ZPMvlJFo3fZDrV8hhXksFgMBhKMIrBYDAYDCX4WTHcVW8ByvCbPOAfmfwihxs/yeQnWTR+kslPsmj8JtMplce3MQaDwWAw1Ac/WwwGg8FgqANGMRgMBoOhFKXUgvzDap73Y2AHsB34hH28A3gY2GU/ttvHO+3zx4EvlL3XT4CXgefsfz1VPvMOrDbf42XHfw94xX7vlP18PvJEsHx8rwA7gfdWkec1wAtY+1D8PUVX3dXAM1htQl5coGs0Z5ns32oXkAam7PdYU6dr81v28e3ASeDVel6bsrF8CKs78F/XUZaPAAP2NRkDjvrk+rzoGj9P11GW/401R2wHJoC8D67PauBx+/eawqrRqqc8a7A2VHsea25dOeN8PtMJtf4D+oBL7OfN9pfYCHwOuM0+fhvwV/bzJHAV1sTgpRg21/CZr7M/t1wxvAlYD1wC/DbwtXnK82fAX9jPA0BXFXmeAi7Hmny/C7zDPr4WuAD4KvD7C3SN5iyTfc1uARK2HMftv9Xj2rS4xs/vAN+r57VxyXIV8Ih9zv46yvIR4Ass7P01X5muwJqg2m1ZXq2XLGXzz18B/+KD63MX8IdY889Ge/zUU56vAjfZz98MfHnGuXWmE+b6D6vj6luxVv59rh/v5bLzPuJxIX5CDYrBdf74NH+7GHhsnvIcBJIzyNAH7HT9/4PAF8vOuRt43wJdowWRyXW9X/SBHB8EvuuHawP8HfAu+9r8tF6yeL1nva8P1uT2G36Qpey8x4G31lsm4IvAH9rPL7flqqc827GtBCylMTrdeymlFifGICJrsSbkJ6m+29tM/KuIPCcifyoiXhsA1crNwM/nKo+ItNlP/1xEnhGRr4pIr8epK7BcD5ppd6+bzzVaSJlsOV4DfKNecojIrSLyKtaE8/F6XxsRuRhYpZT6NhADzq6XLDbvFZHnReQBEVlV7+sDnAWcJSKPicizWJNfvcfxGmAd8CMfXJ9PA79id6P+DvA/6yzPNuC99vP3AM0i0jnd5y64YhCRJizXze8opUbn+DYfUkqdD7ze/verc5TlV7D2nH7zPOQJYW049JhS6hIsJfPXXh/ncUxVkWu+12hBZLLl+DHWZkp/US85lFL/oJQ6A8v8/jR1vDYiEsDyW3/Svj6bgL+p4+/0LWCtUuoC4IfAV6j/2Alh7bVynf08wNzmkoW8t24EHgDi1P/6fBC4Wym1EmtC/irwu3WU538Ab7CV+BuAw1jxzqosqGIQkTDWj/JvSqmv24er7fZWFaXUYftxDPh34DIRCdoWxHMi8pkaZHkL8MdYweevzEOeIayg1jfs/38VuMRDnkNYP6Cm2u51QeZ/jeYtk/1b/RgrzvB6pVS6HnKU8QDwAep7bZqB87BcSANYFsPvisjmOsiCUmrI/m0A/hXLv1/XsWP/7dvAf9gybcNSFPUcPzcC9+ODewvLS3G/fY/9of1+P6uXPEqpI0qpX1JKXYw1J6KUGpnuQxdMMdjuni8BO5RSf+v6U7Xd3qq9T0hEuuznYSw/74tKqbxS6iL73/83w3tcjOXn2wlsm488ynLMfQtrsyKw9qF4qVwe2ywcE5HX2dfiw1Xe+7eZ5zWar0z2869j3cxXKaX04Dzl10ZENtiPghV4Hq7ntbFvmG6swPMXseJT71ZKba3T9dGTiL4+gz4Yz98E/ggru+7/YbmW9tRJFkTkbKxA+G9S53vLfs0B+3VfAo5hZW/pje3rMYa6bEsY4HasAP30qBmCELX+w4qoK6yUqOfsf+/ESsPagpWetQXocL1mHzCMlaJ1CCtqnwSett9nO/B5IFjlMz9nv65gP37aPv5D+30VMAmMzFUe+/garIniefs1q6vIsxkriPsqViaJThe71H6/SVumqflco/nK5PqtsrZMk8ATdbo2n7d/5122TO405Xr9Xu6xPG7LVC9Z/tK+Prt9eH2msMbOvnrJYv/t01gutnnPPwt0fTbar9Xzz6t1lud99ue9AvwzEJ1pPjctMQwGg8FQgql8NhgMBkMJRjEYDAaDoQSjGAwGg8FQglEMBoPBYCjBKAaDwWAwlGAUg+G0RETydnHQdhHZJiK/58r1rvaatSLyX0+VjAZDvTCKwXC6MmkXB23Cam72TuBTM7xmLWAUg2HJY+oYDKclIjKulGpy/X898AugC6ug6MtYxZYAH1VKPS4iTwDnAnuBe7B63n8Wqyo1CvyDUuqLp+xLGAyLhFEMhtOScsVgHzsBnIO1wUpBKTVlt+y4Vym1WUTeCPwPpdS77PNvwdpE6i9EJIrVPuP9Sqm9p/K7GAwLTajeAhgMPkJ3qAwDXxCRi7B2BDuryvlvAy4QkffZ/2/F6j9lFIOhoTGKwWDAcSXlsbpdfgprV7sLseJwU9VeBnxMKfX9UyKkwXCKMMFnw2mPiHQD/4S1c5bCWvkfVUoVsPYCCdqnjmG15dZ8H/htuwswInKWiCQxGBocYzEYTlfiIvIcltsohxVs1u2a7wS+JiLvx9qzImUffx7Iicg2rG1aP4+VqfSM3ep4ALjh1IhvMCweJvhsMBgMhhKMK8lgMBgMJRjFYDAYDIYSjGIwGAwGQwlGMRgMBoOhBKMYDAaDwVCCUQwGg8FgKMEoBoPBYDCU8P8D+zoNkvCL5LMAAAAASUVORK5CYII=\n",
      "text/plain": [
       "<Figure size 432x288 with 1 Axes>"
      ]
     },
     "metadata": {
      "needs_background": "light"
     },
     "output_type": "display_data"
    }
   ],
   "source": [
    "df.groupby('Date').count()['lat'].plot()"
   ]
  },
  {
   "cell_type": "markdown",
   "id": "4555a69c",
   "metadata": {},
   "source": [
    "Looks abit crammed , Lets fix it !"
   ]
  },
  {
   "cell_type": "code",
   "execution_count": 76,
   "id": "ceb1ff6c",
   "metadata": {},
   "outputs": [
    {
     "data": {
      "image/png": "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\n",
      "text/plain": [
       "<Figure size 432x288 with 1 Axes>"
      ]
     },
     "metadata": {
      "needs_background": "light"
     },
     "output_type": "display_data"
    }
   ],
   "source": [
    "df.groupby('Date').count()['lat'].plot()\n",
    "plt.tight_layout(pad = 0.3 , h_pad = 5)"
   ]
  },
  {
   "cell_type": "markdown",
   "id": "cac25b79",
   "metadata": {},
   "source": [
    "Now recreate this plot but create 3 separate plots with each plot representing a Reason for the 911 call"
   ]
  },
  {
   "cell_type": "code",
   "execution_count": 82,
   "id": "9be6e724",
   "metadata": {},
   "outputs": [
    {
     "data": {
      "image/png": "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\n",
      "text/plain": [
       "<Figure size 432x288 with 1 Axes>"
      ]
     },
     "metadata": {
      "needs_background": "light"
     },
     "output_type": "display_data"
    }
   ],
   "source": [
    "df[df['Reason'] == 'Traffic'].groupby('Date').count()['lat'].plot()\n",
    "plt.title('Traffic')\n",
    "plt.tight_layout(pad = 0.3 , h_pad = 5)"
   ]
  },
  {
   "cell_type": "code",
   "execution_count": 83,
   "id": "51fef9cd",
   "metadata": {},
   "outputs": [
    {
     "data": {
      "image/png": "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\n",
      "text/plain": [
       "<Figure size 432x288 with 1 Axes>"
      ]
     },
     "metadata": {
      "needs_background": "light"
     },
     "output_type": "display_data"
    }
   ],
   "source": [
    "df[df['Reason'] == 'EMS'].groupby('Date').count()['lat'].plot()\n",
    "plt.title('EMS')\n",
    "plt.tight_layout(pad = 0.3 , h_pad = 5)"
   ]
  },
  {
   "cell_type": "code",
   "execution_count": 84,
   "id": "ed3b7e96",
   "metadata": {},
   "outputs": [
    {
     "data": {
      "image/png": "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\n",
      "text/plain": [
       "<Figure size 432x288 with 1 Axes>"
      ]
     },
     "metadata": {
      "needs_background": "light"
     },
     "output_type": "display_data"
    }
   ],
   "source": [
    "df[df['Reason'] == 'Fire'].groupby('Date').count()['lat'].plot()\n",
    "plt.title('Fire')\n",
    "plt.tight_layout(pad = 0.3 , h_pad = 5)"
   ]
  },
  {
   "cell_type": "markdown",
   "id": "f6c6b169",
   "metadata": {},
   "source": [
    "#### Now let's move on to creating heatmaps with seaborn and our data. We'll first need to restructure the dataframe so that the columns become the Hours and the Index becomes the Day of the Week. There are lots of ways to do this, but I would recommend trying to combine groupby with an unstack method. "
   ]
  },
  {
   "cell_type": "code",
   "execution_count": 88,
   "id": "02e1d01e",
   "metadata": {},
   "outputs": [
    {
     "data": {
      "text/html": [
       "<div>\n",
       "<style scoped>\n",
       "    .dataframe tbody tr th:only-of-type {\n",
       "        vertical-align: middle;\n",
       "    }\n",
       "\n",
       "    .dataframe tbody tr th {\n",
       "        vertical-align: top;\n",
       "    }\n",
       "\n",
       "    .dataframe thead th {\n",
       "        text-align: right;\n",
       "    }\n",
       "</style>\n",
       "<table border=\"1\" class=\"dataframe\">\n",
       "  <thead>\n",
       "    <tr style=\"text-align: right;\">\n",
       "      <th></th>\n",
       "      <th></th>\n",
       "      <th>lat</th>\n",
       "      <th>lng</th>\n",
       "      <th>desc</th>\n",
       "      <th>zip</th>\n",
       "      <th>title</th>\n",
       "      <th>timeStamp</th>\n",
       "      <th>twp</th>\n",
       "      <th>addr</th>\n",
       "      <th>e</th>\n",
       "      <th>Reason</th>\n",
       "      <th>Month</th>\n",
       "      <th>Date</th>\n",
       "    </tr>\n",
       "    <tr>\n",
       "      <th>Day of Week</th>\n",
       "      <th>Hour</th>\n",
       "      <th></th>\n",
       "      <th></th>\n",
       "      <th></th>\n",
       "      <th></th>\n",
       "      <th></th>\n",
       "      <th></th>\n",
       "      <th></th>\n",
       "      <th></th>\n",
       "      <th></th>\n",
       "      <th></th>\n",
       "      <th></th>\n",
       "      <th></th>\n",
       "    </tr>\n",
       "  </thead>\n",
       "  <tbody>\n",
       "    <tr>\n",
       "      <th rowspan=\"5\" valign=\"top\">Fri</th>\n",
       "      <th>0</th>\n",
       "      <td>275</td>\n",
       "      <td>275</td>\n",
       "      <td>275</td>\n",
       "      <td>248</td>\n",
       "      <td>275</td>\n",
       "      <td>275</td>\n",
       "      <td>275</td>\n",
       "      <td>275</td>\n",
       "      <td>275</td>\n",
       "      <td>275</td>\n",
       "      <td>275</td>\n",
       "      <td>275</td>\n",
       "    </tr>\n",
       "    <tr>\n",
       "      <th>1</th>\n",
       "      <td>235</td>\n",
       "      <td>235</td>\n",
       "      <td>235</td>\n",
       "      <td>200</td>\n",
       "      <td>235</td>\n",
       "      <td>235</td>\n",
       "      <td>235</td>\n",
       "      <td>232</td>\n",
       "      <td>235</td>\n",
       "      <td>235</td>\n",
       "      <td>235</td>\n",
       "      <td>235</td>\n",
       "    </tr>\n",
       "    <tr>\n",
       "      <th>2</th>\n",
       "      <td>191</td>\n",
       "      <td>191</td>\n",
       "      <td>191</td>\n",
       "      <td>165</td>\n",
       "      <td>191</td>\n",
       "      <td>191</td>\n",
       "      <td>191</td>\n",
       "      <td>191</td>\n",
       "      <td>191</td>\n",
       "      <td>191</td>\n",
       "      <td>191</td>\n",
       "      <td>191</td>\n",
       "    </tr>\n",
       "    <tr>\n",
       "      <th>3</th>\n",
       "      <td>175</td>\n",
       "      <td>175</td>\n",
       "      <td>175</td>\n",
       "      <td>164</td>\n",
       "      <td>175</td>\n",
       "      <td>175</td>\n",
       "      <td>175</td>\n",
       "      <td>175</td>\n",
       "      <td>175</td>\n",
       "      <td>175</td>\n",
       "      <td>175</td>\n",
       "      <td>175</td>\n",
       "    </tr>\n",
       "    <tr>\n",
       "      <th>4</th>\n",
       "      <td>201</td>\n",
       "      <td>201</td>\n",
       "      <td>201</td>\n",
       "      <td>184</td>\n",
       "      <td>201</td>\n",
       "      <td>201</td>\n",
       "      <td>201</td>\n",
       "      <td>201</td>\n",
       "      <td>201</td>\n",
       "      <td>201</td>\n",
       "      <td>201</td>\n",
       "      <td>201</td>\n",
       "    </tr>\n",
       "  </tbody>\n",
       "</table>\n",
       "</div>"
      ],
      "text/plain": [
       "                  lat  lng  desc  zip  title  timeStamp  twp  addr    e  \\\n",
       "Day of Week Hour                                                          \n",
       "Fri         0     275  275   275  248    275        275  275   275  275   \n",
       "            1     235  235   235  200    235        235  235   232  235   \n",
       "            2     191  191   191  165    191        191  191   191  191   \n",
       "            3     175  175   175  164    175        175  175   175  175   \n",
       "            4     201  201   201  184    201        201  201   201  201   \n",
       "\n",
       "                  Reason  Month  Date  \n",
       "Day of Week Hour                       \n",
       "Fri         0        275    275   275  \n",
       "            1        235    235   235  \n",
       "            2        191    191   191  \n",
       "            3        175    175   175  \n",
       "            4        201    201   201  "
      ]
     },
     "execution_count": 88,
     "metadata": {},
     "output_type": "execute_result"
    }
   ],
   "source": [
    "hour_day = df.groupby(['Day of Week','Hour']).count()\n",
    "hour_day.head() # Need to see the DF "
   ]
  },
  {
   "cell_type": "code",
   "execution_count": 90,
   "id": "93a1b1ab",
   "metadata": {},
   "outputs": [
    {
     "data": {
      "text/html": [
       "<div>\n",
       "<style scoped>\n",
       "    .dataframe tbody tr th:only-of-type {\n",
       "        vertical-align: middle;\n",
       "    }\n",
       "\n",
       "    .dataframe tbody tr th {\n",
       "        vertical-align: top;\n",
       "    }\n",
       "\n",
       "    .dataframe thead th {\n",
       "        text-align: right;\n",
       "    }\n",
       "</style>\n",
       "<table border=\"1\" class=\"dataframe\">\n",
       "  <thead>\n",
       "    <tr style=\"text-align: right;\">\n",
       "      <th>Hour</th>\n",
       "      <th>0</th>\n",
       "      <th>1</th>\n",
       "      <th>2</th>\n",
       "      <th>3</th>\n",
       "      <th>4</th>\n",
       "      <th>5</th>\n",
       "      <th>6</th>\n",
       "      <th>7</th>\n",
       "      <th>8</th>\n",
       "      <th>9</th>\n",
       "      <th>...</th>\n",
       "      <th>14</th>\n",
       "      <th>15</th>\n",
       "      <th>16</th>\n",
       "      <th>17</th>\n",
       "      <th>18</th>\n",
       "      <th>19</th>\n",
       "      <th>20</th>\n",
       "      <th>21</th>\n",
       "      <th>22</th>\n",
       "      <th>23</th>\n",
       "    </tr>\n",
       "    <tr>\n",
       "      <th>Day of Week</th>\n",
       "      <th></th>\n",
       "      <th></th>\n",
       "      <th></th>\n",
       "      <th></th>\n",
       "      <th></th>\n",
       "      <th></th>\n",
       "      <th></th>\n",
       "      <th></th>\n",
       "      <th></th>\n",
       "      <th></th>\n",
       "      <th></th>\n",
       "      <th></th>\n",
       "      <th></th>\n",
       "      <th></th>\n",
       "      <th></th>\n",
       "      <th></th>\n",
       "      <th></th>\n",
       "      <th></th>\n",
       "      <th></th>\n",
       "      <th></th>\n",
       "      <th></th>\n",
       "    </tr>\n",
       "  </thead>\n",
       "  <tbody>\n",
       "    <tr>\n",
       "      <th>Fri</th>\n",
       "      <td>275</td>\n",
       "      <td>235</td>\n",
       "      <td>191</td>\n",
       "      <td>175</td>\n",
       "      <td>201</td>\n",
       "      <td>194</td>\n",
       "      <td>372</td>\n",
       "      <td>598</td>\n",
       "      <td>742</td>\n",
       "      <td>752</td>\n",
       "      <td>...</td>\n",
       "      <td>932</td>\n",
       "      <td>980</td>\n",
       "      <td>1039</td>\n",
       "      <td>980</td>\n",
       "      <td>820</td>\n",
       "      <td>696</td>\n",
       "      <td>667</td>\n",
       "      <td>559</td>\n",
       "      <td>514</td>\n",
       "      <td>474</td>\n",
       "    </tr>\n",
       "    <tr>\n",
       "      <th>Mon</th>\n",
       "      <td>282</td>\n",
       "      <td>221</td>\n",
       "      <td>201</td>\n",
       "      <td>194</td>\n",
       "      <td>204</td>\n",
       "      <td>267</td>\n",
       "      <td>397</td>\n",
       "      <td>653</td>\n",
       "      <td>819</td>\n",
       "      <td>786</td>\n",
       "      <td>...</td>\n",
       "      <td>869</td>\n",
       "      <td>913</td>\n",
       "      <td>989</td>\n",
       "      <td>997</td>\n",
       "      <td>885</td>\n",
       "      <td>746</td>\n",
       "      <td>613</td>\n",
       "      <td>497</td>\n",
       "      <td>472</td>\n",
       "      <td>325</td>\n",
       "    </tr>\n",
       "    <tr>\n",
       "      <th>Sat</th>\n",
       "      <td>375</td>\n",
       "      <td>301</td>\n",
       "      <td>263</td>\n",
       "      <td>260</td>\n",
       "      <td>224</td>\n",
       "      <td>231</td>\n",
       "      <td>257</td>\n",
       "      <td>391</td>\n",
       "      <td>459</td>\n",
       "      <td>640</td>\n",
       "      <td>...</td>\n",
       "      <td>789</td>\n",
       "      <td>796</td>\n",
       "      <td>848</td>\n",
       "      <td>757</td>\n",
       "      <td>778</td>\n",
       "      <td>696</td>\n",
       "      <td>628</td>\n",
       "      <td>572</td>\n",
       "      <td>506</td>\n",
       "      <td>467</td>\n",
       "    </tr>\n",
       "    <tr>\n",
       "      <th>Sun</th>\n",
       "      <td>383</td>\n",
       "      <td>306</td>\n",
       "      <td>286</td>\n",
       "      <td>268</td>\n",
       "      <td>242</td>\n",
       "      <td>240</td>\n",
       "      <td>300</td>\n",
       "      <td>402</td>\n",
       "      <td>483</td>\n",
       "      <td>620</td>\n",
       "      <td>...</td>\n",
       "      <td>684</td>\n",
       "      <td>691</td>\n",
       "      <td>663</td>\n",
       "      <td>714</td>\n",
       "      <td>670</td>\n",
       "      <td>655</td>\n",
       "      <td>537</td>\n",
       "      <td>461</td>\n",
       "      <td>415</td>\n",
       "      <td>330</td>\n",
       "    </tr>\n",
       "    <tr>\n",
       "      <th>Thu</th>\n",
       "      <td>278</td>\n",
       "      <td>202</td>\n",
       "      <td>233</td>\n",
       "      <td>159</td>\n",
       "      <td>182</td>\n",
       "      <td>203</td>\n",
       "      <td>362</td>\n",
       "      <td>570</td>\n",
       "      <td>777</td>\n",
       "      <td>828</td>\n",
       "      <td>...</td>\n",
       "      <td>876</td>\n",
       "      <td>969</td>\n",
       "      <td>935</td>\n",
       "      <td>1013</td>\n",
       "      <td>810</td>\n",
       "      <td>698</td>\n",
       "      <td>617</td>\n",
       "      <td>553</td>\n",
       "      <td>424</td>\n",
       "      <td>354</td>\n",
       "    </tr>\n",
       "  </tbody>\n",
       "</table>\n",
       "<p>5 rows × 24 columns</p>\n",
       "</div>"
      ],
      "text/plain": [
       "Hour          0    1    2    3    4    5    6    7    8    9   ...   14   15  \\\n",
       "Day of Week                                                    ...             \n",
       "Fri          275  235  191  175  201  194  372  598  742  752  ...  932  980   \n",
       "Mon          282  221  201  194  204  267  397  653  819  786  ...  869  913   \n",
       "Sat          375  301  263  260  224  231  257  391  459  640  ...  789  796   \n",
       "Sun          383  306  286  268  242  240  300  402  483  620  ...  684  691   \n",
       "Thu          278  202  233  159  182  203  362  570  777  828  ...  876  969   \n",
       "\n",
       "Hour           16    17   18   19   20   21   22   23  \n",
       "Day of Week                                            \n",
       "Fri          1039   980  820  696  667  559  514  474  \n",
       "Mon           989   997  885  746  613  497  472  325  \n",
       "Sat           848   757  778  696  628  572  506  467  \n",
       "Sun           663   714  670  655  537  461  415  330  \n",
       "Thu           935  1013  810  698  617  553  424  354  \n",
       "\n",
       "[5 rows x 24 columns]"
      ]
     },
     "execution_count": 90,
     "metadata": {},
     "output_type": "execute_result"
    }
   ],
   "source": [
    "# We can see that there are 2 columns of index.\n",
    "# we want only the \"day of week\" to be the row index, and the \"hour\" to be the column index\n",
    "hour_day = df.groupby(['Day of Week','Hour']).count()['lat'].unstack()\n",
    "hour_day.head()\n"
   ]
  },
  {
   "cell_type": "markdown",
   "id": "588cd223",
   "metadata": {},
   "source": [
    "Now create a HeatMap using this new DataFrame"
   ]
  },
  {
   "cell_type": "code",
   "execution_count": 98,
   "id": "baf65822",
   "metadata": {},
   "outputs": [
    {
     "data": {
      "text/plain": [
       "<AxesSubplot:xlabel='Hour', ylabel='Day of Week'>"
      ]
     },
     "execution_count": 98,
     "metadata": {},
     "output_type": "execute_result"
    },
    {
     "data": {
      "image/png": "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\n",
      "text/plain": [
       "<Figure size 720x432 with 2 Axes>"
      ]
     },
     "metadata": {
      "needs_background": "light"
     },
     "output_type": "display_data"
    }
   ],
   "source": [
    "plt.figure(figsize = (10,6))\n",
    "sns.heatmap(hour_day , cmap = 'coolwarm')"
   ]
  },
  {
   "cell_type": "markdown",
   "id": "3ec4479b",
   "metadata": {},
   "source": [
    "Now create a clustermap using this DataFrame"
   ]
  },
  {
   "cell_type": "code",
   "execution_count": 109,
   "id": "669c8bd7",
   "metadata": {},
   "outputs": [
    {
     "data": {
      "text/plain": [
       "<seaborn.matrix.ClusterGrid at 0x239fa5e4610>"
      ]
     },
     "execution_count": 109,
     "metadata": {},
     "output_type": "execute_result"
    },
    {
     "data": {
      "image/png": "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\n",
      "text/plain": [
       "<Figure size 720x720 with 4 Axes>"
      ]
     },
     "metadata": {
      "needs_background": "light"
     },
     "output_type": "display_data"
    }
   ],
   "source": [
    "sns.clustermap(hour_day , cmap = 'coolwarm')"
   ]
  },
  {
   "cell_type": "markdown",
   "id": "146513a4",
   "metadata": {},
   "source": [
    "Now repeat these same plots and operations, for a DataFrame that shows the Month as the column"
   ]
  },
  {
   "cell_type": "code",
   "execution_count": 115,
   "id": "a9bac913",
   "metadata": {},
   "outputs": [
    {
     "data": {
      "text/html": [
       "<div>\n",
       "<style scoped>\n",
       "    .dataframe tbody tr th:only-of-type {\n",
       "        vertical-align: middle;\n",
       "    }\n",
       "\n",
       "    .dataframe tbody tr th {\n",
       "        vertical-align: top;\n",
       "    }\n",
       "\n",
       "    .dataframe thead th {\n",
       "        text-align: right;\n",
       "    }\n",
       "</style>\n",
       "<table border=\"1\" class=\"dataframe\">\n",
       "  <thead>\n",
       "    <tr style=\"text-align: right;\">\n",
       "      <th>Month</th>\n",
       "      <th>1</th>\n",
       "      <th>2</th>\n",
       "      <th>3</th>\n",
       "      <th>4</th>\n",
       "      <th>5</th>\n",
       "      <th>6</th>\n",
       "      <th>7</th>\n",
       "      <th>8</th>\n",
       "      <th>12</th>\n",
       "    </tr>\n",
       "    <tr>\n",
       "      <th>Day of Week</th>\n",
       "      <th></th>\n",
       "      <th></th>\n",
       "      <th></th>\n",
       "      <th></th>\n",
       "      <th></th>\n",
       "      <th></th>\n",
       "      <th></th>\n",
       "      <th></th>\n",
       "      <th></th>\n",
       "    </tr>\n",
       "  </thead>\n",
       "  <tbody>\n",
       "    <tr>\n",
       "      <th>Fri</th>\n",
       "      <td>1970</td>\n",
       "      <td>1581</td>\n",
       "      <td>1525</td>\n",
       "      <td>1958</td>\n",
       "      <td>1730</td>\n",
       "      <td>1649</td>\n",
       "      <td>2045</td>\n",
       "      <td>1310</td>\n",
       "      <td>1065</td>\n",
       "    </tr>\n",
       "    <tr>\n",
       "      <th>Mon</th>\n",
       "      <td>1727</td>\n",
       "      <td>1964</td>\n",
       "      <td>1535</td>\n",
       "      <td>1598</td>\n",
       "      <td>1779</td>\n",
       "      <td>1617</td>\n",
       "      <td>1692</td>\n",
       "      <td>1511</td>\n",
       "      <td>1257</td>\n",
       "    </tr>\n",
       "    <tr>\n",
       "      <th>Sat</th>\n",
       "      <td>2291</td>\n",
       "      <td>1441</td>\n",
       "      <td>1266</td>\n",
       "      <td>1734</td>\n",
       "      <td>1444</td>\n",
       "      <td>1388</td>\n",
       "      <td>1695</td>\n",
       "      <td>1099</td>\n",
       "      <td>978</td>\n",
       "    </tr>\n",
       "    <tr>\n",
       "      <th>Sun</th>\n",
       "      <td>1960</td>\n",
       "      <td>1229</td>\n",
       "      <td>1102</td>\n",
       "      <td>1488</td>\n",
       "      <td>1424</td>\n",
       "      <td>1333</td>\n",
       "      <td>1672</td>\n",
       "      <td>1021</td>\n",
       "      <td>907</td>\n",
       "    </tr>\n",
       "    <tr>\n",
       "      <th>Thu</th>\n",
       "      <td>1584</td>\n",
       "      <td>1596</td>\n",
       "      <td>1900</td>\n",
       "      <td>1601</td>\n",
       "      <td>1590</td>\n",
       "      <td>2065</td>\n",
       "      <td>1646</td>\n",
       "      <td>1230</td>\n",
       "      <td>1266</td>\n",
       "    </tr>\n",
       "  </tbody>\n",
       "</table>\n",
       "</div>"
      ],
      "text/plain": [
       "Month          1     2     3     4     5     6     7     8     12\n",
       "Day of Week                                                      \n",
       "Fri          1970  1581  1525  1958  1730  1649  2045  1310  1065\n",
       "Mon          1727  1964  1535  1598  1779  1617  1692  1511  1257\n",
       "Sat          2291  1441  1266  1734  1444  1388  1695  1099   978\n",
       "Sun          1960  1229  1102  1488  1424  1333  1672  1021   907\n",
       "Thu          1584  1596  1900  1601  1590  2065  1646  1230  1266"
      ]
     },
     "execution_count": 115,
     "metadata": {},
     "output_type": "execute_result"
    }
   ],
   "source": [
    "month_day = df.groupby(['Day of Week','Month']).count()['lat'].unstack()\n",
    "month_day.head()"
   ]
  },
  {
   "cell_type": "code",
   "execution_count": 116,
   "id": "48b28c88",
   "metadata": {},
   "outputs": [
    {
     "data": {
      "text/plain": [
       "<AxesSubplot:xlabel='Month', ylabel='Day of Week'>"
      ]
     },
     "execution_count": 116,
     "metadata": {},
     "output_type": "execute_result"
    },
    {
     "data": {
      "image/png": "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\n",
      "text/plain": [
       "<Figure size 720x432 with 2 Axes>"
      ]
     },
     "metadata": {
      "needs_background": "light"
     },
     "output_type": "display_data"
    }
   ],
   "source": [
    "plt.figure(figsize = (10,6))\n",
    "sns.heatmap(month_day , cmap = 'coolwarm')"
   ]
  },
  {
   "cell_type": "code",
   "execution_count": 117,
   "id": "df4804ec",
   "metadata": {},
   "outputs": [
    {
     "data": {
      "text/plain": [
       "<seaborn.matrix.ClusterGrid at 0x23983b5e250>"
      ]
     },
     "execution_count": 117,
     "metadata": {},
     "output_type": "execute_result"
    },
    {
     "data": {
      "image/png": "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\n",
      "text/plain": [
       "<Figure size 720x720 with 4 Axes>"
      ]
     },
     "metadata": {
      "needs_background": "light"
     },
     "output_type": "display_data"
    }
   ],
   "source": [
    "sns.clustermap(month_day , cmap = 'coolwarm')"
   ]
  }
 ],
 "metadata": {
  "kernelspec": {
   "display_name": "Python 3 (ipykernel)",
   "language": "python",
   "name": "python3"
  },
  "language_info": {
   "codemirror_mode": {
    "name": "ipython",
    "version": 3
   },
   "file_extension": ".py",
   "mimetype": "text/x-python",
   "name": "python",
   "nbconvert_exporter": "python",
   "pygments_lexer": "ipython3",
   "version": "3.9.12"
  }
 },
 "nbformat": 4,
 "nbformat_minor": 5
}
